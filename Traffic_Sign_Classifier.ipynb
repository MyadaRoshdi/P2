{
 "cells": [
  {
   "cell_type": "markdown",
   "metadata": {},
   "source": [
    "# Self-Driving Car Engineer Nanodegree\n",
    "## Deep Learning\n",
    "## Project: Build a Traffic Sign Recognition Classifier\n",
    "In this notebook, a template is provided for you to implement your functionality in stages which is required to successfully complete this project. If additional code is required that cannot be included in the notebook, be sure that the Python code is successfully imported and included in your submission, if necessary. Sections that begin with 'Implementation' in the header indicate where you should begin your implementation for your project. Note that some sections of implementation are optional, and will be marked with 'Optional' in the header.\n",
    "In addition to implementing code, there will be questions that you must answer which relate to the project and your implementation. Each section where you will answer a question is preceded by a 'Question' header. Carefully read each question and provide thorough answers in the following text boxes that begin with 'Answer:'. Your project submission will be evaluated based on your answers to each of the questions and the implementation you provide.\n",
    "Note: Code and Markdown cells can be executed using the Shift + Enter keyboard shortcut. In addition, Markdown cells can be edited by typically double-clicking the cell to enter edit mode."
   ]
  },
  {
   "cell_type": "markdown",
   "metadata": {},
   "source": [
    "# 1. Dataset Exploration"
   ]
  },
  {
   "cell_type": "markdown",
   "metadata": {},
   "source": [
    "## Load Data\n",
    "\n",
    "This part is modified to load the Traffic Sign Classifier data, input image: (32x32x3), output: 43-classes.\n",
    "The imported data size is: Training Set:   34799 samples, Validation Set: 4410 samples, Test Set: 12630 samples.\n",
    "So, As shown the validation set is 12.6 % of Training set"
   ]
  },
  {
   "cell_type": "code",
   "execution_count": 1,
   "metadata": {},
   "outputs": [
    {
     "name": "stdout",
     "output_type": "stream",
     "text": [
      "\n",
      "Image Shape: (32, 32, 3)\n",
      "\n",
      "Training Set:   34799 samples\n",
      "Validation Set: 4410 samples\n",
      "Test Set:       12630 samples\n",
      "\n",
      "Percentage of Validation Set: 12.672777953389467%\n",
      "\n",
      "Sample of output classes in Training set before shuffle:\n",
      "[41 41 41 41 41 41 41 41 41 41 41 41 41 41 41 41 41 41 41 41 41 41 41 41 41\n",
      " 41 41 41 41 41 41 41 41 41 41 41 41 41 41 41 41 41 41 41 41 41 41 41 41 41\n",
      " 41 41 41 41 41 41 41 41 41 41 41 41 41 41 41 41 41 41 41 41 41 41 41 41 41\n",
      " 41 41 41 41 41 41 41 41 41 41 41 41 41 41 41 41 41 41 41 41 41 41 41 41 41\n",
      " 41 41 41 41 41 41 41 41 41 41 41 41 41 41 41 41 41 41 41 41 41 41 41 41 41\n",
      " 41 41 41 41 41 41 41 41 41 41 41 41 41 41 41 41 41 41 41 41 41 41 41 41 41\n",
      " 41 41 41 41 41 41 41 41 41 41 41 41 41 41 41 41 41 41 41 41 41 41 41 41 41\n",
      " 41 41 41 41 41 41 41 41 41 41 41 41 41 41 41 41 41 41 41 41 41 41 41 41 41\n",
      " 41 41 41 41 41 41 41 41 41 41 31 31 31 31 31 31 31 31 31 31 31 31 31 31 31\n",
      " 31 31 31 31 31 31 31 31 31 31 31 31 31 31 31 31 31 31 31 31 31 31 31 31 31\n",
      " 31 31 31 31 31 31 31 31 31 31 31 31 31 31 31 31 31 31 31 31 31 31 31 31 31\n",
      " 31 31 31 31 31 31 31 31 31 31 31 31 31 31 31 31 31 31 31 31 31 31 31 31 31\n",
      " 31 31 31 31 31 31 31 31 31 31 31 31 31 31 31 31 31 31 31 31 31 31 31 31 31\n",
      " 31 31 31 31 31 31 31 31 31 31 31 31 31 31 31 31 31 31 31 31 31 31 31 31 31\n",
      " 31 31 31 31 31 31 31 31 31 31 31 31 31 31 31 31 31 31 31 31 31 31 31 31 31\n",
      " 31 31 31 31 31 31 31 31 31 31 31 31 31 31 31 31 31 31 31 31 31 31 31 31 31\n",
      " 31 31 31 31 31 31 31 31 31 31 31 31 31 31 31 31 31 31 31 31 31 31 31 31 31\n",
      " 31 31 31 31 31 31 31 31 31 31 31 31 31 31 31 31 31 31 31 31 31 31 31 31 31\n",
      " 31 31 31 31 31 31 31 31 31 31 31 31 31 31 31 31 31 31 31 31 31 31 31 31 31\n",
      " 31 31 31 31 31 31 31 31 31 31 31 31 31 31 31 31 31 31 31 31 31 31 31 31 31\n",
      " 31 31 31 31 31 31 31 31 31 31 31 31 31 31 31 31 31 31 31 31 31 31 31 31 31\n",
      " 31 31 31 31 31 31 31 31 31 31 31 31 31 31 31 31 31 31 31 31 31 31 31 31 31\n",
      " 31 31 31 31 31 31 31 31 31 31 31 31 31 31 31 31 31 31 31 31 31 31 31 31 31\n",
      " 31 31 31 31 31 31 31 31 31 31 31 31 31 31 31 31 31 31 31 31 31 31 31 31 31\n",
      " 31 31 31 31 31 31 31 31 31 31 31 31 31 31 31 31 31 31 31 31 31 31 31 31 31\n",
      " 31 31 31 31 31 31 31 31 31 31 31 31 31 31 31 31 31 31 31 31 31 31 31 31 31\n",
      " 31 31 31 31 31 31 31 31 31 31 31 31 31 31 31 31 31 31 31 31 31 31 31 31 31\n",
      " 31 31 31 31 31 31 31 31 31 31 31 31 31 31 31 31 31 31 31 31 31 31 31 31 31\n",
      " 31 31 31 31 31 31 31 31 31 31 31 31 31 31 31 31 31 31 31 31 31 31 31 31 31\n",
      " 31 31 31 31 31 31 31 31 31 31 31 31 31 31 31 31 31 31 31 31 31 31 31 31 31\n",
      " 31 31 31 31 31 31 31 31 31 31 31 31 31 31 31 31 31 31 31 31 31 31 31 31 31\n",
      " 31 31 31 31 31 31 31 31 31 31 31 31 31 31 31 31 31 31 31 31 31 31 31 31 31\n",
      " 31 31 31 31 31 31 31 31 31 31 31 31 31 31 31 31 31 31 31 31 31 31 31 31 31\n",
      " 31 31 31 31 31 31 31 31 31 31 31 31 31 31 31 31 31 31 31 31 31 31 31 31 31\n",
      " 31 31 31 31 31 31 31 31 31 31 31 31 31 31 31 31 31 31 31 31 31 31 31 31 31\n",
      " 31 31 31 31 31 31 31 31 31 31 31 31 31 31 31 31 31 31 31 31 31 31 31 31 31\n",
      " 36 36 36 36 36 36 36 36 36 36 36 36 36 36 36 36 36 36 36 36 36 36 36 36 36\n",
      " 36 36 36 36 36 36 36 36 36 36 36 36 36 36 36 36 36 36 36 36 36 36 36 36 36\n",
      " 36 36 36 36 36 36 36 36 36 36 36 36 36 36 36 36 36 36 36 36 36 36 36 36 36\n",
      " 36 36 36 36 36 36 36 36 36 36 36 36 36 36 36 36 36 36 36 36 36 36 36 36 36]\n",
      "\n",
      "Sample of output classes in Validation set before shuffle:\n",
      "[41 41 41 41 41 41 41 41 41 41 41 41 41 41 41 41 41 41 41 41 41 41 41 41 41\n",
      " 41 41 41 41 41 41 41 41 41 41 41 41 41 41 41 41 41 41 41 41 41 41 41 41 41\n",
      " 41 41 41 41 41 41 41 41 41 41 41 41 41 41 41 41 41 41 41 41 41 41 41 41 41\n",
      " 41 41 41 41 41 41 41 41 41 41 41 41 41 41 41 41 41 41 41 41 41 41 41 41 41\n",
      " 41 41 41 41 41 41 41 41 41 41 41 41 41 41 41 41 41 41 41 41 41 41 41 41 41\n",
      " 41 41 41 41 41 41 41 41 41 41 41 41 41 41 41 41 41 41 41 41 41 41 41 41 41\n",
      " 41 41 41 41 41 41 41 41 41 41 41 41 41 41 41 41 41 41 41 41 41 41 41 41 41\n",
      " 41 41 41 41 41 41 41 41 41 41 41 41 41 41 41 41 41 41 41 41 41 41 41 41 41\n",
      " 41 41 41 41 41 41 41 41 41 41 31 31 31 31 31 31 31 31 31 31 31 31 31 31 31\n",
      " 31 31 31 31 31 31 31 31 31 31 31 31 31 31 31 31 31 31 31 31 31 31 31 31 31\n",
      " 31 31 31 31 31 31 31 31 31 31 31 31 31 31 31 31 31 31 31 31 31 31 31 31 31\n",
      " 31 31 31 31 31 31 31 31 31 31 31 31 31 31 31 31 31 31 31 31 31 31 31 31 31\n",
      " 31 31 31 31 31 31 31 31 31 31 31 31 31 31 31 31 31 31 31 31 31 31 31 31 31\n",
      " 31 31 31 31 31 31 31 31 31 31 31 31 31 31 31 31 31 31 31 31 31 31 31 31 31\n",
      " 31 31 31 31 31 31 31 31 31 31 31 31 31 31 31 31 31 31 31 31 31 31 31 31 31\n",
      " 31 31 31 31 31 31 31 31 31 31 31 31 31 31 31 31 31 31 31 31 31 31 31 31 31\n",
      " 31 31 31 31 31 31 31 31 31 31 31 31 31 31 31 31 31 31 31 31 31 31 31 31 31\n",
      " 31 31 31 31 31 31 31 31 31 31 31 31 31 31 31 31 31 31 31 31 31 31 31 31 31\n",
      " 31 31 31 31 31 31 31 31 31 31 31 31 31 31 31 31 31 31 31 31 31 31 31 31 31\n",
      " 31 31 31 31 31 31 31 31 31 31 31 31 31 31 31 31 31 31 31 31 31 31 31 31 31\n",
      " 31 31 31 31 31 31 31 31 31 31 31 31 31 31 31 31 31 31 31 31 31 31 31 31 31\n",
      " 31 31 31 31 31 31 31 31 31 31 31 31 31 31 31 31 31 31 31 31 31 31 31 31 31\n",
      " 31 31 31 31 31 31 31 31 31 31 31 31 31 31 31 31 31 31 31 31 31 31 31 31 31\n",
      " 31 31 31 31 31 31 31 31 31 31 31 31 31 31 31 31 31 31 31 31 31 31 31 31 31\n",
      " 31 31 31 31 31 31 31 31 31 31 31 31 31 31 31 31 31 31 31 31 31 31 31 31 31\n",
      " 31 31 31 31 31 31 31 31 31 31 31 31 31 31 31 31 31 31 31 31 31 31 31 31 31\n",
      " 31 31 31 31 31 31 31 31 31 31 31 31 31 31 31 31 31 31 31 31 31 31 31 31 31\n",
      " 31 31 31 31 31 31 31 31 31 31 31 31 31 31 31 31 31 31 31 31 31 31 31 31 31\n",
      " 31 31 31 31 31 31 31 31 31 31 31 31 31 31 31 31 31 31 31 31 31 31 31 31 31\n",
      " 31 31 31 31 31 31 31 31 31 31 31 31 31 31 31 31 31 31 31 31 31 31 31 31 31\n",
      " 31 31 31 31 31 31 31 31 31 31 31 31 31 31 31 31 31 31 31 31 31 31 31 31 31\n",
      " 31 31 31 31 31 31 31 31 31 31 31 31 31 31 31 31 31 31 31 31 31 31 31 31 31\n",
      " 31 31 31 31 31 31 31 31 31 31 31 31 31 31 31 31 31 31 31 31 31 31 31 31 31\n",
      " 31 31 31 31 31 31 31 31 31 31 31 31 31 31 31 31 31 31 31 31 31 31 31 31 31\n",
      " 31 31 31 31 31 31 31 31 31 31 31 31 31 31 31 31 31 31 31 31 31 31 31 31 31\n",
      " 31 31 31 31 31 31 31 31 31 31 31 31 31 31 31 31 31 31 31 31 31 31 31 31 31\n",
      " 36 36 36 36 36 36 36 36 36 36 36 36 36 36 36 36 36 36 36 36 36 36 36 36 36\n",
      " 36 36 36 36 36 36 36 36 36 36 36 36 36 36 36 36 36 36 36 36 36 36 36 36 36\n",
      " 36 36 36 36 36 36 36 36 36 36 36 36 36 36 36 36 36 36 36 36 36 36 36 36 36\n",
      " 36 36 36 36 36 36 36 36 36 36 36 36 36 36 36 36 36 36 36 36 36 36 36 36 36]\n"
     ]
    }
   ],
   "source": [
    "# Load pickled data\n",
    "import pickle\n",
    "\n",
    "import random\n",
    "import numpy as np\n",
    "import matplotlib.pyplot as plt\n",
    "%matplotlib inline\n",
    "\n",
    "training_file = 'train.p'\n",
    "validation_file= 'valid.p'\n",
    "testing_file = 'test.p'\n",
    "\n",
    "\n",
    "with open(training_file, mode='rb') as f:\n",
    "    train = pickle.load(f)\n",
    "with open(validation_file, mode='rb') as f:\n",
    "    valid = pickle.load(f)\n",
    "with open(testing_file, mode='rb') as f:\n",
    "    test = pickle.load(f)\n",
    "  \n",
    "X_train, y_train = train['features'], train['labels']\n",
    "X_validation, y_validation = valid['features'], valid['labels']\n",
    "X_test, y_test = test['features'], test['labels']\n",
    "\n",
    "\n",
    "assert(len(X_train) == len(y_train))\n",
    "assert(len(X_validation) == len(y_validation))\n",
    "assert(len(X_test) == len(y_test))\n",
    "\n",
    "\n",
    "print()\n",
    "print(\"Image Shape: {}\".format(X_train[0].shape))\n",
    "print()\n",
    "print(\"Training Set:   {} samples\".format(len(X_train)))\n",
    "print(\"Validation Set: {} samples\".format(len(X_validation)))\n",
    "print(\"Test Set:       {} samples\\n\".format(len(X_test)))\n",
    "print(\"Percentage of Validation Set: {}%\\n\".format((len(X_validation)/len(X_train))* 100))\n",
    "print(\"Sample of output classes in Training set before shuffle:\")\n",
    "print(y_train[0:1000])\n",
    "print(\"\\nSample of output classes in Validation set before shuffle:\")\n",
    "print(y_train[0:1000])"
   ]
  },
  {
   "cell_type": "markdown",
   "metadata": {},
   "source": [
    "Since in my approach as shown in later sections, I will augment more data to both training set and validation set, So I prefer to put all the data in one container, apply all modifications then split."
   ]
  },
  {
   "cell_type": "code",
   "execution_count": 3,
   "metadata": {},
   "outputs": [
    {
     "name": "stdout",
     "output_type": "stream",
     "text": [
      "Current Training Set:   39209 samples\n"
     ]
    }
   ],
   "source": [
    "# Put all data in one container or now\n",
    "\n",
    "X_train = np.concatenate((X_train, X_validation), axis=0)\n",
    "y_train = np.concatenate((y_train, y_validation), axis=0)\n",
    "print(\"Current Training Set:   {} samples\".format(len(X_train)))"
   ]
  },
  {
   "cell_type": "markdown",
   "metadata": {},
   "source": [
    "\n",
    "Shuffle the  data.\n"
   ]
  },
  {
   "cell_type": "code",
   "execution_count": 4,
   "metadata": {},
   "outputs": [
    {
     "name": "stdout",
     "output_type": "stream",
     "text": [
      "Sample of output classes in Training set after shuffle:\n",
      "[13 37 14 12  2  3 23 40  1  2 23  9  4 38 13 18 39 38 17 17 22 13  1 38 13\n",
      "  1 25 19  4  6  2 20 10  9  8 25 28  8 33  1 38  3  2 18  5  8 13 33 12 28\n",
      "  3  2  4 25 25 11  2 23 13 32 11 18 19 23  7 15 35  8 12  5 33 17 31  8 10\n",
      "  1 25 11 37  3  1 10  7 13 25 26 25  2 21 10 13 17 22 12  3 35 14 12  7 11\n",
      "  7 14 13 23 26  5 31 10 26  1 13  1  3 11 38 15 10 11 11 10 16 29 31 13  6\n",
      " 33 26  5 15  5 26 27 25 26 36  7  9 10 38 41 13 24 12 20  1  2 30 35 25 12\n",
      " 15 18 10  5 42  5 12 12  8  8 13 38 13 37 34 13  3 23  5 23 35  1  5 41 17\n",
      " 18 25 11  9  1  1  8 17 17  2  4 10  3 26 14 35 35 11  9 12 21  6  0 14 31\n",
      " 25 38 10 28  6  1 11 10  9  9  9 10 14  5  3 29 36 40  3  1 20  2 13  7 35\n",
      " 25 12 12  1  9 40 12  3 38  2 10  8 18 32 10  2 18 12 15  7 16 25 17 23 18\n",
      "  7 10 33  6 22  7 33  1 35  1 23 42 31 24 13 39  3 31 25 17 35 38  7  1  9\n",
      "  5  1 11  1 20 26  7  1 35 12  2 36 18 28  1 17 12 10  1 13 41 10 13 11 35\n",
      "  9 38 11 19  3 15  7  7 38 18 18  3 12 13  7 13 24  5  4 25 25 12 25  5  6\n",
      " 19  4 16 10 32 38  6 38 38 17 23  7 31 25  4 10  2 12  3  2 10  7 12 38  3\n",
      " 13 10 12 18  8  9  2 23 20  9  5  1 25 17 33 38 23  3 24 13 10  6 17  9 18\n",
      " 41 28  1 18 13 31 23  5 14 38 10  2  2 10  7 20 10  5  7 28 13 17  5  4 28\n",
      "  2 34 10 35  2  9  4 35  8  7 10 11 12 17 13  9 25 25  7 33 10 15  9  5 12\n",
      "  2  4  2 13  8 13 35 26  8  8  5 10 10 13 18 41  2 13 37 13  2  2 40 18 16\n",
      " 31 38  4 35 11 31 35  4 26 13 18 12 13 38 38 13 12 12 25  4  9  2 16  9  2\n",
      " 28 10 40 10 28 38  1 40  7 36 16 42  2 11 33 25 12  5  2 11 11  9 12  3  7\n",
      "  5  4  3 20 17  4  1 25 26 10 30  0  7 12 33  4 25  6 42 10  2 26  8  4  3\n",
      " 36  7 35 12  4  1  2 12 31 35 23  7 17 25 18  4 12 30 11 19 39 35 10  2 25\n",
      " 38 14  4  3 10  8 10 26 28  5  1  3  8 37  2 10 17  8 39 17 10  9 31 38 26\n",
      " 38 10  2 27 14  4 10 25 12  8 18 20 13 10  5 14  1 18 31 38 27 37  4 35 10\n",
      "  3  5 10  8 13 16  5 13 27  2  4 29 25 25 31 25 12  2  1  1 38  5 15  7 13\n",
      " 20  4 30 39 12 18 12 38 12  3  4  8 34 35  3 35  9  5 13 11  4  1  9  5 38\n",
      " 18  3  1  4  5 35 13  7  1 31 17  2  5 35  8 18  2 15  4 23  3  8  4 18  7\n",
      " 13 13 41 10  3 10 12 11 12  3  1  1  8 33 19 23  8 17  1 25  4 15  1  2 39\n",
      "  5  4 18  7 12 12  2  1 11 15 15  6 13 29 35  6 20  1 35 39 14 11  7  4 33\n",
      " 38  3 32  1  8  4 17  9 35  3  4  2 11 31  1 11 38 12  7 13  7  5 10 38 13\n",
      "  5  6 25  1 13 38 38  5 12 41 13 26 12  3 25 12 26 36  1 15 18 13 33  1 18\n",
      " 17 31  9 33 18  5 18  5  5 22 42 38 10 23 38 39  1 42 40 35 14  8 25 14  1\n",
      "  2  3  1 10  2 25 11 22  3 13 16 14  7  3  1  2 35  1 13 30  8 14  7 31  7\n",
      "  5 12 13  4 13 24  1 17  1 17  8  9  5 16 14 20 10 10 25  5 35 25  5 31 13\n",
      " 13 10 10  9  5  7 36 38 36  5 25 14  5  8  5 39 15  1 11 13 20  8  1  1  1\n",
      "  5  6  7  4 10 39 18  1 25 12 14 14 12  4 27 18 10 10  4  7  1 25 38 12  3\n",
      " 13  4 18  1 33  1 10 33  7 17 10 35  1  9 17 38 35 25 32  9  3  5  2 10  2\n",
      " 38  2 33 18 39 10  3  8 38 23 33 11  5 25 17 13 10  3  3 32  2 38  7 10  3\n",
      " 27  2  4  2 18  8 17  7 13 10 38  7  2 31 39  5 41 12  4  1  2 17 38  7 38\n",
      "  5 38 12  1 13 22  4  7  5 40 31  1 35 13 40 13 17  1 42 13 10  4 18 12 22]\n",
      "\n",
      "Sample of output classes in Validation set after shuffle:\n",
      "[13 37 14 12  2  3 23 40  1  2 23  9  4 38 13 18 39 38 17 17 22 13  1 38 13\n",
      "  1 25 19  4  6  2 20 10  9  8 25 28  8 33  1 38  3  2 18  5  8 13 33 12 28\n",
      "  3  2  4 25 25 11  2 23 13 32 11 18 19 23  7 15 35  8 12  5 33 17 31  8 10\n",
      "  1 25 11 37  3  1 10  7 13 25 26 25  2 21 10 13 17 22 12  3 35 14 12  7 11\n",
      "  7 14 13 23 26  5 31 10 26  1 13  1  3 11 38 15 10 11 11 10 16 29 31 13  6\n",
      " 33 26  5 15  5 26 27 25 26 36  7  9 10 38 41 13 24 12 20  1  2 30 35 25 12\n",
      " 15 18 10  5 42  5 12 12  8  8 13 38 13 37 34 13  3 23  5 23 35  1  5 41 17\n",
      " 18 25 11  9  1  1  8 17 17  2  4 10  3 26 14 35 35 11  9 12 21  6  0 14 31\n",
      " 25 38 10 28  6  1 11 10  9  9  9 10 14  5  3 29 36 40  3  1 20  2 13  7 35\n",
      " 25 12 12  1  9 40 12  3 38  2 10  8 18 32 10  2 18 12 15  7 16 25 17 23 18\n",
      "  7 10 33  6 22  7 33  1 35  1 23 42 31 24 13 39  3 31 25 17 35 38  7  1  9\n",
      "  5  1 11  1 20 26  7  1 35 12  2 36 18 28  1 17 12 10  1 13 41 10 13 11 35\n",
      "  9 38 11 19  3 15  7  7 38 18 18  3 12 13  7 13 24  5  4 25 25 12 25  5  6\n",
      " 19  4 16 10 32 38  6 38 38 17 23  7 31 25  4 10  2 12  3  2 10  7 12 38  3\n",
      " 13 10 12 18  8  9  2 23 20  9  5  1 25 17 33 38 23  3 24 13 10  6 17  9 18\n",
      " 41 28  1 18 13 31 23  5 14 38 10  2  2 10  7 20 10  5  7 28 13 17  5  4 28\n",
      "  2 34 10 35  2  9  4 35  8  7 10 11 12 17 13  9 25 25  7 33 10 15  9  5 12\n",
      "  2  4  2 13  8 13 35 26  8  8  5 10 10 13 18 41  2 13 37 13  2  2 40 18 16\n",
      " 31 38  4 35 11 31 35  4 26 13 18 12 13 38 38 13 12 12 25  4  9  2 16  9  2\n",
      " 28 10 40 10 28 38  1 40  7 36 16 42  2 11 33 25 12  5  2 11 11  9 12  3  7\n",
      "  5  4  3 20 17  4  1 25 26 10 30  0  7 12 33  4 25  6 42 10  2 26  8  4  3\n",
      " 36  7 35 12  4  1  2 12 31 35 23  7 17 25 18  4 12 30 11 19 39 35 10  2 25\n",
      " 38 14  4  3 10  8 10 26 28  5  1  3  8 37  2 10 17  8 39 17 10  9 31 38 26\n",
      " 38 10  2 27 14  4 10 25 12  8 18 20 13 10  5 14  1 18 31 38 27 37  4 35 10\n",
      "  3  5 10  8 13 16  5 13 27  2  4 29 25 25 31 25 12  2  1  1 38  5 15  7 13\n",
      " 20  4 30 39 12 18 12 38 12  3  4  8 34 35  3 35  9  5 13 11  4  1  9  5 38\n",
      " 18  3  1  4  5 35 13  7  1 31 17  2  5 35  8 18  2 15  4 23  3  8  4 18  7\n",
      " 13 13 41 10  3 10 12 11 12  3  1  1  8 33 19 23  8 17  1 25  4 15  1  2 39\n",
      "  5  4 18  7 12 12  2  1 11 15 15  6 13 29 35  6 20  1 35 39 14 11  7  4 33\n",
      " 38  3 32  1  8  4 17  9 35  3  4  2 11 31  1 11 38 12  7 13  7  5 10 38 13\n",
      "  5  6 25  1 13 38 38  5 12 41 13 26 12  3 25 12 26 36  1 15 18 13 33  1 18\n",
      " 17 31  9 33 18  5 18  5  5 22 42 38 10 23 38 39  1 42 40 35 14  8 25 14  1\n",
      "  2  3  1 10  2 25 11 22  3 13 16 14  7  3  1  2 35  1 13 30  8 14  7 31  7\n",
      "  5 12 13  4 13 24  1 17  1 17  8  9  5 16 14 20 10 10 25  5 35 25  5 31 13\n",
      " 13 10 10  9  5  7 36 38 36  5 25 14  5  8  5 39 15  1 11 13 20  8  1  1  1\n",
      "  5  6  7  4 10 39 18  1 25 12 14 14 12  4 27 18 10 10  4  7  1 25 38 12  3\n",
      " 13  4 18  1 33  1 10 33  7 17 10 35  1  9 17 38 35 25 32  9  3  5  2 10  2\n",
      " 38  2 33 18 39 10  3  8 38 23 33 11  5 25 17 13 10  3  3 32  2 38  7 10  3\n",
      " 27  2  4  2 18  8 17  7 13 10 38  7  2 31 39  5 41 12  4  1  2 17 38  7 38\n",
      "  5 38 12  1 13 22  4  7  5 40 31  1 35 13 40 13 17  1 42 13 10  4 18 12 22]\n"
     ]
    }
   ],
   "source": [
    "from sklearn.utils import shuffle\n",
    "# Shuffle training data\n",
    "X_train, y_train = shuffle(X_train, y_train)\n",
    "\n",
    "# Shuffle validation data\n",
    "X_validation, y_validation = shuffle(X_validation, y_validation)\n",
    "\n",
    "print(\"Sample of output classes in Training set after shuffle:\")\n",
    "print(y_train[0:1000])\n",
    "print(\"\\nSample of output classes in Validation set after shuffle:\")\n",
    "print(y_train[0:1000])"
   ]
  },
  {
   "cell_type": "markdown",
   "metadata": {},
   "source": [
    "## Visualize Data\n",
    "\n",
    "View a sample from the dataset.\n",
    "\n"
   ]
  },
  {
   "cell_type": "code",
   "execution_count": 5,
   "metadata": {
    "scrolled": true
   },
   "outputs": [
    {
     "name": "stdout",
     "output_type": "stream",
     "text": [
      "Datasets Mean values BEFORE Normalization are: \n",
      "Training set : 82.7764356557168 \n",
      "Validation set: 83.55642737563775 \n",
      "Testing set : 82.14846036120183 \n",
      "Trainint set dimension is: (39209, 32, 32, 3)\n"
     ]
    },
    {
     "data": {
      "image/png": "[encoded data removed]",
      "text/plain": [
       "<matplotlib.figure.Figure at 0x7f37c9526828>"
      ]
     },
     "metadata": {},
     "output_type": "display_data"
    }
   ],
   "source": [
    "\n",
    "# Visualize 20- random images from training dataset\n",
    "\n",
    "fig, axs = plt.subplots(2,10, figsize=(15, 5))\n",
    "fig.subplots_adjust(hspace = .05, wspace=.05)\n",
    "fig.suptitle(\"visualize 20- random images from training dataset\", fontsize=16)\n",
    "axs = axs.ravel()\n",
    "for i in range(20):\n",
    "    index = random.randint(0, len(X_train))\n",
    "    image = X_train[index]\n",
    "    axs[i].axis('off')\n",
    "    axs[i].imshow(image)\n",
    "    axs[i].set_title(y_train[index])\n",
    "\n",
    "# printing the mean values for every dataset\n",
    "X_train_mean= np.mean(X_train)\n",
    "X_validation_mean= np.mean(X_validation)\n",
    "X_test_mean= np.mean(X_test)\n",
    "print(\"Datasets Mean values BEFORE Normalization are: \")\n",
    "print(\"Training set : {} \".format(X_train_mean))\n",
    "print(\"Validation set: {} \".format(X_validation_mean))\n",
    "print(\"Testing set : {} \".format(X_test_mean))\n",
    "print(\"Trainint set dimension is: {}\".format(X_train.shape))\n"
   ]
  },
  {
   "cell_type": "markdown",
   "metadata": {},
   "source": [
    "### Visualize the label frequency in the Original training dataset."
   ]
  },
  {
   "cell_type": "code",
   "execution_count": 6,
   "metadata": {},
   "outputs": [
    {
     "data": {
      "image/png": "[encoded data removed]",
      "text/plain": [
       "<matplotlib.figure.Figure at 0x7f3814616630>"
      ]
     },
     "metadata": {},
     "output_type": "display_data"
    }
   ],
   "source": [
    "\n",
    "hist, bins = np.histogram(y_train, bins=43)\n",
    "width = 0.7 * (bins[1] - bins[0])\n",
    "center = (bins[:-1] + bins[1:]) / 2\n",
    "plt.bar(center, hist, align='center', width=width)\n",
    "plt.title(\"Label Frequency in the Original Training set\")\n",
    "plt.xlabel('Classes Labels')\n",
    "plt.ylabel('Frequency')\n",
    "plt.show()"
   ]
  },
  {
   "cell_type": "markdown",
   "metadata": {},
   "source": [
    "# 2. DataSet Preparation"
   ]
  },
  {
   "cell_type": "markdown",
   "metadata": {},
   "source": [
    "## Preprocess Data"
   ]
  },
  {
   "cell_type": "markdown",
   "metadata": {},
   "source": [
    "Here, I Pre-processed the Data Set using normalization & grayscale.\n",
    "Minimally, the image data should be normalized so that the data has mean zero and equal variance. For image data, (pixel - 128)/ 128 is a quick way to approximately normalize the data and can be used in this project."
   ]
  },
  {
   "cell_type": "code",
   "execution_count": 7,
   "metadata": {},
   "outputs": [
    {
     "name": "stdout",
     "output_type": "stream",
     "text": [
      "Grayscale Image Shape: (32, 32, 1)\n"
     ]
    },
    {
     "data": {
      "image/png": "[encoded data removed]",
      "text/plain": [
       "<matplotlib.figure.Figure at 0x7f37c950f898>"
      ]
     },
     "metadata": {},
     "output_type": "display_data"
    }
   ],
   "source": [
    "\n",
    "# Convert to grayscale, \n",
    "X_train = np.sum(X_train/3, axis=3, keepdims=True)\n",
    "X_validation = np.sum(X_validation/3, axis=3, keepdims=True)\n",
    "X_test = np.sum(X_test/3, axis=3, keepdims=True)\n",
    "\n",
    "\n",
    "\n",
    "\n",
    "# visualize 1- Random image after grayscale conversion from training dataset\n",
    "index = random.randint(0, len(X_train))\n",
    "image = X_train[index].squeeze()\n",
    "plt.figure(figsize=(1,1))\n",
    "#plt.figure(figsize=(3,3))\n",
    "plt.title(\"Image Class =  {}\".format(y_train[index]))\n",
    "plt.imshow(image, cmap=\"gray\")\n",
    "#print(y_train[index])\n",
    "\n",
    "# printing the data image dimension now after converting to grayscale\n",
    "print(\"Grayscale Image Shape: {}\".format(X_train[0].shape))\n",
    "\n",
    "\n",
    "\n",
    "\n"
   ]
  },
  {
   "cell_type": "code",
   "execution_count": 8,
   "metadata": {},
   "outputs": [
    {
     "data": {
      "text/plain": [
       "<matplotlib.image.AxesImage at 0x7f37d14f0550>"
      ]
     },
     "execution_count": 8,
     "metadata": {},
     "output_type": "execute_result"
    },
    {
     "data": {
      "image/png": "[encoded data removed]",
      "text/plain": [
       "<matplotlib.figure.Figure at 0x7f3814693780>"
      ]
     },
     "metadata": {},
     "output_type": "display_data"
    }
   ],
   "source": [
    "# Normalize the data (pixel - 128)/ 128\n",
    "\n",
    "X_train = (X_train - 128)/128\n",
    "X_validation = (X_validation - 128)/128\n",
    "X_test = (X_test - 128)/128\n",
    "\n",
    "# visualize 1- Random image after Normalization from training dataset\n",
    "index = random.randint(0, len(X_train))\n",
    "image = X_train[index].squeeze()\n",
    "plt.figure(figsize=(1,1))\n",
    "plt.title(\"Image Class =  {}\".format(y_train[index]))\n",
    "plt.imshow(image, cmap=\"gray\")\n"
   ]
  },
  {
   "cell_type": "markdown",
   "metadata": {},
   "source": [
    "## Another method for Normalizing grayscale\n",
    "I also tried this method for notmalizaiton, and it gave me Mean value around (0.35) for Training set, but in my overall implementation I used the 1st method applied above.\n",
    "\n",
    "Implement the Min-Max scaling function ($X'=a+{\\frac {\\left(X-X_{\\min }\\right)\\left(b-a\\right)}{X_{\\max }-X_{\\min }}}$) with the parameters:\n",
    "$X_{\\min }=0$\n",
    "$X_{\\max }=255$\n",
    "$a=0.1$\n",
    "$b=0.9$"
   ]
  },
  {
   "cell_type": "markdown",
   "metadata": {
    "collapsed": true
   },
   "source": [
    "a = 0.1\n",
    "b = 0.9\n",
    "grayscale_min = 0\n",
    "grayscale_max = 255\n",
    "\n",
    "X_train = a + ( ( (X_train - grayscale_min)*(b - a) )/( grayscale_max - grayscale_min ) )\n",
    "X_validation = a + ( ( (X_validation - grayscale_min)*(b - a) )/( grayscale_max - grayscale_min ) )\n",
    "X_test = a + ( ( (X_test - grayscale_min)*(b - a) )/( grayscale_max - grayscale_min ) )\n",
    "\n",
    "# visualize 1- Random image after Normalization from training dataset\n",
    "index = random.randint(0, len(X_train))\n",
    "image = X_train[index].squeeze()\n",
    "plt.figure(figsize=(1,1))\n",
    "plt.imshow(image, cmap=\"gray\")\n",
    "print(y_train[index])"
   ]
  },
  {
   "cell_type": "markdown",
   "metadata": {},
   "source": [
    "Calculatng Mean Values of Training, validation and testing datasets after Noramlization ( Should be around 0)"
   ]
  },
  {
   "cell_type": "code",
   "execution_count": 9,
   "metadata": {},
   "outputs": [
    {
     "name": "stdout",
     "output_type": "stream",
     "text": [
      "Datasets Mean values AFTER Normalization are: \n",
      "\n",
      "Training set : -0.3533090964397123 \n",
      "Validation set: -0.3472154111278302 \n",
      "Testing set : -0.3582151534281105 \n",
      "Trainint set dimension is: (39209, 32, 32, 1)\n"
     ]
    }
   ],
   "source": [
    "\n",
    "\n",
    "# printing the mean values for every dataset\n",
    "X_train_N_mean= np.mean(X_train)\n",
    "X_validation_N_mean= np.mean(X_validation)\n",
    "X_test_N_mean= np.mean(X_test)\n",
    "print(\"Datasets Mean values AFTER Normalization are: \\n\")\n",
    "print(\"Training set : {} \".format(X_train_N_mean))\n",
    "print(\"Validation set: {} \".format(X_validation_N_mean))\n",
    "print(\"Testing set : {} \".format(X_test_N_mean))\n",
    "print(\"Trainint set dimension is: {}\".format(X_train.shape))\n",
    "\n",
    "\n"
   ]
  },
  {
   "cell_type": "markdown",
   "metadata": {},
   "source": [
    "## Augmenting Training set\n",
    "\n",
    "Augmenting the training set might help improve model performance. Common data augmentation techniques include rotation, translation, zoom, flips, and/or color perturbation. These techniques can be used individually or combined.\n"
   ]
  },
  {
   "cell_type": "markdown",
   "metadata": {
    "collapsed": true
   },
   "source": [
    "In this section, I used the input data processing techniques as suggested by the [Lecun paper](http://yann.lecun.com/exdb/publis/pdf/sermanet-ijcnn-11.pdf), now I have a jittered dataset by adding 3\n",
    "transformed versions of randomly selected sets of  the original training set, which are :\n",
    "\n",
    "1) Random Image Rotation between -15 and 15 degrees\n",
    "\n",
    "2) Random Affine Transformation\n",
    "\n",
    "3) Random Brighness "
   ]
  },
  {
   "cell_type": "markdown",
   "metadata": {},
   "source": [
    "### 1) Random Image Rotation"
   ]
  },
  {
   "cell_type": "code",
   "execution_count": 10,
   "metadata": {},
   "outputs": [
    {
     "name": "stdout",
     "output_type": "stream",
     "text": [
      "An Image before Rotation: \n",
      "23\n",
      "An Image after Rotation: \n",
      "23\n",
      "Check matching the sign name after Rotation and concatenation: \n",
      "1\n",
      "\n",
      "Image Shape: (32, 32, 1)\n",
      "\n",
      "Training Set:   78418 samples\n",
      "Validation Set: 4410 samples\n",
      "Test Set:       12630 samples\n"
     ]
    },
    {
     "data": {
      "image/png": "[encoded data removed]",
      "text/plain": [
       "<matplotlib.figure.Figure at 0x7f37cf284da0>"
      ]
     },
     "metadata": {},
     "output_type": "display_data"
    },
    {
     "data": {
      "image/png": "[encoded data removed]",
      "text/plain": [
       "<matplotlib.figure.Figure at 0x7f37c0b4de48>"
      ]
     },
     "metadata": {},
     "output_type": "display_data"
    },
    {
     "data": {
      "image/png": "[encoded data removed]",
      "text/plain": [
       "<matplotlib.figure.Figure at 0x7f37d1473828>"
      ]
     },
     "metadata": {},
     "output_type": "display_data"
    }
   ],
   "source": [
    "import cv2\n",
    "\n",
    "\n",
    "\n",
    "def Rotating(input): \n",
    "    output = []\n",
    "    for i in range (len(input)):\n",
    "        # Choose a random angle between -15 and 15 to do the rotation\n",
    "        angle = np.random.randint(-15, 15)\n",
    "        img_center = tuple(np.array(input[i].shape)[:2]/2)\n",
    "        M = cv2.getRotationMatrix2D(img_center,angle,1.0)\n",
    "        img = cv2.warpAffine(input[i], M, input[i].shape[:2],flags=cv2.INTER_LINEAR)\n",
    "        img = img[:,:,np.newaxis]\n",
    "        output.append(img)\n",
    "    \n",
    "    \n",
    "    return output\n",
    "\n",
    "# Augmenting both training and validation datasets with Randomly rotated images, expecting a doupled sized datasets\n",
    "input = X_train[0:len(X_train)]\n",
    "input_y = y_train[0:len(y_train)]\n",
    "X_train_rotated = Rotating(input)\n",
    "#valid = X_validation[0:3000]\n",
    "#valid_y = y_validation[0:3000]\n",
    "#X_validation_rotated= Rotating(valid)\n",
    "\n",
    "\n",
    "\n",
    "# display an Image before and after rotation\n",
    "\n",
    "\n",
    "print (\"An Image before Rotation: \")\n",
    "image = X_train[10].squeeze()\n",
    "plt.figure(figsize=(1,1))\n",
    "plt.imshow(image, cmap=\"gray\")\n",
    "print(y_train[10])\n",
    "\n",
    "\n",
    "print (\"An Image after Rotation: \")\n",
    "image = X_train_rotated[10].squeeze()\n",
    "plt.figure(figsize=(1,1))\n",
    "plt.imshow(image, cmap=\"gray\")\n",
    "print(y_train[10])\n",
    "    \n",
    "\n",
    "    \n",
    "X_train = np.concatenate((X_train, X_train_rotated), axis=0)\n",
    "y_train = np.concatenate((y_train, input_y), axis=0)\n",
    "\n",
    "#X_validation = np.concatenate((X_validation, X_validation_rotated), axis=0)\n",
    "#y_validation = np.concatenate((y_validation, valid_y), axis=0)\n",
    "\n",
    "\n",
    "print (\"Check matching the sign name after Rotation and concatenation: \")\n",
    "image = X_train[40000].squeeze()\n",
    "plt.figure(figsize=(1,1))\n",
    "plt.imshow(image, cmap=\"gray\")\n",
    "print(y_train[40000])\n",
    "\n",
    "# Shuffle new training data\n",
    "X_train, y_train = shuffle(X_train, y_train)\n",
    "\n",
    "# Shuffle new validation data\n",
    "#X_validation, y_validation = shuffle(X_validation, y_validation)\n",
    "\n",
    "print()\n",
    "print(\"Image Shape: {}\".format(X_train[0].shape))\n",
    "print()\n",
    "print(\"Training Set:   {} samples\".format(len(X_train)))\n",
    "print(\"Validation Set: {} samples\".format(len(X_validation)))\n",
    "print(\"Test Set:       {} samples\".format(len(X_test)))"
   ]
  },
  {
   "cell_type": "markdown",
   "metadata": {
    "collapsed": true
   },
   "source": [
    "### 2) Random Affine Transformation\n",
    "In affine transformation, all parallel lines in the original image will still be parallel in the output image"
   ]
  },
  {
   "cell_type": "code",
   "execution_count": null,
   "metadata": {
    "collapsed": true
   },
   "outputs": [],
   "source": [
    "import cv2\n",
    "def Transforming(input): \n",
    "    output = []\n",
    "    \n",
    "    for i in range (len(input)):\n",
    "        rows,cols,ch = input[i].shape\n",
    "       # pts1 = np.float32([[2,2],[30,2],[2,300]])\n",
    "       # pts2 = np.float32([[25,25],[30,2],[25,31]])\n",
    "         # transform limits\n",
    "        px = np.random.randint(-2,2)\n",
    "        pts1 = np.float32([[px,px],[rows-px,px],[px,cols-px]])\n",
    "        pts2 = np.float32([[px,px],[rows,px],[px,cols]])\n",
    "        M = cv2.getAffineTransform(pts1,pts2)\n",
    "        img = cv2.warpAffine(input[i],M,(cols,rows))\n",
    "        img = img[:,:,np.newaxis]\n",
    "        output.append(img)\n",
    "    \n",
    "    \n",
    "    return output\n",
    "\n",
    "# Augmenting both training and validation datasets with Randomly rotated images, expecting a doupled sized datasets\n",
    "input = X_train[20000:60000]\n",
    "input_y = y_train[20000:60000]\n",
    "X_train_transformed = Transforming(input)\n",
    "#valid = X_validation[0:3000]\n",
    "#valid_y = y_validation[0:3000]\n",
    "#X_validation_rotated= Rotating(valid)\n",
    "\n",
    "\n",
    "\n",
    "# display an Image before and after rotation\n",
    "\n",
    "#plt.subplot(121),plt.imshow(X_train[21000].squeeze()), plt.title('Image before Transformation')\n",
    "#plt.subplot(122),plt.imshow(X_train_transformed[21000].squeeze()),plt.title('Image after Transformation')\n",
    "#plt.show()\n",
    "\n",
    "\n",
    "print (\"An Image before Transformation: \")\n",
    "image = X_train[25000].squeeze()\n",
    "plt.figure(figsize=(1,1))\n",
    "plt.imshow(image, cmap=\"gray\")\n",
    "print(y_train[25000])\n",
    "\n",
    "\n",
    "print (\"An Image after Transfomation: \")\n",
    "image = X_train_transformed[25000].squeeze()\n",
    "plt.figure(figsize=(1,1))\n",
    "plt.imshow(image, cmap=\"gray\")\n",
    "print(y_train[25000])\n",
    "    \n",
    "    \n",
    "X_train = np.concatenate((X_train, X_train_transformed), axis=0)\n",
    "y_train = np.concatenate((y_train, input_y), axis=0)\n",
    "\n",
    "#X_validation = np.concatenate((X_validation, X_validation_rotated), axis=0)\n",
    "#y_validation = np.concatenate((y_validation, valid_y), axis=0)\n",
    "\n",
    "\n",
    "print (\"Check matching the sign name after Rotation and concatenation: \")\n",
    "image = X_train[40000].squeeze()\n",
    "plt.figure(figsize=(1,1))\n",
    "plt.imshow(image, cmap=\"gray\")\n",
    "print(y_train[40000])\n",
    "\n",
    "# Shuffle new training data\n",
    "X_train, y_train = shuffle(X_train, y_train)\n",
    "\n",
    "# Shuffle new validation data\n",
    "#X_validation, y_validation = shuffle(X_validation, y_validation)\n",
    "\n",
    "print()\n",
    "print(\"Image Shape: {}\".format(X_train[0].shape))\n",
    "print()\n",
    "print(\"Training Set:   {} samples\".format(len(X_train)))\n",
    "print(\"Validation Set: {} samples\".format(len(X_validation)))\n",
    "print(\"Test Set:       {} samples\".format(len(X_test)))"
   ]
  },
  {
   "cell_type": "markdown",
   "metadata": {},
   "source": [
    "### 3) Random Brighness"
   ]
  },
  {
   "cell_type": "code",
   "execution_count": 11,
   "metadata": {},
   "outputs": [
    {
     "name": "stdout",
     "output_type": "stream",
     "text": [
      " x-train-bright  78418\n",
      "y-train-bright 78418\n",
      "Image dimension before Brighness application:  (32, 32, 1)\n",
      "X-train-Brighness 78418\n",
      "An Image before any Brightening: \n",
      "31\n",
      "An Image after random Brightening: \n",
      "31\n",
      "x_train befor brighness augmentation 78418\n",
      "y_train before brighness augmentation 78418\n",
      "x_train_final 156836\n",
      "y_train_final 156836\n",
      "\n",
      "Image Shape: (32, 32, 1)\n",
      "\n",
      "Training Set:   156836 samples\n",
      "Validation Set: 4410 samples\n",
      "Test Set:       12630 samples\n"
     ]
    },
    {
     "data": {
      "image/png": "[encoded data removed]",
      "text/plain": [
       "<matplotlib.figure.Figure at 0x7f37d14e5b38>"
      ]
     },
     "metadata": {},
     "output_type": "display_data"
    },
    {
     "data": {
      "image/png": "[encoded data removed]",
      "text/plain": [
       "<matplotlib.figure.Figure at 0x7f37d1534898>"
      ]
     },
     "metadata": {},
     "output_type": "display_data"
    }
   ],
   "source": [
    "def Brighness(input): \n",
    "    output = []\n",
    "    print(\"Image dimension before Brighness application: \", input[0].shape)\n",
    "    for i in range (len(input)):\n",
    "        img= input[i]\n",
    "        shifted = img + 1.0   # shift to (0,2) range\n",
    "        img_max_value = max(shifted.flatten())\n",
    "        max_coef = 2.0/img_max_value\n",
    "        min_coef = max_coef - 0.1\n",
    "        coef = np.random.uniform(min_coef, max_coef)\n",
    "        dst = shifted * coef - 1.0\n",
    "        output.append(dst)\n",
    "    \n",
    "    return output\n",
    "# take 35000 image from training set to do brighness over it then suffle it\n",
    "input = X_train[0:len(X_train)]\n",
    "input_y = y_train[0:len(y_train)]\n",
    "print(\" x-train-bright \", len(input))\n",
    "print(\"y-train-bright\", len(input_y))\n",
    "\n",
    "X_train_Brighness= Brighness(input)\n",
    "print(\"X-train-Brighness\", len(X_train_Brighness))\n",
    "\n",
    "# display an Image before and after applying Random brightness\n",
    "\n",
    "\n",
    "print (\"An Image before any Brightening: \")\n",
    "image = X_train[50].squeeze()\n",
    "plt.figure(figsize=(1,1))\n",
    "plt.imshow(image, cmap=\"gray\")\n",
    "print(y_train[50])\n",
    "\n",
    "\n",
    "print (\"An Image after random Brightening: \")\n",
    "image = X_train_Brighness[50].squeeze()\n",
    "plt.figure(figsize=(1,1))\n",
    "plt.imshow(image, cmap=\"gray\")\n",
    "print(y_train[50])\n",
    "\n",
    "#valid = X_validation[0:3500]\n",
    "#print(\" x-valid-bright \", len(valid))\n",
    "\n",
    "#valid_y = y_validation[0:3500]\n",
    "#print(\" y-valid-bright \", len(valid_y))\n",
    "\n",
    "#X_validation_Brighness= Brighness(valid)\n",
    "#print(\"X_validation_Brighness\", len(X_validation_Brighness))\n",
    "\n",
    "print(\"x_train befor brighness augmentation\", len(X_train))\n",
    "print(\"y_train before brighness augmentation\", len(y_train))\n",
    "\n",
    "\n",
    "X_train = np.concatenate((X_train, X_train_Brighness), axis=0)\n",
    "y_train = np.concatenate((y_train, input_y), axis=0)\n",
    "print(\"x_train_final\", len(X_train))\n",
    "print(\"y_train_final\", len(y_train))\n",
    "\n",
    "\n",
    "#X_validation = np.concatenate((X_validation, X_validation_Brighness), axis=0)\n",
    "#y_validation = np.concatenate((y_validation, valid_y), axis=0)\n",
    "#print(\"x_validation_final\", len(X_validation))\n",
    "#print(\"y_validation_final\", len(y_validation))\n",
    "\n",
    "\n",
    "\n",
    "\n",
    "\n",
    "# Shuffle new training data\n",
    "X_train, y_train = shuffle(X_train, y_train)\n",
    "\n",
    "# Shuffle new validation data\n",
    "#X_validation, y_validation = shuffle(X_validation, y_validation)\n",
    "\n",
    "print()\n",
    "print(\"Image Shape: {}\".format(X_train[0].shape))\n",
    "print()\n",
    "print(\"Training Set:   {} samples\".format(len(X_train)))\n",
    "print(\"Validation Set: {} samples\".format(len(X_validation)))\n",
    "print(\"Test Set:       {} samples\".format(len(X_test)))\n"
   ]
  },
  {
   "cell_type": "markdown",
   "metadata": {},
   "source": [
    "## Splitng Validation dataset from Training dataset\n",
    "As always suggested, it is prefered to have a validation set of size between 20%-30% of Training set, so I will use 20% of the Training set to the Validation set"
   ]
  },
  {
   "cell_type": "code",
   "execution_count": 12,
   "metadata": {},
   "outputs": [
    {
     "name": "stdout",
     "output_type": "stream",
     "text": [
      "New X_train size: 125468\n",
      "X_validation size: 31368\n"
     ]
    }
   ],
   "source": [
    "## Split validation  from training \n",
    "\n",
    "from sklearn.model_selection import train_test_split\n",
    "\n",
    "X_train, X_validation, y_train, y_validation = train_test_split(X_train, y_train, \n",
    "                                                                test_size=0.20, random_state=42)\n",
    "\n",
    "\n",
    "print(\"New X_train size:\",len(X_train))\n",
    "print(\"X_validation size:\",len(X_validation))"
   ]
  },
  {
   "cell_type": "markdown",
   "metadata": {},
   "source": [
    "## Setup TensorFlow, and set the hyperparmeters sizes.\n",
    "\n",
    "All hyperparameters (EPOCHS, BATCH_SIZE, dropout and learning_rate) are empirically chosen. Overall, I performed 40- expermints to get the final results, and the following numbers are the best combinations I got among all."
   ]
  },
  {
   "cell_type": "code",
   "execution_count": 13,
   "metadata": {
    "collapsed": true
   },
   "outputs": [],
   "source": [
    "import tensorflow as tf\n",
    "\n",
    "EPOCHS = 50\n",
    "BATCH_SIZE = 150\n",
    "dropout = 0.5\n",
    "rate = 0.0005"
   ]
  },
  {
   "cell_type": "markdown",
   "metadata": {},
   "source": [
    "# 3. Design and Test a Model Architecture"
   ]
  },
  {
   "cell_type": "markdown",
   "metadata": {},
   "source": [
    "## Original LeNet-5\n",
    "During my first set of experminting, I used the orignal LeNet-5 architecture as describe in Lab2, I just modified the layers inputs and outputs based on have input of (32X32X10) and output (43-classes) and added a dropout before the last layer (Layer 5). here is the immplementation of the [LeNet-5](http://yann.lecun.com/exdb/lenet/) neural network architecture.\n",
    "![LeNet Architecture](lenet.png)\n",
    "Source: Yan LeCun\n",
    "\n",
    "\n",
    "\n",
    "### Input\n",
    "The LeNet architecture accepts a 32x32xC image as input, where C is the number of color channels. C is 1 in this case, since we are working on a grayscale Images.\n",
    "\n",
    "### Architecture\n",
    "**Layer 1: Convolutional.** The output shape should be 28x28x6.\n",
    "\n",
    "**Activation.** Using Relu activation function.\n",
    "\n",
    "**Pooling.** The output shape should be 14x14x6.\n",
    "\n",
    "**Layer 2: Convolutional.** The output shape should be 10x10x16.\n",
    "\n",
    "**Activation.** Using Relu activation function.\n",
    "\n",
    "**Pooling.** The output shape should be 5x5x16.\n",
    "\n",
    "**Flatten.** Flatten the output shape of the final pooling layer such that it's 1D instead of 3D. The easiest way to do is by using `tf.contrib.layers.flatten`.\n",
    "\n",
    "**Layer 3: Fully Connected.** This should have 120 outputs.\n",
    "\n",
    "**Activation.** Using Relu activation function.\n",
    "\n",
    "**Layer 4: Fully Connected.** This should have 84 outputs.\n",
    "\n",
    "**Activation.** Using Relu activation function.\n",
    "\n",
    "**Dropout.**  Using Dropout for Regularization.\n",
    "\n",
    "**Layer 5: Fully Connected (Logits).** This should have 43 outputs.\n",
    "\n",
    "### Output\n",
    "Return the result of the 2nd fully connected layer (Logits)."
   ]
  },
  {
   "cell_type": "code",
   "execution_count": 14,
   "metadata": {},
   "outputs": [
    {
     "name": "stdout",
     "output_type": "stream",
     "text": [
      "End\n"
     ]
    }
   ],
   "source": [
    "from tensorflow.contrib.layers import flatten\n",
    "\n",
    "def LeNet(x):    \n",
    "    # Arguments used for tf.truncated_normal, randomly defines variables for the weights and biases for each layer\n",
    "    mu = 0\n",
    "    sigma = 0.1\n",
    "    \n",
    "    # SOLUTION: Layer 1: Convolutional. Input = 32x32x1. Output = 28x28x6.\n",
    "    conv1_W = tf.Variable(tf.truncated_normal(shape=(5, 5, 1, 6), mean = mu, stddev = sigma))\n",
    "    conv1_b = tf.Variable(tf.zeros(6))\n",
    "    conv1   = tf.nn.conv2d(x, conv1_W, strides=[1, 1, 1, 1], padding='VALID') + conv1_b\n",
    "\n",
    "    # SOLUTION: Activation.\n",
    "    conv1 = tf.nn.relu(conv1)\n",
    "\n",
    "    # SOLUTION: Pooling. Input = 28x28x6. Output = 14x14x6.\n",
    "    conv1 = tf.nn.max_pool(conv1, ksize=[1, 2, 2, 1], strides=[1, 2, 2, 1], padding='VALID')\n",
    "\n",
    "    # SOLUTION: Layer 2: Convolutional. Output = 10x10x16.\n",
    "    conv2_W = tf.Variable(tf.truncated_normal(shape=(5, 5, 6, 16), mean = mu, stddev = sigma))\n",
    "    conv2_b = tf.Variable(tf.zeros(16))\n",
    "    conv2   = tf.nn.conv2d(conv1, conv2_W, strides=[1, 1, 1, 1], padding='VALID') + conv2_b\n",
    "    \n",
    "    # SOLUTION: Activation.\n",
    "    conv2 = tf.nn.relu(conv2)\n",
    "\n",
    "    # SOLUTION: Pooling. Input = 10x10x16. Output = 5x5x16.\n",
    "    conv2 = tf.nn.max_pool(conv2, ksize=[1, 2, 2, 1], strides=[1, 2, 2, 1], padding='VALID')\n",
    "\n",
    "    # SOLUTION: Flatten. Input = 5x5x16. Output = 400.\n",
    "    fc0   = flatten(conv2)\n",
    "    \n",
    "    \n",
    "    # SOLUTION: Layer 3: Fully Connected. Input = 400. Output = 120.\n",
    "    fc1_W = tf.Variable(tf.truncated_normal(shape=(400, 120), mean = mu, stddev = sigma))\n",
    "    fc1_b = tf.Variable(tf.zeros(120))\n",
    "    fc1   = tf.matmul(fc0, fc1_W) + fc1_b\n",
    "    \n",
    "    # SOLUTION: Activation.\n",
    "    fc1    = tf.nn.relu(fc1)\n",
    "    \n",
    "\n",
    "    # SOLUTION: Layer 4: Fully Connected. Input = 120. Output = 84.\n",
    "    fc2_W  = tf.Variable(tf.truncated_normal(shape=(120, 84), mean = mu, stddev = sigma))\n",
    "    fc2_b  = tf.Variable(tf.zeros(84))\n",
    "    fc2    = tf.matmul(fc1, fc2_W) + fc2_b\n",
    "    \n",
    "    # SOLUTION: Activation.\n",
    "    fc2    = tf.nn.relu(fc2)\n",
    "    # ---> Using Dropout for Regularization \n",
    "    fc2 = tf.nn.dropout(fc2, dropout)\n",
    "\n",
    "    # SOLUTION: Layer 5: Fully Connected. Input = 84. Output = 43.\n",
    "    fc3_W  = tf.Variable(tf.truncated_normal(shape=(84, 43), mean = mu, stddev = sigma))\n",
    "    fc3_b  = tf.Variable(tf.zeros(43))\n",
    "    logits = tf.matmul(fc2, fc3_W) + fc3_b\n",
    "    \n",
    "    return logits\n",
    "print('End')"
   ]
  },
  {
   "cell_type": "markdown",
   "metadata": {},
   "source": [
    "## Modified LeNet5\n",
    "Using Suggested Architecture in [Traffic Sign Recognition with Multi-Scale Convolutional Networks](http://yann.lecun.com/exdb/publis/pdf/sermanet-ijcnn-11.pdf)\n",
    "\n",
    "![image.png](attachment:image.png)\n",
    "\n",
    "Here I implemented a modified LeNet-5 architecture as suggested in [Traffic Sign Recognition with Multi-Scale Convolutional Networks](http://yann.lecun.com/exdb/publis/pdf/sermanet-ijcnn-11.pdf). Here, the modifications are:\n",
    "\n",
    "1) Using 4- layer architecture instead of 5 ( 3- Convolutional layers and 1- fully connected) as shown in the fig above.\n",
    "\n",
    "2) Flatten and concatenating the output from Layer 2 and Layer 3 then feed to a fully Connected layer (Layer 4) after applying dropout.\n",
    "\n",
    "\n",
    "\n",
    "### Input\n",
    "The LeNet_modified architecture accepts a 32x32xC image as input, where C is the number of color channels. C is 1 in this case, since we are working on a grayscale Images.\n",
    "\n",
    "### Architecture\n",
    "**Layer 1: Convolutional.** The output shape should be 28x28x6.\n",
    "\n",
    "**Activation.** Using Relu activation function.\n",
    "\n",
    "**Pooling.** The output shape should be 14x14x6.\n",
    "\n",
    "**Layer 2: Convolutional.** The output shape should be 10x10x16.\n",
    "\n",
    "**Activation.** Using Relu activation function.\n",
    "\n",
    "**Pooling.** The output shape should be 5x5x16.\n",
    "\n",
    "**Layer 3: Convolutional.** The output shape should be 1x1x400.\n",
    "\n",
    "**Activation.** Using Relu activation function.\n",
    "\n",
    "\n",
    "**Flatten.** Flatten the output shape of the final pooling layer such that it's 1D instead of 3D. The easiest way to do is by using `tf.contrib.layers.flatten`, here flatten Layer 2 output (400), and layer3 output (400)\n",
    "\n",
    "**Concatenate.** Concatenate both flattened outputs of layer 2 and layer 3, so we get input of layer 4 (size = 800)\n",
    "\n",
    "**Dropout.**  Using Dropout for Regularization.\n",
    "\n",
    "**Layer 4: Fully Connected (Logits).** This should have 43 outputs.\n",
    "\n",
    "### Output\n",
    "Return Logits"
   ]
  },
  {
   "cell_type": "code",
   "execution_count": 15,
   "metadata": {},
   "outputs": [
    {
     "name": "stdout",
     "output_type": "stream",
     "text": [
      "End\n"
     ]
    }
   ],
   "source": [
    "def LeNet_modified(x):    \n",
    "    # Arguments used for tf.truncated_normal, randomly defines variables for the weights and biases for each layer\n",
    "    # Hyperparameters\n",
    "    mu = 0\n",
    "    sigma = 0.1\n",
    "    \n",
    "    # Layer 1: Convolutional. Input = 32x32x1. Output = 28x28x6.\n",
    "    conv1_W = tf.Variable(tf.truncated_normal(shape=(5, 5, 1, 6), mean = mu, stddev = sigma), name=\"conv1_W\")\n",
    "    conv1_b = tf.Variable(tf.zeros(6), name=\"conv1_b\")\n",
    "    conv1   = tf.nn.conv2d(x, conv1_W, strides=[1, 1, 1, 1], padding='VALID') + conv1_b\n",
    "    # print(\"layer 1 shape:\",conv1.get_shape())\n",
    "\n",
    "     # Activation.\n",
    "    conv1 = tf.nn.relu(conv1)\n",
    "\n",
    "    # Pooling. Input = 28x28x6. Output = 14x14x6.\n",
    "    conv1 = tf.nn.max_pool(conv1, ksize=[1, 2, 2, 1], strides=[1, 2, 2, 1], padding='VALID')\n",
    "\n",
    "    #conv1 = tf.nn.dropout(conv1, 0.9)\n",
    "    \n",
    "    # Layer 2: Convolutional. Output = 10x10x16.\n",
    "    conv2_W = tf.Variable(tf.truncated_normal(shape=(5, 5, 6, 16), mean = mu, stddev = sigma), name=\"conv2_W\")\n",
    "    conv2_b = tf.Variable(tf.zeros(16), name=\"conv2_b\")\n",
    "    conv2   = tf.nn.conv2d(conv1, conv2_W, strides=[1, 1, 1, 1], padding='VALID') + conv2_b\n",
    "    \n",
    "    # Activation.\n",
    "    conv2 = tf.nn.relu(conv2)\n",
    "\n",
    "    # Pooling. Input = 10x10x16. Output = 5x5x16.\n",
    "    conv2 = tf.nn.max_pool(conv2, ksize=[1, 2, 2, 1], strides=[1, 2, 2, 1], padding='VALID')\n",
    "    \n",
    "    #conv2 = tf.nn.dropout(conv2, 0.8)\n",
    "    \n",
    "    # Layer 3: Convolutional. Output = 1x1x400.\n",
    "    conv3_W = tf.Variable(tf.truncated_normal(shape=(5, 5, 16, 400), mean = mu, stddev = sigma), name=\"conv3_W\")\n",
    "    conv3_b = tf.Variable(tf.zeros(400), name=\"conv3_b\")\n",
    "    conv3 = tf.nn.conv2d(conv2, conv3_W, strides=[1, 1, 1, 1], padding='VALID') + conv3_b\n",
    "    \n",
    "                     \n",
    "    # Activation.\n",
    "    conv3 = tf.nn.relu(conv3)\n",
    "    \n",
    "    #conv3 = tf.nn.dropout(conv3, 0.7)\n",
    "\n",
    "\n",
    "    # Flatten layer2 output, input = 5x5x16. Output = 400.\n",
    "    layer2_flat = flatten(conv2)\n",
    "    print(\"layer2_flat shape:\",layer2_flat.get_shape())\n",
    "    \n",
    "    # Flatten layer3 output, Input = 1x1x400. Output = 400.\n",
    "    layer3_flat = flatten(conv3)\n",
    "    print(\"layer3_flat shape:\",layer3_flat.get_shape())\n",
    "    \n",
    "    # Concatenate layer2_flat and layer3_flat. so we get  800 inputs to layer 4.\n",
    "    conv3 = tf.concat_v2([layer2_flat, layer3_flat], 1)\n",
    "    \n",
    "    \n",
    "    # Dropout\n",
    "    #conv3 = tf.nn.dropout(conv3, dropout)\n",
    "    \n",
    "    # Layer 4: Fully Connected. Input = 800. Output = 43.\n",
    "    fc4_W = tf.Variable(tf.truncated_normal(shape=(800, 43), mean = mu, stddev = sigma), name=\"fc4_W\")\n",
    "    fc4_b = tf.Variable(tf.zeros(43), name=\"fc4_b\")    \n",
    "    logits = tf.add(tf.matmul(conv3, fc4_W), fc4_b)\n",
    "    \n",
    "    \n",
    "    \n",
    "    return logits\n",
    "\n",
    "print('End')"
   ]
  },
  {
   "cell_type": "markdown",
   "metadata": {},
   "source": [
    "## Features and Labels\n",
    "Train LeNet to classify [Traffic- Signs data](https://d17h27t6h515a5.cloudfront.net/topher/2017/February/5898cd6f_traffic-signs-data/traffic-signs-data.zip) data.\n",
    "\n",
    "`x` is a placeholder for a batch of input images.\n",
    "`y` is a placeholder for a batch of output labels.\n",
    "\n",
    "You do not need to modify this section."
   ]
  },
  {
   "cell_type": "code",
   "execution_count": 16,
   "metadata": {},
   "outputs": [
    {
     "name": "stdout",
     "output_type": "stream",
     "text": [
      "End\n"
     ]
    }
   ],
   "source": [
    "x = tf.placeholder(tf.float32, (None, 32, 32, 1))\n",
    "y = tf.placeholder(tf.int32, (None))\n",
    "one_hot_y = tf.one_hot(y, 43)\n",
    "print('End')"
   ]
  },
  {
   "cell_type": "markdown",
   "metadata": {},
   "source": [
    "## Training Pipeline\n",
    "Create a training pipeline that uses the model to classify data.\n",
    "\n",
    "You do not need to modify this section."
   ]
  },
  {
   "cell_type": "code",
   "execution_count": 17,
   "metadata": {},
   "outputs": [
    {
     "name": "stdout",
     "output_type": "stream",
     "text": [
      "layer2_flat shape: (?, 400)\n",
      "layer3_flat shape: (?, 400)\n"
     ]
    }
   ],
   "source": [
    "\n",
    "\n",
    "#logits = LeNet(x)\n",
    "logits = LeNet_modified(x)\n",
    "cross_entropy = tf.nn.softmax_cross_entropy_with_logits(labels=one_hot_y, logits=logits)\n",
    "loss_operation = tf.reduce_mean(cross_entropy)\n",
    "optimizer = tf.train.AdamOptimizer(learning_rate = rate)\n",
    "training_operation = optimizer.minimize(loss_operation)"
   ]
  },
  {
   "cell_type": "markdown",
   "metadata": {},
   "source": [
    "## Model Evaluation\n",
    "Evaluate how well the loss and accuracy of the model for a given dataset.\n",
    "\n",
    "You do not need to modify this section."
   ]
  },
  {
   "cell_type": "code",
   "execution_count": 18,
   "metadata": {},
   "outputs": [
    {
     "name": "stdout",
     "output_type": "stream",
     "text": [
      "End\n"
     ]
    }
   ],
   "source": [
    "correct_prediction = tf.equal(tf.argmax(logits, 1), tf.argmax(one_hot_y, 1))\n",
    "accuracy_operation = tf.reduce_mean(tf.cast(correct_prediction, tf.float32))\n",
    "saver = tf.train.Saver()\n",
    "\n",
    "def evaluate(X_data, y_data):\n",
    "    num_examples = len(X_data)\n",
    "    total_accuracy = 0\n",
    "    sess = tf.get_default_session()\n",
    "    for offset in range(0, num_examples, BATCH_SIZE):\n",
    "        batch_x, batch_y = X_data[offset:offset+BATCH_SIZE], y_data[offset:offset+BATCH_SIZE]\n",
    "        accuracy = sess.run(accuracy_operation, feed_dict={x: batch_x, y: batch_y})\n",
    "        total_accuracy += (accuracy * len(batch_x))\n",
    "    return total_accuracy / num_examples\n",
    "\n",
    "print('End')"
   ]
  },
  {
   "cell_type": "markdown",
   "metadata": {},
   "source": [
    "## Train the Model\n",
    "Run the training data through the training pipeline to train the model.\n",
    "\n",
    "Before each epoch, shuffle the training set.\n",
    "\n",
    "After each epoch, measure the loss and accuracy of the validation set.\n",
    "\n",
    "Save the model after training.\n",
    "\n",
    "You do not need to modify this section."
   ]
  },
  {
   "cell_type": "code",
   "execution_count": 19,
   "metadata": {},
   "outputs": [
    {
     "name": "stdout",
     "output_type": "stream",
     "text": [
      "Training...\n",
      "\n",
      "EPOCH 1 ...\n",
      "Validation Accuracy = 0.923\n",
      "\n",
      "EPOCH 2 ...\n",
      "Validation Accuracy = 0.968\n",
      "\n",
      "EPOCH 3 ...\n",
      "Validation Accuracy = 0.984\n",
      "\n",
      "EPOCH 4 ...\n",
      "Validation Accuracy = 0.989\n",
      "\n",
      "EPOCH 5 ...\n",
      "Validation Accuracy = 0.994\n",
      "\n",
      "EPOCH 6 ...\n",
      "Validation Accuracy = 0.995\n",
      "\n",
      "EPOCH 7 ...\n",
      "Validation Accuracy = 0.993\n",
      "\n",
      "EPOCH 8 ...\n",
      "Validation Accuracy = 0.995\n",
      "\n",
      "EPOCH 9 ...\n",
      "Validation Accuracy = 0.997\n",
      "\n",
      "EPOCH 10 ...\n",
      "Validation Accuracy = 0.995\n",
      "\n",
      "EPOCH 11 ...\n",
      "Validation Accuracy = 0.995\n",
      "\n",
      "EPOCH 12 ...\n",
      "Validation Accuracy = 0.997\n",
      "\n",
      "EPOCH 13 ...\n",
      "Validation Accuracy = 0.997\n",
      "\n",
      "EPOCH 14 ...\n",
      "Validation Accuracy = 0.996\n",
      "\n",
      "EPOCH 15 ...\n",
      "Validation Accuracy = 0.997\n",
      "\n",
      "EPOCH 16 ...\n",
      "Validation Accuracy = 0.997\n",
      "\n",
      "EPOCH 17 ...\n",
      "Validation Accuracy = 0.996\n",
      "\n",
      "EPOCH 18 ...\n",
      "Validation Accuracy = 0.996\n",
      "\n",
      "EPOCH 19 ...\n",
      "Validation Accuracy = 0.998\n",
      "\n",
      "EPOCH 20 ...\n",
      "Validation Accuracy = 0.999\n",
      "\n",
      "EPOCH 21 ...\n",
      "Validation Accuracy = 0.995\n",
      "\n",
      "EPOCH 22 ...\n",
      "Validation Accuracy = 0.997\n",
      "\n",
      "EPOCH 23 ...\n",
      "Validation Accuracy = 0.998\n",
      "\n",
      "EPOCH 24 ...\n",
      "Validation Accuracy = 0.999\n",
      "\n",
      "EPOCH 25 ...\n",
      "Validation Accuracy = 0.999\n",
      "\n",
      "EPOCH 26 ...\n",
      "Validation Accuracy = 0.998\n",
      "\n",
      "EPOCH 27 ...\n",
      "Validation Accuracy = 0.998\n",
      "\n",
      "EPOCH 28 ...\n",
      "Validation Accuracy = 0.999\n",
      "\n",
      "EPOCH 29 ...\n",
      "Validation Accuracy = 0.999\n",
      "\n",
      "EPOCH 30 ...\n",
      "Validation Accuracy = 0.999\n",
      "\n",
      "EPOCH 31 ...\n",
      "Validation Accuracy = 0.999\n",
      "\n",
      "EPOCH 32 ...\n",
      "Validation Accuracy = 0.996\n",
      "\n",
      "EPOCH 33 ...\n",
      "Validation Accuracy = 0.998\n",
      "\n",
      "EPOCH 34 ...\n",
      "Validation Accuracy = 0.999\n",
      "\n",
      "EPOCH 35 ...\n",
      "Validation Accuracy = 0.993\n",
      "\n",
      "EPOCH 36 ...\n",
      "Validation Accuracy = 0.999\n",
      "\n",
      "EPOCH 37 ...\n",
      "Validation Accuracy = 0.999\n",
      "\n",
      "EPOCH 38 ...\n",
      "Validation Accuracy = 0.999\n",
      "\n",
      "EPOCH 39 ...\n",
      "Validation Accuracy = 0.999\n",
      "\n",
      "EPOCH 40 ...\n",
      "Validation Accuracy = 0.998\n",
      "\n",
      "EPOCH 41 ...\n",
      "Validation Accuracy = 0.999\n",
      "\n",
      "EPOCH 42 ...\n",
      "Validation Accuracy = 0.999\n",
      "\n",
      "EPOCH 43 ...\n",
      "Validation Accuracy = 0.999\n",
      "\n",
      "EPOCH 44 ...\n",
      "Validation Accuracy = 0.999\n",
      "\n",
      "EPOCH 45 ...\n",
      "Validation Accuracy = 0.999\n",
      "\n",
      "EPOCH 46 ...\n",
      "Validation Accuracy = 0.994\n",
      "\n",
      "EPOCH 47 ...\n",
      "Validation Accuracy = 0.999\n",
      "\n",
      "EPOCH 48 ...\n",
      "Validation Accuracy = 0.999\n",
      "\n",
      "EPOCH 49 ...\n",
      "Validation Accuracy = 0.999\n",
      "\n",
      "EPOCH 50 ...\n",
      "Validation Accuracy = 0.999\n",
      "\n",
      "Model saved\n"
     ]
    }
   ],
   "source": [
    "with tf.Session() as sess:\n",
    "    sess.run(tf.global_variables_initializer())\n",
    "    num_examples = len(X_train)\n",
    "    \n",
    "    print(\"Training...\")\n",
    "    print()\n",
    "    for i in range(EPOCHS):\n",
    "        X_train, y_train = shuffle(X_train, y_train)\n",
    "        for offset in range(0, num_examples, BATCH_SIZE):\n",
    "            end = offset + BATCH_SIZE\n",
    "            batch_x, batch_y = X_train[offset:end], y_train[offset:end]\n",
    "            sess.run(training_operation, feed_dict={x: batch_x, y: batch_y})\n",
    "         \n",
    "        validation_accuracy = evaluate(X_validation, y_validation)\n",
    "        \n",
    "        \n",
    "        print(\"EPOCH {} ...\".format(i+1))\n",
    "        print(\"Validation Accuracy = {:.3f}\".format(validation_accuracy))\n",
    "        print()\n",
    "        \n",
    "    saver.save(sess, './lenet')\n",
    "    print(\"Model saved\")"
   ]
  },
  {
   "cell_type": "markdown",
   "metadata": {},
   "source": [
    "## Evaluate the Model\n",
    "Once you are completely satisfied with your model, evaluate the performance of the model on the test set.\n",
    "\n",
    "Be sure to only do this once!\n",
    "\n",
    "If you were to measure the performance of your trained model on the test set, then improve your model, and then measure the performance of your model on the test set again, that would invalidate your test results. You wouldn't get a true measure of how well your model would perform against real data.\n",
    "\n"
   ]
  },
  {
   "cell_type": "code",
   "execution_count": 20,
   "metadata": {},
   "outputs": [
    {
     "name": "stdout",
     "output_type": "stream",
     "text": [
      "Train Accuracy = 1.000\n",
      "Valid Accuracy = 0.999\n",
      "Test Accuracy = 0.941\n"
     ]
    }
   ],
   "source": [
    "with tf.Session() as sess:\n",
    "    saver.restore(sess, tf.train.latest_checkpoint('.'))\n",
    "    \n",
    "    train_accuracy = evaluate(X_train, y_train)\n",
    "    print(\"Train Accuracy = {:.3f}\".format(train_accuracy))\n",
    "    \n",
    "    valid_accuracy = evaluate(X_validation, y_validation)\n",
    "    print(\"Valid Accuracy = {:.3f}\".format(valid_accuracy))    \n",
    "    \n",
    "    test_accuracy = evaluate(X_test, y_test)\n",
    "    print(\"Test Accuracy = {:.3f}\".format(test_accuracy))\n",
    "    "
   ]
  },
  {
   "cell_type": "markdown",
   "metadata": {},
   "source": [
    "## Final Results\n",
    "Now, after using the approach described in the above sections, here are my final results:\n",
    "\n",
    "**Train Accuracy (100%)**\n",
    "\n",
    "**Validation Accuracy (99.9%)**\n",
    "\n",
    "**Test Accuracy (94.1%)**"
   ]
  },
  {
   "cell_type": "markdown",
   "metadata": {
    "collapsed": true
   },
   "source": [
    "# 4. Test a Model on New Images\n",
    "To give yourself more insight into how your model is working, download at least five pictures of German traffic signs from the web and use your model to predict the traffic sign type.\n",
    "You may find signnames.csv useful as it contains mappings from the class id (integer) to the actual sign name."
   ]
  },
  {
   "cell_type": "markdown",
   "metadata": {
    "collapsed": true
   },
   "source": [
    "## Load and Output the Images"
   ]
  },
  {
   "cell_type": "code",
   "execution_count": 21,
   "metadata": {},
   "outputs": [
    {
     "data": {
      "text/plain": [
       "['10.jpg',\n",
       " '8.jpg',\n",
       " '2.png',\n",
       " '3.png',\n",
       " '13.jpg',\n",
       " '14.jpg',\n",
       " '4.png',\n",
       " '7.jpg',\n",
       " '6.png',\n",
       " '1.png',\n",
       " '5.png',\n",
       " '9.jpg',\n",
       " '12.jpg',\n",
       " '11.jpg']"
      ]
     },
     "execution_count": 21,
     "metadata": {},
     "output_type": "execute_result"
    }
   ],
   "source": [
    "### Import libraries here, in case it is needed to run this part without re-training the Network.\n",
    "import os\n",
    "import numpy as np\n",
    "import matplotlib.pyplot as plt\n",
    "%matplotlib inline\n",
    "import matplotlib.image as mpimg\n",
    "import glob\n",
    "import cv2  #bringing in OpenCV libraries\n",
    "from PIL import Image\n",
    "import random\n",
    "\n",
    "\n",
    "# List the Images, my sample has 8-Images\n",
    "os.listdir(\"test_dataset\")\n",
    "\n"
   ]
  },
  {
   "cell_type": "code",
   "execution_count": 22,
   "metadata": {
    "scrolled": true
   },
   "outputs": [
    {
     "name": "stdout",
     "output_type": "stream",
     "text": [
      "dimensions test_dataset Images are: \n",
      " \n",
      "()\n",
      "Dataset Mean value BEFORE Normalization is: 131.71056547619048 \n"
     ]
    },
    {
     "data": {
      "image/png": "[encoded data removed]",
      "text/plain": [
       "<matplotlib.figure.Figure at 0x7f3789f5bba8>"
      ]
     },
     "metadata": {},
     "output_type": "display_data"
    }
   ],
   "source": [
    "#Reading and display downloaded German Sample images after resizing\n",
    "images1 = sorted(glob.glob('./test_dataset/*.png'))\n",
    "images2 = sorted(glob.glob('./test_dataset/*.jpg'))\n",
    "images = np.concatenate((images1, images2), axis=0)\n",
    "\n",
    "\n",
    "labels = np.array([1, 22, 35, 15, 37, 18, 10, 14, 33, 25, 40, 0, 28, 17 ])\n",
    "Y = labels\n",
    "signnames = np.genfromtxt('signnames.csv', skip_header=1, dtype=[('myint','i8'), ('mysring','S55')], delimiter=',')\n",
    "print(\"dimensions test_dataset Images are: \\n \")\n",
    "print( images[1].shape)\n",
    "\n",
    "i=0\n",
    "sample_images = []\n",
    "labels_names = {}\n",
    "for image in images:\n",
    "    img = cv2.cvtColor(cv2.imread(image), cv2.COLOR_BGR2RGB)\n",
    "   # print( \"Img\"+str(i+1)+\" = \",img.shape)\n",
    "    sample_images.append(img)\n",
    "    labels_names[i] = signnames[labels[i]][1].decode('ascii')\n",
    "    #print(\"label_names\"+str(i+1)+\"= \", labels_names[i])\n",
    "    #print(\"\\n\\n\")\n",
    "    i = i + 1\n",
    "    \n",
    "    \n",
    "\n",
    "fig, axs = plt.subplots(7,2, figsize=(15, 15))\n",
    "fig.subplots_adjust(hspace = .6, wspace=1)\n",
    "fig.suptitle(\"visualize 14- images from test_dataset_\", fontsize= 16)\n",
    "axs = axs.ravel()\n",
    "\n",
    "for i in range(14):\n",
    "    image = sample_images[i]\n",
    "    axs[i].axis('off')\n",
    "    axs[i].imshow(image)\n",
    "    axs[i].set_title(labels_names[i], fontsize = 10)\n",
    "\n",
    "# printing the mean value of the dataset before Normalization\n",
    "sample_images_mean = np.mean(sample_images)\n",
    "print(\"Dataset Mean value BEFORE Normalization is: {} \".format(sample_images_mean))"
   ]
  },
  {
   "cell_type": "code",
   "execution_count": 23,
   "metadata": {},
   "outputs": [
    {
     "name": "stdout",
     "output_type": "stream",
     "text": [
      "Grayscale size of sample_image  =  (32, 32, 1)\n",
      "Dataset Mean value AFTER Normalization is: 0.0289887927827381 \n",
      "Test Inputs dimension is (14, 32, 32, 1)\n",
      "Test Outputs dimension is (14,)\n"
     ]
    },
    {
     "data": {
      "image/png": "[encoded data removed]",
      "text/plain": [
       "<matplotlib.figure.Figure at 0x7f3789fbdbe0>"
      ]
     },
     "metadata": {},
     "output_type": "display_data"
    }
   ],
   "source": [
    "# Converting to grayscale then Normalize\n",
    "sample_images = np.array(sample_images)\n",
    "sample_images_gray = np.sum(sample_images/3, axis=3, keepdims=True)\n",
    "sample_images_normalized = (sample_images_gray - 128)/128 \n",
    "X = sample_images_normalized\n",
    "\n",
    "\n",
    "# Display Images after turning to grayscale and normalzation\n",
    "print(\"Grayscale size of sample_image  = \",sample_images_gray[5].shape)\n",
    "\n",
    "\n",
    "# printing the mean value of the dataset after Normalization\n",
    "sample_images_normalized_mean= np.mean(sample_images_normalized)\n",
    "print(\"Dataset Mean value AFTER Normalization is: {} \".format(sample_images_normalized_mean))\n",
    "\n",
    "# Display 1- Random image after Normalization from training dataset\n",
    "index = random.randint(0, len(sample_images_normalized)-1)\n",
    "image = sample_images_normalized[index].squeeze()\n",
    "plt.figure(figsize=(1,1))\n",
    "plt.title(\"Image Class =  {}\".format(labels_names[index]))\n",
    "plt.imshow(image, cmap=\"gray\")\n",
    "\n",
    "print( \"Test Inputs dimension is\", X.shape)\n",
    "print( \"Test Outputs dimension is\", Y.shape)\n"
   ]
  },
  {
   "cell_type": "markdown",
   "metadata": {},
   "source": [
    "## Predict the Sign Type for Each Image\n"
   ]
  },
  {
   "cell_type": "code",
   "execution_count": 24,
   "metadata": {},
   "outputs": [
    {
     "name": "stdout",
     "output_type": "stream",
     "text": [
      "Image0   expected class is = 1 VS predicted class is = 1\n",
      "Image1   expected class is = 22 VS predicted class is = 29\n",
      "Image2   expected class is = 35 VS predicted class is = 35\n",
      "Image3   expected class is = 15 VS predicted class is = 12\n",
      "Image4   expected class is = 37 VS predicted class is = 37\n",
      "Image5   expected class is = 18 VS predicted class is = 18\n",
      "Image6   expected class is = 10 VS predicted class is = 10\n",
      "Image7   expected class is = 14 VS predicted class is = 14\n",
      "Image8   expected class is = 33 VS predicted class is = 33\n",
      "Image9   expected class is = 25 VS predicted class is = 25\n",
      "Image10   expected class is = 40 VS predicted class is = 40\n",
      "Image11   expected class is = 0 VS predicted class is = 31\n",
      "Image12   expected class is = 28 VS predicted class is = 34\n",
      "Image13   expected class is = 17 VS predicted class is = 17\n",
      "Error: 4\n"
     ]
    }
   ],
   "source": [
    "# Compare between the Expected prediction and the Actual Predection per image\n",
    "\n",
    "import tensorflow as tf\n",
    "\n",
    "with tf.Session() as sess:\n",
    "    saver.restore(sess, tf.train.latest_checkpoint('.'))\n",
    "\n",
    "    predictions = sess.run(logits, feed_dict={x: X})\n",
    "\n",
    "error = 0\n",
    "for prediction,i in zip(predictions, range(len(predictions))):\n",
    "    print(\"Image{}   expected class is = {} VS predicted class is = {}\".format(i, Y[i], np.argmax(prediction)))\n",
    "    if np.argmax(prediction) != Y[i]:\n",
    "        error += 1\n",
    "print(\"Error:\", error)"
   ]
  },
  {
   "cell_type": "markdown",
   "metadata": {},
   "source": [
    "## Calculating Precision performance parameter \n",
    "\n",
    "As shown from above data, the model gives 6 error predicted classes and 8 correctly predicted classes , which gives us the following Precision  value:\n",
    "\n",
    "** Precision = 8/12 = 0.66 = 66.66% **"
   ]
  },
  {
   "cell_type": "markdown",
   "metadata": {},
   "source": [
    "## Mispredicted Classes inspection\n",
    "\n",
    "The following classes are the 6- mispredicted in my Model:\n",
    "\n",
    "Class 1 --> Speed limit (30km/h)\n",
    "\n",
    "Class 15 --> No vehicles\n",
    "\n",
    "Class 14 --> Stop\n",
    "\n",
    "Class 33 --> Turn right ahead\n",
    "\n",
    "Class 40 --> Roundabout mandatory\n",
    "\n",
    "Class 28 --> Children crossing\n",
    "\n",
    "So, Let's visualize the Current Traning set and Validation set classes labels frequencies:\n"
   ]
  },
  {
   "cell_type": "code",
   "execution_count": 25,
   "metadata": {},
   "outputs": [
    {
     "name": "stdout",
     "output_type": "stream",
     "text": [
      " Current Trainin Set size =  125468\n"
     ]
    },
    {
     "data": {
      "image/png": "[encoded data removed]",
      "text/plain": [
       "<matplotlib.figure.Figure at 0x7f3784391e10>"
      ]
     },
     "metadata": {},
     "output_type": "display_data"
    }
   ],
   "source": [
    "# Visualize Current Traning set labels frequencies diagram\n",
    "print(\" Current Trainin Set size = \", len(y_train))\n",
    "hist, bins = np.histogram(y_train, bins=43)\n",
    "width = 0.7 * (bins[1] - bins[0])\n",
    "center = (bins[:-1] + bins[1:]) / 2\n",
    "plt.bar(center, hist, align='center', width=width)\n",
    "plt.title(\"Label Frequency in Training set\")\n",
    "plt.xlabel('Classes Labels')\n",
    "plt.ylabel('Frequency')\n",
    "plt.show()\n"
   ]
  },
  {
   "cell_type": "code",
   "execution_count": 26,
   "metadata": {},
   "outputs": [
    {
     "name": "stdout",
     "output_type": "stream",
     "text": [
      " Current Trainin Set size =  31368\n"
     ]
    },
    {
     "data": {
      "image/png": "[encoded data removed]",
      "text/plain": [
       "<matplotlib.figure.Figure at 0x7f378a810400>"
      ]
     },
     "metadata": {},
     "output_type": "display_data"
    }
   ],
   "source": [
    "# Visualize Current Traning set labels frequencies diagram\n",
    "print(\" Current Trainin Set size = \", len(y_validation))\n",
    "hist, bins = np.histogram(y_validation, bins=43)\n",
    "width = 0.7 * (bins[1] - bins[0])\n",
    "center = (bins[:-1] + bins[1:]) / 2\n",
    "plt.bar(center, hist, align='center', width=width)\n",
    "plt.title(\"Label Frequency in Validation set\")\n",
    "plt.xlabel('Classes Labels')\n",
    "plt.ylabel('Frequency')\n",
    "plt.show()\n"
   ]
  },
  {
   "cell_type": "markdown",
   "metadata": {},
   "source": [
    "### Now it is clear that the classes that are mis-predicted are not trained well, so now I will Augment more training and validation data for those classes to make sure the model is trained well enough to predict those classes."
   ]
  },
  {
   "cell_type": "code",
   "execution_count": null,
   "metadata": {},
   "outputs": [],
   "source": [
    "### Run the predictions here and use the model to output the prediction for each image.\n",
    "### Make sure to pre-process the images with the same pre-processing pipeline used earlier.\n",
    "### Feel free to use as many code cells as needed.\n",
    "import tensorflow as tf\n",
    "with tf.Session() as sess:\n",
    "   # sess.run(tf.global_variables_initializer())\n",
    "    saver.restore(sess, tf.train.latest_checkpoint('.'))\n",
    "    #saver.restore(sess, \"./lenet\")\n",
    "\n",
    "    test_accuracy = evaluate(X, Y)\n",
    "    print(\"Random Images Test Accuracy = {:.3f}\".format(test_accuracy))"
   ]
  },
  {
   "cell_type": "markdown",
   "metadata": {},
   "source": [
    "## Augmenting more data\n",
    "Here, I will go to the previous data augmentation section and Augment more data, then train the model and test again"
   ]
  },
  {
   "cell_type": "markdown",
   "metadata": {},
   "source": [
    "### Model Predicition Re-evaluation on the Random test images after Augmentintg more data"
   ]
  },
  {
   "cell_type": "markdown",
   "metadata": {},
   "source": [
    "Now error = 4 out of 12.\n",
    "\n",
    "Image0   expected class is = 1 VS predicted class is = 1\n",
    "\n",
    "Image1   expected class is = 22 VS predicted class is = 29\n",
    "\n",
    "Image2   expected class is = 35 VS predicted class is = 35\n",
    "\n",
    "Image3   expected class is = 15 VS predicted class is = 12\n",
    "\n",
    "Image4   expected class is = 37 VS predicted class is = 37\n",
    "\n",
    "Image5   expected class is = 18 VS predicted class is = 18\n",
    "\n",
    "Image6   expected class is = 10 VS predicted class is = 10\n",
    "\n",
    "Image7   expected class is = 14 VS predicted class is = 14\n",
    "\n",
    "Image8   expected class is = 33 VS predicted class is = 33\n",
    "\n",
    "Image9   expected class is = 25 VS predicted class is = 25\n",
    "\n",
    "Image10   expected class is = 40 VS predicted class is = 40\n",
    "\n",
    "Image11   expected class is = 0 VS predicted class is = 31\n",
    "\n",
    "Image12   expected class is = 28 VS predicted class is = 34\n",
    "\n",
    "Image13   expected class is = 17 VS predicted class is = 17\n",
    "\n",
    "Error: 4\n",
    "\n",
    "** Which enhanced the precision from 66.66% to 83.33% **\n",
    "\n",
    "\n",
    "\n"
   ]
  },
  {
   "cell_type": "markdown",
   "metadata": {},
   "source": [
    "## Analyze Performance"
   ]
  },
  {
   "cell_type": "code",
   "execution_count": 31,
   "metadata": {},
   "outputs": [
    {
     "name": "stdout",
     "output_type": "stream",
     "text": [
      "Random Image testing Accuracy = 0.714\n",
      "\n"
     ]
    }
   ],
   "source": [
    "### Calculate the testing accuracy for these 14 new images. \n",
    "\n",
    "\n",
    "with tf.Session() as sess:\n",
    "    sess.run(tf.global_variables_initializer())\n",
    "    saver.restore(sess, \"./lenet\")\n",
    "    my_accuracy = evaluate(X, Y)\n",
    "    print(\"Random Image testing Accuracy = {:.3f}\\n\".format(my_accuracy))\n",
    "        "
   ]
  },
  {
   "cell_type": "markdown",
   "metadata": {
    "collapsed": true
   },
   "source": [
    "## Suggested Solution for higher perfromance (TODO)\n",
    "Go over the web, and get more images for the classes with lower samples and augment with training set, then train the model and evaluate again."
   ]
  },
  {
   "cell_type": "markdown",
   "metadata": {
    "collapsed": true
   },
   "source": [
    "## Output Top 5 Softmax Probabilities For Each Image Found on the Web\n",
    "\n",
    "For each of the new images, print out the model's softmax probabilities to show the **certainty** of the model's predictions (limit the output to the top 5 probabilities for each image). tf.nn.top_k could prove helpful here.\n",
    "\n",
    "The example below demonstrates how tf.nn.top_k can be used to find the top k predictions for each image.\n",
    "\n",
    "tf.nn.top_k will return the values and indices (class ids) of the top k predictions. So if k=3, for each sign, it'll return the 3 largest probabilities (out of a possible 43) and the correspoding class ids.\n",
    "\n",
    "Take this numpy array as an example. The values in the array represent predictions. The array contains softmax probabilities for five candidate images with six possible classes. tf.nn.top_k is used to choose the three classes with the highest probability:\n",
    "\n",
    " (5, 6) array\n",
    " \n",
    "a = np.array([[ 0.24879643,  0.07032244,  0.12641572,  0.34763842,  0.07893497,\n",
    "\n",
    "         0.12789202],\n",
    "         \n",
    "       [ 0.28086119,  0.27569815,  0.08594638,  0.0178669 ,  0.18063401,\n",
    "       \n",
    "         0.15899337],\n",
    "         \n",
    "       [ 0.26076848,  0.23664738,  0.08020603,  0.07001922,  0.1134371 ,\n",
    "       \n",
    "         0.23892179],\n",
    "         \n",
    "       [ 0.11943333,  0.29198961,  0.02605103,  0.26234032,  0.1351348 ,\n",
    "       \n",
    "         0.16505091],\n",
    "         \n",
    "       [ 0.09561176,  0.34396535,  0.0643941 ,  0.16240774,  0.24206137,\n",
    "       \n",
    "         0.09155967]])\n",
    "         \n",
    "Running it through sess.run(tf.nn.top_k(tf.constant(a), k=3)) produces:\n",
    "\n",
    "TopKV2(values=array([[ 0.34763842,  0.24879643,  0.12789202],\n",
    "\n",
    "       [ 0.28086119,  0.27569815,  0.18063401],\n",
    "       \n",
    "       [ 0.26076848,  0.23892179,  0.23664738],\n",
    "       \n",
    "       [ 0.29198961,  0.26234032,  0.16505091],\n",
    "       \n",
    "       [ 0.34396535,  0.24206137,  0.16240774]]), indices=array([[3, 0, 5],\n",
    "       \n",
    "       [0, 1, 4],\n",
    "       \n",
    "       [0, 5, 1],\n",
    "       \n",
    "       [1, 3, 5],\n",
    "       \n",
    "       [1, 4, 3]], dtype=int32))\n",
    "       \n",
    "Looking just at the first row we get [ 0.34763842,  0.24879643,  0.12789202], you can confirm these are the 3 largest probabilities in a. You'll also notice [3, 0, 5] are the corresponding indices.\n"
   ]
  },
  {
   "cell_type": "code",
   "execution_count": 33,
   "metadata": {},
   "outputs": [
    {
     "name": "stdout",
     "output_type": "stream",
     "text": [
      "[[  9.99884367e-01   1.15382027e-04   2.60103832e-07   3.87005342e-19\n",
      "    8.73833215e-23]\n",
      " [  9.73866642e-01   2.61332765e-02   1.31121229e-13   2.28202124e-17\n",
      "    6.77911509e-21]\n",
      " [  1.00000000e+00   2.45384935e-10   6.01633049e-11   1.79150774e-11\n",
      "    7.84736946e-12]\n",
      " [  9.99935031e-01   5.28805431e-05   5.96184464e-06   4.93966900e-06\n",
      "    1.13308533e-06]\n",
      " [  1.00000000e+00   3.24697962e-18   8.40365872e-20   7.57140315e-25\n",
      "    2.22790615e-25]\n",
      " [  1.00000000e+00   1.51618941e-27   1.33108770e-28   1.25790465e-28\n",
      "    1.21507077e-28]\n",
      " [  1.00000000e+00   3.30928167e-12   1.15975569e-21   5.08270326e-22\n",
      "    3.21394681e-22]\n",
      " [  3.14307600e-01   3.11537683e-01   2.11296365e-01   1.28047958e-01\n",
      "    2.21331697e-02]\n",
      " [  9.99889493e-01   7.85517041e-05   1.42119907e-05   1.10758383e-05\n",
      "    6.18088006e-06]\n",
      " [  1.00000000e+00   1.98419572e-10   1.47457976e-10   9.57501717e-11\n",
      "    5.82355236e-13]\n",
      " [  1.00000000e+00   3.83435417e-09   1.05794110e-10   5.85927903e-11\n",
      "    2.10140724e-11]\n",
      " [  1.00000000e+00   1.06733840e-08   1.63858521e-12   2.27281301e-15\n",
      "    1.07124728e-17]\n",
      " [  1.00000000e+00   1.76168804e-08   1.35589484e-09   2.50623577e-10\n",
      "    6.20204571e-14]\n",
      " [  1.00000000e+00   3.07537398e-11   3.02241650e-14   1.06096118e-19\n",
      "    3.01161210e-20]]\n",
      "[[ 1  2 40 33 10]\n",
      " [29 22 31 24 25]\n",
      " [35 25 12  9 20]\n",
      " [12  1 38 40 15]\n",
      " [37 40 26 18 39]\n",
      " [18 26 11 27 28]\n",
      " [10  9 12  2 40]\n",
      " [14 34 17 33 39]\n",
      " [33 11 25 16  9]\n",
      " [25 29 22 20 31]\n",
      " [40 25 32 12  5]\n",
      " [31 28  1 35 33]\n",
      " [34 32  3 20 40]\n",
      " [17 14 12 34  1]]\n"
     ]
    }
   ],
   "source": [
    "### Print out the top five softmax probabilities for the predictions on the German traffic sign images found on the web. \n",
    "### Feel free to use as many code cells as needed.\n",
    "\n",
    "with tf.Session() as sess:\n",
    "    saver.restore(sess, tf.train.latest_checkpoint('.'))\n",
    "    Softmax = tf.nn.softmax(logits)\n",
    "    predictions = sess.run(Softmax, feed_dict={x: X})\n",
    "    Top5 = sess.run(tf.nn.top_k(tf.constant(predictions), k=5))\n",
    "    # Top 5- classes predicted per Testing Image\n",
    "    Top5Classes = Top5[1]\n",
    "print(Top5[0])\n",
    "print(Top5Classes)"
   ]
  },
  {
   "cell_type": "code",
   "execution_count": 36,
   "metadata": {},
   "outputs": [
    {
     "name": "stdout",
     "output_type": "stream",
     "text": [
      "Top 5 softmax predictions of image0 is \n",
      "Bumpy road\n",
      "Ahead only\n"
     ]
    },
    {
     "ename": "KeyError",
     "evalue": "40",
     "output_type": "error",
     "traceback": [
      "\u001b[0;31m---------------------------------------------------------------------------\u001b[0m",
      "\u001b[0;31mKeyError\u001b[0m                                  Traceback (most recent call last)",
      "\u001b[0;32m<ipython-input-36-75b53d8420a1>\u001b[0m in \u001b[0;36m<module>\u001b[0;34m()\u001b[0m\n\u001b[1;32m      8\u001b[0m         \u001b[0mprint\u001b[0m \u001b[0;34m(\u001b[0m \u001b[0;34m\"Top 5 softmax predictions of image\"\u001b[0m \u001b[0;34m+\u001b[0m \u001b[0mstr\u001b[0m\u001b[0;34m(\u001b[0m\u001b[0mi\u001b[0m\u001b[0;34m)\u001b[0m \u001b[0;34m+\u001b[0m\u001b[0;34m\" is \"\u001b[0m \u001b[0;34m)\u001b[0m\u001b[0;34m\u001b[0m\u001b[0m\n\u001b[1;32m      9\u001b[0m         \u001b[0;32mfor\u001b[0m \u001b[0mk\u001b[0m \u001b[0;32min\u001b[0m \u001b[0mj\u001b[0m\u001b[0;34m:\u001b[0m\u001b[0;34m\u001b[0m\u001b[0m\n\u001b[0;32m---> 10\u001b[0;31m             \u001b[0mprint\u001b[0m\u001b[0;34m(\u001b[0m\u001b[0mlabels_names\u001b[0m\u001b[0;34m[\u001b[0m\u001b[0mk\u001b[0m\u001b[0;34m]\u001b[0m\u001b[0;34m)\u001b[0m\u001b[0;34m\u001b[0m\u001b[0m\n\u001b[0m\u001b[1;32m     11\u001b[0m         \u001b[0mprint\u001b[0m\u001b[0;34m(\u001b[0m\u001b[0;34m\"\\n\"\u001b[0m\u001b[0;34m)\u001b[0m\u001b[0;34m\u001b[0m\u001b[0m\n\u001b[1;32m     12\u001b[0m \u001b[0;34m\u001b[0m\u001b[0m\n",
      "\u001b[0;31mKeyError\u001b[0m: 40"
     ]
    }
   ],
   "source": [
    "# Display Top 5- Softmax per Class for every Image in the Random testing images\n",
    "for i in range(14):\n",
    "    image = sample_images[i]\n",
    "    axs[i].axis('off')\n",
    "    axs[i].imshow(image)\n",
    "    axs[i].set_title(str(i), fontsize = 10)\n",
    "    for j in Top5Classes:\n",
    "        print ( \"Top 5 softmax predictions of image\" + str(i) +\" is \" )\n",
    "        for k in j:\n",
    "            print(labels_names[k])\n",
    "        print(\"\\n\")    \n",
    "            \n",
    "        \n",
    "        "
   ]
  },
  {
   "cell_type": "code",
   "execution_count": null,
   "metadata": {
    "collapsed": true
   },
   "outputs": [],
   "source": []
  }
 ],
 "metadata": {
  "anaconda-cloud": {},
  "kernelspec": {
   "display_name": "Python 3",
   "language": "python",
   "name": "python3"
  },
  "language_info": {
   "codemirror_mode": {
    "name": "ipython",
    "version": 3
   },
   "file_extension": ".py",
   "mimetype": "text/x-python",
   "name": "python",
   "nbconvert_exporter": "python",
   "pygments_lexer": "ipython3",
   "version": "3.5.2"
  },
  "widgets": {
   "state": {},
   "version": "1.1.2"
  }
 },
 "nbformat": 4,
 "nbformat_minor": 1
}
