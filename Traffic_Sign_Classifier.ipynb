{
 "cells": [
  {
   "cell_type": "markdown",
   "metadata": {},
   "source": [
    "# Self-Driving Car Engineer Nanodegree\n",
    "## Deep Learning\n",
    "## Project: Build a Traffic Sign Recognition Classifier\n",
    "This notebook, is considered my **Implementation** of the Build aTraffic Sign Recognition Classifer project. In addition to implementing code, there is a **writeup**. The [writeup](https://github.com/MyadaRoshdi/P2/blob/master/writeup.md) is completed in a separate file, which is a markdown file. Completing the code template and writeup template will cover all of the [rubric](https://review.udacity.com/#!/rubrics/481/view) points for this project."
   ]
  },
  {
   "cell_type": "markdown",
   "metadata": {},
   "source": [
    "# 1. Dataset Exploration"
   ]
  },
  {
   "cell_type": "markdown",
   "metadata": {},
   "source": [
    "## Load Data\n",
    "\n",
    "This part is modified to load the Traffic Sign Classifier data, input image: (32x32x3), output: 43-classes.\n",
    "The imported data size is: Training Set:   34799 samples, Validation Set: 4410 samples, Test Set: 12630 samples.\n",
    "So, As shown the validation set is 12.6 % of Training set"
   ]
  },
  {
   "cell_type": "code",
   "execution_count": 1,
   "metadata": {},
   "outputs": [
    {
     "name": "stdout",
     "output_type": "stream",
     "text": [
      "\n",
      "Image Shape: (32, 32, 3)\n",
      "\n",
      "Training Set:   34799 samples\n",
      "Validation Set: 4410 samples\n",
      "Test Set:       12630 samples\n",
      "\n",
      "Percentage of Validation Set: 12.672777953389467%\n",
      "\n",
      "Sample of output classes in Training set before shuffle:\n",
      "[41 41 41 41 41 41 41 41 41 41 41 41 41 41 41 41 41 41 41 41 41 41 41 41 41\n",
      " 41 41 41 41 41 41 41 41 41 41 41 41 41 41 41 41 41 41 41 41 41 41 41 41 41\n",
      " 41 41 41 41 41 41 41 41 41 41 41 41 41 41 41 41 41 41 41 41 41 41 41 41 41\n",
      " 41 41 41 41 41 41 41 41 41 41 41 41 41 41 41 41 41 41 41 41 41 41 41 41 41\n",
      " 41 41 41 41 41 41 41 41 41 41 41 41 41 41 41 41 41 41 41 41 41 41 41 41 41\n",
      " 41 41 41 41 41 41 41 41 41 41 41 41 41 41 41 41 41 41 41 41 41 41 41 41 41\n",
      " 41 41 41 41 41 41 41 41 41 41 41 41 41 41 41 41 41 41 41 41 41 41 41 41 41\n",
      " 41 41 41 41 41 41 41 41 41 41 41 41 41 41 41 41 41 41 41 41 41 41 41 41 41\n",
      " 41 41 41 41 41 41 41 41 41 41 31 31 31 31 31 31 31 31 31 31 31 31 31 31 31\n",
      " 31 31 31 31 31 31 31 31 31 31 31 31 31 31 31 31 31 31 31 31 31 31 31 31 31\n",
      " 31 31 31 31 31 31 31 31 31 31 31 31 31 31 31 31 31 31 31 31 31 31 31 31 31\n",
      " 31 31 31 31 31 31 31 31 31 31 31 31 31 31 31 31 31 31 31 31 31 31 31 31 31\n",
      " 31 31 31 31 31 31 31 31 31 31 31 31 31 31 31 31 31 31 31 31 31 31 31 31 31\n",
      " 31 31 31 31 31 31 31 31 31 31 31 31 31 31 31 31 31 31 31 31 31 31 31 31 31\n",
      " 31 31 31 31 31 31 31 31 31 31 31 31 31 31 31 31 31 31 31 31 31 31 31 31 31\n",
      " 31 31 31 31 31 31 31 31 31 31 31 31 31 31 31 31 31 31 31 31 31 31 31 31 31\n",
      " 31 31 31 31 31 31 31 31 31 31 31 31 31 31 31 31 31 31 31 31 31 31 31 31 31\n",
      " 31 31 31 31 31 31 31 31 31 31 31 31 31 31 31 31 31 31 31 31 31 31 31 31 31\n",
      " 31 31 31 31 31 31 31 31 31 31 31 31 31 31 31 31 31 31 31 31 31 31 31 31 31\n",
      " 31 31 31 31 31 31 31 31 31 31 31 31 31 31 31 31 31 31 31 31 31 31 31 31 31\n",
      " 31 31 31 31 31 31 31 31 31 31 31 31 31 31 31 31 31 31 31 31 31 31 31 31 31\n",
      " 31 31 31 31 31 31 31 31 31 31 31 31 31 31 31 31 31 31 31 31 31 31 31 31 31\n",
      " 31 31 31 31 31 31 31 31 31 31 31 31 31 31 31 31 31 31 31 31 31 31 31 31 31\n",
      " 31 31 31 31 31 31 31 31 31 31 31 31 31 31 31 31 31 31 31 31 31 31 31 31 31\n",
      " 31 31 31 31 31 31 31 31 31 31 31 31 31 31 31 31 31 31 31 31 31 31 31 31 31\n",
      " 31 31 31 31 31 31 31 31 31 31 31 31 31 31 31 31 31 31 31 31 31 31 31 31 31\n",
      " 31 31 31 31 31 31 31 31 31 31 31 31 31 31 31 31 31 31 31 31 31 31 31 31 31\n",
      " 31 31 31 31 31 31 31 31 31 31 31 31 31 31 31 31 31 31 31 31 31 31 31 31 31\n",
      " 31 31 31 31 31 31 31 31 31 31 31 31 31 31 31 31 31 31 31 31 31 31 31 31 31\n",
      " 31 31 31 31 31 31 31 31 31 31 31 31 31 31 31 31 31 31 31 31 31 31 31 31 31\n",
      " 31 31 31 31 31 31 31 31 31 31 31 31 31 31 31 31 31 31 31 31 31 31 31 31 31\n",
      " 31 31 31 31 31 31 31 31 31 31 31 31 31 31 31 31 31 31 31 31 31 31 31 31 31\n",
      " 31 31 31 31 31 31 31 31 31 31 31 31 31 31 31 31 31 31 31 31 31 31 31 31 31\n",
      " 31 31 31 31 31 31 31 31 31 31 31 31 31 31 31 31 31 31 31 31 31 31 31 31 31\n",
      " 31 31 31 31 31 31 31 31 31 31 31 31 31 31 31 31 31 31 31 31 31 31 31 31 31\n",
      " 31 31 31 31 31 31 31 31 31 31 31 31 31 31 31 31 31 31 31 31 31 31 31 31 31\n",
      " 36 36 36 36 36 36 36 36 36 36 36 36 36 36 36 36 36 36 36 36 36 36 36 36 36\n",
      " 36 36 36 36 36 36 36 36 36 36 36 36 36 36 36 36 36 36 36 36 36 36 36 36 36\n",
      " 36 36 36 36 36 36 36 36 36 36 36 36 36 36 36 36 36 36 36 36 36 36 36 36 36\n",
      " 36 36 36 36 36 36 36 36 36 36 36 36 36 36 36 36 36 36 36 36 36 36 36 36 36]\n",
      "\n",
      "Sample of output classes in Validation set before shuffle:\n",
      "[41 41 41 41 41 41 41 41 41 41 41 41 41 41 41 41 41 41 41 41 41 41 41 41 41\n",
      " 41 41 41 41 41 41 41 41 41 41 41 41 41 41 41 41 41 41 41 41 41 41 41 41 41\n",
      " 41 41 41 41 41 41 41 41 41 41 41 41 41 41 41 41 41 41 41 41 41 41 41 41 41\n",
      " 41 41 41 41 41 41 41 41 41 41 41 41 41 41 41 41 41 41 41 41 41 41 41 41 41\n",
      " 41 41 41 41 41 41 41 41 41 41 41 41 41 41 41 41 41 41 41 41 41 41 41 41 41\n",
      " 41 41 41 41 41 41 41 41 41 41 41 41 41 41 41 41 41 41 41 41 41 41 41 41 41\n",
      " 41 41 41 41 41 41 41 41 41 41 41 41 41 41 41 41 41 41 41 41 41 41 41 41 41\n",
      " 41 41 41 41 41 41 41 41 41 41 41 41 41 41 41 41 41 41 41 41 41 41 41 41 41\n",
      " 41 41 41 41 41 41 41 41 41 41 31 31 31 31 31 31 31 31 31 31 31 31 31 31 31\n",
      " 31 31 31 31 31 31 31 31 31 31 31 31 31 31 31 31 31 31 31 31 31 31 31 31 31\n",
      " 31 31 31 31 31 31 31 31 31 31 31 31 31 31 31 31 31 31 31 31 31 31 31 31 31\n",
      " 31 31 31 31 31 31 31 31 31 31 31 31 31 31 31 31 31 31 31 31 31 31 31 31 31\n",
      " 31 31 31 31 31 31 31 31 31 31 31 31 31 31 31 31 31 31 31 31 31 31 31 31 31\n",
      " 31 31 31 31 31 31 31 31 31 31 31 31 31 31 31 31 31 31 31 31 31 31 31 31 31\n",
      " 31 31 31 31 31 31 31 31 31 31 31 31 31 31 31 31 31 31 31 31 31 31 31 31 31\n",
      " 31 31 31 31 31 31 31 31 31 31 31 31 31 31 31 31 31 31 31 31 31 31 31 31 31\n",
      " 31 31 31 31 31 31 31 31 31 31 31 31 31 31 31 31 31 31 31 31 31 31 31 31 31\n",
      " 31 31 31 31 31 31 31 31 31 31 31 31 31 31 31 31 31 31 31 31 31 31 31 31 31\n",
      " 31 31 31 31 31 31 31 31 31 31 31 31 31 31 31 31 31 31 31 31 31 31 31 31 31\n",
      " 31 31 31 31 31 31 31 31 31 31 31 31 31 31 31 31 31 31 31 31 31 31 31 31 31\n",
      " 31 31 31 31 31 31 31 31 31 31 31 31 31 31 31 31 31 31 31 31 31 31 31 31 31\n",
      " 31 31 31 31 31 31 31 31 31 31 31 31 31 31 31 31 31 31 31 31 31 31 31 31 31\n",
      " 31 31 31 31 31 31 31 31 31 31 31 31 31 31 31 31 31 31 31 31 31 31 31 31 31\n",
      " 31 31 31 31 31 31 31 31 31 31 31 31 31 31 31 31 31 31 31 31 31 31 31 31 31\n",
      " 31 31 31 31 31 31 31 31 31 31 31 31 31 31 31 31 31 31 31 31 31 31 31 31 31\n",
      " 31 31 31 31 31 31 31 31 31 31 31 31 31 31 31 31 31 31 31 31 31 31 31 31 31\n",
      " 31 31 31 31 31 31 31 31 31 31 31 31 31 31 31 31 31 31 31 31 31 31 31 31 31\n",
      " 31 31 31 31 31 31 31 31 31 31 31 31 31 31 31 31 31 31 31 31 31 31 31 31 31\n",
      " 31 31 31 31 31 31 31 31 31 31 31 31 31 31 31 31 31 31 31 31 31 31 31 31 31\n",
      " 31 31 31 31 31 31 31 31 31 31 31 31 31 31 31 31 31 31 31 31 31 31 31 31 31\n",
      " 31 31 31 31 31 31 31 31 31 31 31 31 31 31 31 31 31 31 31 31 31 31 31 31 31\n",
      " 31 31 31 31 31 31 31 31 31 31 31 31 31 31 31 31 31 31 31 31 31 31 31 31 31\n",
      " 31 31 31 31 31 31 31 31 31 31 31 31 31 31 31 31 31 31 31 31 31 31 31 31 31\n",
      " 31 31 31 31 31 31 31 31 31 31 31 31 31 31 31 31 31 31 31 31 31 31 31 31 31\n",
      " 31 31 31 31 31 31 31 31 31 31 31 31 31 31 31 31 31 31 31 31 31 31 31 31 31\n",
      " 31 31 31 31 31 31 31 31 31 31 31 31 31 31 31 31 31 31 31 31 31 31 31 31 31\n",
      " 36 36 36 36 36 36 36 36 36 36 36 36 36 36 36 36 36 36 36 36 36 36 36 36 36\n",
      " 36 36 36 36 36 36 36 36 36 36 36 36 36 36 36 36 36 36 36 36 36 36 36 36 36\n",
      " 36 36 36 36 36 36 36 36 36 36 36 36 36 36 36 36 36 36 36 36 36 36 36 36 36\n",
      " 36 36 36 36 36 36 36 36 36 36 36 36 36 36 36 36 36 36 36 36 36 36 36 36 36]\n"
     ]
    }
   ],
   "source": [
    "# Load pickled data\n",
    "import pickle\n",
    "\n",
    "import random\n",
    "import numpy as np\n",
    "import matplotlib.pyplot as plt\n",
    "%matplotlib inline\n",
    "\n",
    "training_file = 'train.p'\n",
    "validation_file= 'valid.p'\n",
    "testing_file = 'test.p'\n",
    "\n",
    "\n",
    "with open(training_file, mode='rb') as f:\n",
    "    train = pickle.load(f)\n",
    "with open(validation_file, mode='rb') as f:\n",
    "    valid = pickle.load(f)\n",
    "with open(testing_file, mode='rb') as f:\n",
    "    test = pickle.load(f)\n",
    "  \n",
    "X_train, y_train = train['features'], train['labels']\n",
    "X_validation, y_validation = valid['features'], valid['labels']\n",
    "X_test, y_test = test['features'], test['labels']\n",
    "\n",
    "\n",
    "assert(len(X_train) == len(y_train))\n",
    "assert(len(X_validation) == len(y_validation))\n",
    "assert(len(X_test) == len(y_test))\n",
    "\n",
    "\n",
    "print()\n",
    "print(\"Image Shape: {}\".format(X_train[0].shape))\n",
    "print()\n",
    "print(\"Training Set:   {} samples\".format(len(X_train)))\n",
    "print(\"Validation Set: {} samples\".format(len(X_validation)))\n",
    "print(\"Test Set:       {} samples\\n\".format(len(X_test)))\n",
    "print(\"Percentage of Validation Set: {}%\\n\".format((len(X_validation)/len(X_train))* 100))\n",
    "print(\"Sample of output classes in Training set before shuffle:\")\n",
    "print(y_train[0:1000])\n",
    "print(\"\\nSample of output classes in Validation set before shuffle:\")\n",
    "print(y_train[0:1000])"
   ]
  },
  {
   "cell_type": "markdown",
   "metadata": {},
   "source": [
    "Since in my approach as shown in later sections, I will augment more data to both training set and validation set, So I prefer to put all the data in one container, apply all modifications then split."
   ]
  },
  {
   "cell_type": "code",
   "execution_count": null,
   "metadata": {},
   "outputs": [],
   "source": [
    "# Put all data in one container or now\n",
    "\n",
    "X_train = np.concatenate((X_train, X_validation), axis=0)\n",
    "y_train = np.concatenate((y_train, y_validation), axis=0)\n",
    "print(\"Current Training Set:   {} samples\".format(len(X_train)))"
   ]
  },
  {
   "cell_type": "markdown",
   "metadata": {},
   "source": [
    "\n",
    "Shuffle the  data.\n"
   ]
  },
  {
   "cell_type": "code",
   "execution_count": 2,
   "metadata": {},
   "outputs": [
    {
     "name": "stdout",
     "output_type": "stream",
     "text": [
      "Sample of output classes in Training set after shuffle:\n",
      "[36 40 23 11  1 23 35 35 25 35 12  0  6  4 26 13  2  5  4 10 10 15  1 17 10\n",
      " 15  7 21 28 23 10 13  1 22 12 13  6  9 37 18 10  7  2 13 26 13 40 22 26  1\n",
      " 30  1 12 28 23  4 34  2  2  9 12 35 12  1  1 13 13 29 26 25  3 11 24 31  8\n",
      "  4 27 17 12  4  9  1  3  5  4 13 13 11 24 16 39 25 38 10  9 15 25  1  7 40\n",
      "  3 19 10  8  4  8 40  0  1 10 17 36 12  5 35 14 11  9 30 39 17  7  1 23  3\n",
      " 13  2 38 12 23  9  9  2 33  3 20 19 26 28 10 25  5 13 22 18  7 33  4 33 23\n",
      " 38 35 18 38  5 13 25  2  9  5  1 11  3 10 11  2 28 14 18 33 12  1 40 13 34\n",
      " 38  7 41 14 12 15  7 11  4  3 12  3 27 10  6 35  9 29  6 15 17 22 17  5 33\n",
      " 26 38  1 15  4 28 35 14  1 38  5 35 11 30  2 42 13  4 10 10 13 10 25 35  7\n",
      "  9 26  3 13 41  8 13  8  8 42  5 21 35 25 12 35 18  6 35 31 40 16 11  2 42\n",
      "  2 12 36  2 11 18  1  3 31 11 15 10 17 30 14 35  7 10 10  8 18  9 25  2 17\n",
      "  2  8  4 12 18 28 25 32 16 32  4 25 14 18  5  5 38  3 24 12 12 12 16 11 17\n",
      "  8  1  8  8 28  3 16 37  3 31  8 33 23  4 34 25  5 16  7 27 30 38 12  1  1\n",
      " 38 32  9 12 25 33  4 39 12  8 10 29 13  1  3 12  1 12 10  1  8  9  9  3 17\n",
      "  3  4 14 12  1  3 13 38 13 12 18 11 35 10 26  4  1 10  8 18  9 11 10  2  2\n",
      " 35 10 17  3  4  9 34 33 31 41 25  9 38 35 10 38 22  2 40 33 25 21 14  1 12\n",
      " 41 13 13 13  9 12 35 38  2  4 12 32  8 12 13 38 26 22  9 12 15  4 14  1 11\n",
      "  9  8 14 38  4  1 12  1 13 12 31 38  1 12  7  2  1 11  5  1 20 42 10  4 11\n",
      " 12 10 37  7  5 35  1 38 25 25 25 35 15 12 24  5 33  3 20  1 12 37 34 35 33\n",
      " 14  7 18 10  4  9 25 12  3 14  3  7  7 15 10 10  5 10 38 18 13 38 26  8  2\n",
      " 40 38 38 14  1  2 28 14  5  8 39 10 21  2  9  4 12 23 12  9 15 32 17 32 17\n",
      " 10 37 34 23  2 18 17 33 31  5 17 21  5  4 10 25 11 17 10  1  5  4 13 14 12\n",
      "  7 13 33 25 25 33 26 17 38  3  1 10 14 10  9 32 25 17 18  4  7 34 15 40  1\n",
      " 38 13 26  9 17  7 35  3  4 26 35  7 35 10 12 31 25 13 18  5 17  9 35  5 38\n",
      "  4 12 12 12 35  7 35 27  2  2  9 35  8 17 20 38  3 33 12 14 15 11 21  5 25\n",
      " 35  4 11  5  2 35 31  4 36 10 25  3  8 27  1 13 18  2  8 18  1  2  1  1 11\n",
      "  1 12 12 19 12 13  4  2 35  4 13 39  7 25 38  1 38  7 13 32  3  1  2 10 37\n",
      " 17 34 25 15 11 38 25 12 12 18  8 17 10 21 35 13  9 25  8 12  3 12 24 35  5\n",
      "  5  7  2 10  1 30 18 16 13 18 18 10 13 31  3 38 14 26 12 38 13  2  2 38 31\n",
      " 10 10 38 10 18  2 12  5  7 25 12  8 38  7 38 12  1 12 10 12 39 25 11  3  3\n",
      " 30 22  5 36 38  9 27 17 21 16  2 40 12  4  4  7 25 10 37 10  1 13  9 12 17\n",
      " 17 13  3 10  5 18 17 36  5 17 12 12 17  3 15 21  4 11 10  8 29 14 42 29 38\n",
      "  5 28  5  4 31 12 38 17 23 27  2 28  3 10  9  1 25 26  1  9  9 22 22 12 33\n",
      "  2 19 11 21 17 10 20 38  7 30  7 25 22 28 27 38 10 13  1 38 11  9 10 11 10\n",
      "  3 38 38 33 30 11 30  4 11 17 25  5  9 38 35 22  9  1  2  3  5 27 32 36 16\n",
      "  6 10 12  5 11  3 24 18 13 26 38  9 14 13 23 40 38  8 13  8 13 19 18 10 11\n",
      " 26 10 18 23 42  4 13  2  3  5  6 40  9 26  8 26 40  8 17 25  2 14  5 11 11\n",
      " 20 30 29 17  8  1 18 10 16  6  5  4  7 32 10 13 25  1 18  5 30  3 11  5  1\n",
      "  5 13 33  8  5  2  4 25 10  3 17  9 34 14 36 23  4 35 16 30 35 30  2 36  1\n",
      " 10 10 38  0  4 17 37 25  3  1  3 33  1  2  1  1  8 26 25  5 18 12  2 27 38]\n",
      "\n",
      "Sample of output classes in Validation set after shuffle:\n",
      "[36 40 23 11  1 23 35 35 25 35 12  0  6  4 26 13  2  5  4 10 10 15  1 17 10\n",
      " 15  7 21 28 23 10 13  1 22 12 13  6  9 37 18 10  7  2 13 26 13 40 22 26  1\n",
      " 30  1 12 28 23  4 34  2  2  9 12 35 12  1  1 13 13 29 26 25  3 11 24 31  8\n",
      "  4 27 17 12  4  9  1  3  5  4 13 13 11 24 16 39 25 38 10  9 15 25  1  7 40\n",
      "  3 19 10  8  4  8 40  0  1 10 17 36 12  5 35 14 11  9 30 39 17  7  1 23  3\n",
      " 13  2 38 12 23  9  9  2 33  3 20 19 26 28 10 25  5 13 22 18  7 33  4 33 23\n",
      " 38 35 18 38  5 13 25  2  9  5  1 11  3 10 11  2 28 14 18 33 12  1 40 13 34\n",
      " 38  7 41 14 12 15  7 11  4  3 12  3 27 10  6 35  9 29  6 15 17 22 17  5 33\n",
      " 26 38  1 15  4 28 35 14  1 38  5 35 11 30  2 42 13  4 10 10 13 10 25 35  7\n",
      "  9 26  3 13 41  8 13  8  8 42  5 21 35 25 12 35 18  6 35 31 40 16 11  2 42\n",
      "  2 12 36  2 11 18  1  3 31 11 15 10 17 30 14 35  7 10 10  8 18  9 25  2 17\n",
      "  2  8  4 12 18 28 25 32 16 32  4 25 14 18  5  5 38  3 24 12 12 12 16 11 17\n",
      "  8  1  8  8 28  3 16 37  3 31  8 33 23  4 34 25  5 16  7 27 30 38 12  1  1\n",
      " 38 32  9 12 25 33  4 39 12  8 10 29 13  1  3 12  1 12 10  1  8  9  9  3 17\n",
      "  3  4 14 12  1  3 13 38 13 12 18 11 35 10 26  4  1 10  8 18  9 11 10  2  2\n",
      " 35 10 17  3  4  9 34 33 31 41 25  9 38 35 10 38 22  2 40 33 25 21 14  1 12\n",
      " 41 13 13 13  9 12 35 38  2  4 12 32  8 12 13 38 26 22  9 12 15  4 14  1 11\n",
      "  9  8 14 38  4  1 12  1 13 12 31 38  1 12  7  2  1 11  5  1 20 42 10  4 11\n",
      " 12 10 37  7  5 35  1 38 25 25 25 35 15 12 24  5 33  3 20  1 12 37 34 35 33\n",
      " 14  7 18 10  4  9 25 12  3 14  3  7  7 15 10 10  5 10 38 18 13 38 26  8  2\n",
      " 40 38 38 14  1  2 28 14  5  8 39 10 21  2  9  4 12 23 12  9 15 32 17 32 17\n",
      " 10 37 34 23  2 18 17 33 31  5 17 21  5  4 10 25 11 17 10  1  5  4 13 14 12\n",
      "  7 13 33 25 25 33 26 17 38  3  1 10 14 10  9 32 25 17 18  4  7 34 15 40  1\n",
      " 38 13 26  9 17  7 35  3  4 26 35  7 35 10 12 31 25 13 18  5 17  9 35  5 38\n",
      "  4 12 12 12 35  7 35 27  2  2  9 35  8 17 20 38  3 33 12 14 15 11 21  5 25\n",
      " 35  4 11  5  2 35 31  4 36 10 25  3  8 27  1 13 18  2  8 18  1  2  1  1 11\n",
      "  1 12 12 19 12 13  4  2 35  4 13 39  7 25 38  1 38  7 13 32  3  1  2 10 37\n",
      " 17 34 25 15 11 38 25 12 12 18  8 17 10 21 35 13  9 25  8 12  3 12 24 35  5\n",
      "  5  7  2 10  1 30 18 16 13 18 18 10 13 31  3 38 14 26 12 38 13  2  2 38 31\n",
      " 10 10 38 10 18  2 12  5  7 25 12  8 38  7 38 12  1 12 10 12 39 25 11  3  3\n",
      " 30 22  5 36 38  9 27 17 21 16  2 40 12  4  4  7 25 10 37 10  1 13  9 12 17\n",
      " 17 13  3 10  5 18 17 36  5 17 12 12 17  3 15 21  4 11 10  8 29 14 42 29 38\n",
      "  5 28  5  4 31 12 38 17 23 27  2 28  3 10  9  1 25 26  1  9  9 22 22 12 33\n",
      "  2 19 11 21 17 10 20 38  7 30  7 25 22 28 27 38 10 13  1 38 11  9 10 11 10\n",
      "  3 38 38 33 30 11 30  4 11 17 25  5  9 38 35 22  9  1  2  3  5 27 32 36 16\n",
      "  6 10 12  5 11  3 24 18 13 26 38  9 14 13 23 40 38  8 13  8 13 19 18 10 11\n",
      " 26 10 18 23 42  4 13  2  3  5  6 40  9 26  8 26 40  8 17 25  2 14  5 11 11\n",
      " 20 30 29 17  8  1 18 10 16  6  5  4  7 32 10 13 25  1 18  5 30  3 11  5  1\n",
      "  5 13 33  8  5  2  4 25 10  3 17  9 34 14 36 23  4 35 16 30 35 30  2 36  1\n",
      " 10 10 38  0  4 17 37 25  3  1  3 33  1  2  1  1  8 26 25  5 18 12  2 27 38]\n"
     ]
    }
   ],
   "source": [
    "from sklearn.utils import shuffle\n",
    "# Shuffle training data\n",
    "X_train, y_train = shuffle(X_train, y_train)\n",
    "\n",
    "# Shuffle validation data\n",
    "X_validation, y_validation = shuffle(X_validation, y_validation)\n",
    "\n",
    "print(\"Sample of output classes in Training set after shuffle:\")\n",
    "print(y_train[0:1000])\n",
    "print(\"\\nSample of output classes in Validation set after shuffle:\")\n",
    "print(y_train[0:1000])"
   ]
  },
  {
   "cell_type": "markdown",
   "metadata": {},
   "source": [
    "## Visualize Data\n",
    "\n",
    "View a sample from the dataset.\n",
    "\n"
   ]
  },
  {
   "cell_type": "code",
   "execution_count": 3,
   "metadata": {
    "scrolled": true
   },
   "outputs": [
    {
     "name": "stdout",
     "output_type": "stream",
     "text": [
      "Datasets Mean values BEFORE Normalization are: \n",
      "Training set : 82.6775890369964 \n",
      "Validation set: 83.55642737563775 \n",
      "Testing set : 82.14846036120183 \n",
      "Trainint set dimension is: (34799, 32, 32, 3)\n"
     ]
    },
    {
     "data": {
      "image/png": "[encoded data removed]",
      "text/plain": [
       "<matplotlib.figure.Figure at 0x7f0187537588>"
      ]
     },
     "metadata": {},
     "output_type": "display_data"
    }
   ],
   "source": [
    "\n",
    "# Visualize 20- random images from training dataset\n",
    "\n",
    "fig, axs = plt.subplots(2,10, figsize=(15, 5))\n",
    "fig.subplots_adjust(hspace = .05, wspace=.05)\n",
    "fig.suptitle(\"visualize 20- random images from training dataset\", fontsize=16)\n",
    "axs = axs.ravel()\n",
    "for i in range(20):\n",
    "    index = random.randint(0, len(X_train))\n",
    "    image = X_train[index]\n",
    "    axs[i].axis('off')\n",
    "    axs[i].imshow(image)\n",
    "    axs[i].set_title(y_train[index])\n",
    "\n",
    "# printing the mean values for every dataset\n",
    "X_train_mean= np.mean(X_train)\n",
    "X_validation_mean= np.mean(X_validation)\n",
    "X_test_mean= np.mean(X_test)\n",
    "print(\"Datasets Mean values BEFORE Normalization are: \")\n",
    "print(\"Training set : {} \".format(X_train_mean))\n",
    "print(\"Validation set: {} \".format(X_validation_mean))\n",
    "print(\"Testing set : {} \".format(X_test_mean))\n",
    "print(\"Trainint set dimension is: {}\".format(X_train.shape))\n"
   ]
  },
  {
   "cell_type": "markdown",
   "metadata": {},
   "source": [
    "### Visualize the label frequency in the Original training dataset."
   ]
  },
  {
   "cell_type": "code",
   "execution_count": 4,
   "metadata": {},
   "outputs": [
    {
     "data": {
      "image/png": "[encoded data removed]",
      "text/plain": [
       "<matplotlib.figure.Figure at 0x7f01cc0a1390>"
      ]
     },
     "metadata": {},
     "output_type": "display_data"
    }
   ],
   "source": [
    "\n",
    "hist, bins = np.histogram(y_train, bins=43)\n",
    "width = 0.7 * (bins[1] - bins[0])\n",
    "center = (bins[:-1] + bins[1:]) / 2\n",
    "plt.bar(center, hist, align='center', width=width)\n",
    "plt.title(\"Label Frequency in the Original Training set\")\n",
    "plt.xlabel('Classes Labels')\n",
    "plt.ylabel('Frequency')\n",
    "plt.show()"
   ]
  },
  {
   "cell_type": "markdown",
   "metadata": {},
   "source": [
    "# 2. DataSet Preparation"
   ]
  },
  {
   "cell_type": "markdown",
   "metadata": {},
   "source": [
    "## Preprocess Data"
   ]
  },
  {
   "cell_type": "markdown",
   "metadata": {},
   "source": [
    "Here, I Pre-processed the Data Set using normalization & grayscale.\n",
    "Minimally, the image data should be normalized so that the data has mean zero and equal variance. For image data, (pixel - 128)/ 128 is a quick way to approximately normalize the data and can be used in this project."
   ]
  },
  {
   "cell_type": "code",
   "execution_count": 5,
   "metadata": {},
   "outputs": [
    {
     "name": "stdout",
     "output_type": "stream",
     "text": [
      "Grayscale Image Shape: (32, 32, 1)\n"
     ]
    },
    {
     "data": {
      "image/png": "[encoded data removed]",
      "text/plain": [
       "<matplotlib.figure.Figure at 0x7f017cd785c0>"
      ]
     },
     "metadata": {},
     "output_type": "display_data"
    }
   ],
   "source": [
    "\n",
    "# Convert to grayscale, \n",
    "X_train = np.sum(X_train/3, axis=3, keepdims=True)\n",
    "X_validation = np.sum(X_validation/3, axis=3, keepdims=True)\n",
    "X_test = np.sum(X_test/3, axis=3, keepdims=True)\n",
    "\n",
    "\n",
    "\n",
    "\n",
    "# visualize 1- Random image after grayscale conversion from training dataset\n",
    "index = random.randint(0, len(X_train))\n",
    "image = X_train[index].squeeze()\n",
    "plt.figure(figsize=(1,1))\n",
    "#plt.figure(figsize=(3,3))\n",
    "plt.title(\"Image Class =  {}\".format(y_train[index]))\n",
    "plt.imshow(image, cmap=\"gray\")\n",
    "#print(y_train[index])\n",
    "\n",
    "# printing the data image dimension now after converting to grayscale\n",
    "print(\"Grayscale Image Shape: {}\".format(X_train[0].shape))\n",
    "\n",
    "\n",
    "\n",
    "\n"
   ]
  },
  {
   "cell_type": "code",
   "execution_count": 6,
   "metadata": {},
   "outputs": [
    {
     "data": {
      "text/plain": [
       "<matplotlib.image.AxesImage at 0x7f017cd49668>"
      ]
     },
     "execution_count": 6,
     "metadata": {},
     "output_type": "execute_result"
    },
    {
     "data": {
      "image/png": "[encoded data removed]",
      "text/plain": [
       "<matplotlib.figure.Figure at 0x7f01cc0a1f98>"
      ]
     },
     "metadata": {},
     "output_type": "display_data"
    }
   ],
   "source": [
    "# Normalize the data (pixel - 128)/ 128\n",
    "\n",
    "X_train = (X_train - 128)/128\n",
    "X_validation = (X_validation - 128)/128\n",
    "X_test = (X_test - 128)/128\n",
    "\n",
    "# visualize 1- Random image after Normalization from training dataset\n",
    "index = random.randint(0, len(X_train))\n",
    "image = X_train[index].squeeze()\n",
    "plt.figure(figsize=(1,1))\n",
    "plt.title(\"Image Class =  {}\".format(y_train[index]))\n",
    "plt.imshow(image, cmap=\"gray\")\n"
   ]
  },
  {
   "cell_type": "markdown",
   "metadata": {},
   "source": [
    "## Another method for Normalizing grayscale\n",
    "I also tried this method for notmalizaiton, and it gave me Mean value around (0.35) for Training set, but in my overall implementation I used the 1st method applied above.\n",
    "\n",
    "Implement the Min-Max scaling function ($X'=a+{\\frac {\\left(X-X_{\\min }\\right)\\left(b-a\\right)}{X_{\\max }-X_{\\min }}}$) with the parameters:\n",
    "$X_{\\min }=0$\n",
    "$X_{\\max }=255$\n",
    "$a=0.1$\n",
    "$b=0.9$"
   ]
  },
  {
   "cell_type": "markdown",
   "metadata": {
    "collapsed": true
   },
   "source": [
    "a = 0.1\n",
    "b = 0.9\n",
    "grayscale_min = 0\n",
    "grayscale_max = 255\n",
    "\n",
    "X_train = a + ( ( (X_train - grayscale_min)*(b - a) )/( grayscale_max - grayscale_min ) )\n",
    "X_validation = a + ( ( (X_validation - grayscale_min)*(b - a) )/( grayscale_max - grayscale_min ) )\n",
    "X_test = a + ( ( (X_test - grayscale_min)*(b - a) )/( grayscale_max - grayscale_min ) )\n",
    "\n",
    "# visualize 1- Random image after Normalization from training dataset\n",
    "index = random.randint(0, len(X_train))\n",
    "image = X_train[index].squeeze()\n",
    "plt.figure(figsize=(1,1))\n",
    "plt.imshow(image, cmap=\"gray\")\n",
    "print(y_train[index])"
   ]
  },
  {
   "cell_type": "markdown",
   "metadata": {},
   "source": [
    "Calculatng Mean Values of Training, validation and testing datasets after Noramlization ( Should be around 0)"
   ]
  },
  {
   "cell_type": "code",
   "execution_count": 7,
   "metadata": {},
   "outputs": [
    {
     "name": "stdout",
     "output_type": "stream",
     "text": [
      "Datasets Mean values AFTER Normalization are: \n",
      "\n",
      "Training set : -0.35408133564846533 \n",
      "Validation set: -0.3472154111278302 \n",
      "Testing set : -0.3582151534281105 \n",
      "Trainint set dimension is: (34799, 32, 32, 1)\n"
     ]
    }
   ],
   "source": [
    "\n",
    "\n",
    "# printing the mean values for every dataset\n",
    "X_train_N_mean= np.mean(X_train)\n",
    "X_validation_N_mean= np.mean(X_validation)\n",
    "X_test_N_mean= np.mean(X_test)\n",
    "print(\"Datasets Mean values AFTER Normalization are: \\n\")\n",
    "print(\"Training set : {} \".format(X_train_N_mean))\n",
    "print(\"Validation set: {} \".format(X_validation_N_mean))\n",
    "print(\"Testing set : {} \".format(X_test_N_mean))\n",
    "print(\"Trainint set dimension is: {}\".format(X_train.shape))\n",
    "\n",
    "\n"
   ]
  },
  {
   "cell_type": "markdown",
   "metadata": {},
   "source": [
    "## Augmenting Training set\n",
    "\n",
    "Augmenting the training set might help improve model performance. Common data augmentation techniques include rotation, translation, zoom, flips, and/or color perturbation. These techniques can be used individually or combined.\n"
   ]
  },
  {
   "cell_type": "markdown",
   "metadata": {
    "collapsed": true
   },
   "source": [
    "In this section, I used the input data processing techniques as suggested by the [Lecun paper](http://yann.lecun.com/exdb/publis/pdf/sermanet-ijcnn-11.pdf), now I have a jittered dataset by adding 3\n",
    "transformed versions of randomly selected sets of  the original training set, which are :\n",
    "\n",
    "1) Random Image Rotation between -15 and 15 degrees\n",
    "\n",
    "2) Random Affine Transformation\n",
    "\n",
    "3) Random Brighness "
   ]
  },
  {
   "cell_type": "markdown",
   "metadata": {},
   "source": [
    "### 1) Random Image Rotation"
   ]
  },
  {
   "cell_type": "code",
   "execution_count": 8,
   "metadata": {},
   "outputs": [
    {
     "name": "stdout",
     "output_type": "stream",
     "text": [
      "An Image before Rotation: \n",
      "12\n",
      "An Image after Rotation: \n",
      "12\n",
      "Check matching the sign name after Rotation and concatenation: \n",
      "10\n",
      "\n",
      "Image Shape: (32, 32, 1)\n",
      "\n",
      "Training Set:   69598 samples\n",
      "Validation Set: 4410 samples\n",
      "Test Set:       12630 samples\n"
     ]
    },
    {
     "data": {
      "image/png": "[encoded data removed]",
      "text/plain": [
       "<matplotlib.figure.Figure at 0x7f01850996a0>"
      ]
     },
     "metadata": {},
     "output_type": "display_data"
    },
    {
     "data": {
      "image/png": "[encoded data removed]",
      "text/plain": [
       "<matplotlib.figure.Figure at 0x7f016f93e5c0>"
      ]
     },
     "metadata": {},
     "output_type": "display_data"
    },
    {
     "data": {
      "image/png": "[encoded data removed]",
      "text/plain": [
       "<matplotlib.figure.Figure at 0x7f016f90cd68>"
      ]
     },
     "metadata": {},
     "output_type": "display_data"
    }
   ],
   "source": [
    "import cv2\n",
    "\n",
    "\n",
    "\n",
    "def Rotating(input): \n",
    "    output = []\n",
    "    for i in range (len(input)):\n",
    "        # Choose a random angle between -15 and 15 to do the rotation\n",
    "        angle = np.random.randint(-15, 15)\n",
    "        img_center = tuple(np.array(input[i].shape)[:2]/2)\n",
    "        M = cv2.getRotationMatrix2D(img_center,angle,1.0)\n",
    "        img = cv2.warpAffine(input[i], M, input[i].shape[:2],flags=cv2.INTER_LINEAR)\n",
    "        img = img[:,:,np.newaxis]\n",
    "        output.append(img)\n",
    "    \n",
    "    \n",
    "    return output\n",
    "\n",
    "# Augmenting both training and validation datasets with Randomly rotated images, expecting a doupled sized datasets\n",
    "input = X_train[0:len(X_train)]\n",
    "input_y = y_train[0:len(y_train)]\n",
    "X_train_rotated = Rotating(input)\n",
    "#valid = X_validation[0:3000]\n",
    "#valid_y = y_validation[0:3000]\n",
    "#X_validation_rotated= Rotating(valid)\n",
    "\n",
    "\n",
    "\n",
    "# display an Image before and after rotation\n",
    "\n",
    "\n",
    "print (\"An Image before Rotation: \")\n",
    "image = X_train[10].squeeze()\n",
    "plt.figure(figsize=(1,1))\n",
    "plt.imshow(image, cmap=\"gray\")\n",
    "print(y_train[10])\n",
    "\n",
    "\n",
    "print (\"An Image after Rotation: \")\n",
    "image = X_train_rotated[10].squeeze()\n",
    "plt.figure(figsize=(1,1))\n",
    "plt.imshow(image, cmap=\"gray\")\n",
    "print(y_train[10])\n",
    "    \n",
    "\n",
    "    \n",
    "X_train = np.concatenate((X_train, X_train_rotated), axis=0)\n",
    "y_train = np.concatenate((y_train, input_y), axis=0)\n",
    "\n",
    "#X_validation = np.concatenate((X_validation, X_validation_rotated), axis=0)\n",
    "#y_validation = np.concatenate((y_validation, valid_y), axis=0)\n",
    "\n",
    "\n",
    "print (\"Check matching the sign name after Rotation and concatenation: \")\n",
    "image = X_train[40000].squeeze()\n",
    "plt.figure(figsize=(1,1))\n",
    "plt.imshow(image, cmap=\"gray\")\n",
    "print(y_train[40000])\n",
    "\n",
    "# Shuffle new training data\n",
    "X_train, y_train = shuffle(X_train, y_train)\n",
    "\n",
    "# Shuffle new validation data\n",
    "#X_validation, y_validation = shuffle(X_validation, y_validation)\n",
    "\n",
    "print()\n",
    "print(\"Image Shape: {}\".format(X_train[0].shape))\n",
    "print()\n",
    "print(\"Training Set:   {} samples\".format(len(X_train)))\n",
    "print(\"Validation Set: {} samples\".format(len(X_validation)))\n",
    "print(\"Test Set:       {} samples\".format(len(X_test)))"
   ]
  },
  {
   "cell_type": "markdown",
   "metadata": {
    "collapsed": true
   },
   "source": [
    "### 2) Random Affine Transformation\n",
    "In affine transformation, all parallel lines in the original image will still be parallel in the output image"
   ]
  },
  {
   "cell_type": "code",
   "execution_count": null,
   "metadata": {
    "collapsed": true
   },
   "outputs": [],
   "source": [
    "import cv2\n",
    "def Transforming(input): \n",
    "    output = []\n",
    "    \n",
    "    for i in range (len(input)):\n",
    "        rows,cols,ch = input[i].shape\n",
    "       # pts1 = np.float32([[2,2],[30,2],[2,300]])\n",
    "       # pts2 = np.float32([[25,25],[30,2],[25,31]])\n",
    "         # transform limits\n",
    "        px = np.random.randint(-2,2)\n",
    "        pts1 = np.float32([[px,px],[rows-px,px],[px,cols-px]])\n",
    "        pts2 = np.float32([[px,px],[rows,px],[px,cols]])\n",
    "        M = cv2.getAffineTransform(pts1,pts2)\n",
    "        img = cv2.warpAffine(input[i],M,(cols,rows))\n",
    "        img = img[:,:,np.newaxis]\n",
    "        output.append(img)\n",
    "    \n",
    "    \n",
    "    return output\n",
    "\n",
    "# Augmenting both training and validation datasets with Randomly rotated images, expecting a doupled sized datasets\n",
    "input = X_train[20000:60000]\n",
    "input_y = y_train[20000:60000]\n",
    "X_train_transformed = Transforming(input)\n",
    "#valid = X_validation[0:3000]\n",
    "#valid_y = y_validation[0:3000]\n",
    "#X_validation_rotated= Rotating(valid)\n",
    "\n",
    "\n",
    "\n",
    "# display an Image before and after rotation\n",
    "\n",
    "#plt.subplot(121),plt.imshow(X_train[21000].squeeze()), plt.title('Image before Transformation')\n",
    "#plt.subplot(122),plt.imshow(X_train_transformed[21000].squeeze()),plt.title('Image after Transformation')\n",
    "#plt.show()\n",
    "\n",
    "\n",
    "print (\"An Image before Transformation: \")\n",
    "image = X_train[25000].squeeze()\n",
    "plt.figure(figsize=(1,1))\n",
    "plt.imshow(image, cmap=\"gray\")\n",
    "print(y_train[25000])\n",
    "\n",
    "\n",
    "print (\"An Image after Transfomation: \")\n",
    "image = X_train_transformed[25000].squeeze()\n",
    "plt.figure(figsize=(1,1))\n",
    "plt.imshow(image, cmap=\"gray\")\n",
    "print(y_train[25000])\n",
    "    \n",
    "    \n",
    "X_train = np.concatenate((X_train, X_train_transformed), axis=0)\n",
    "y_train = np.concatenate((y_train, input_y), axis=0)\n",
    "\n",
    "#X_validation = np.concatenate((X_validation, X_validation_rotated), axis=0)\n",
    "#y_validation = np.concatenate((y_validation, valid_y), axis=0)\n",
    "\n",
    "\n",
    "print (\"Check matching the sign name after Rotation and concatenation: \")\n",
    "image = X_train[40000].squeeze()\n",
    "plt.figure(figsize=(1,1))\n",
    "plt.imshow(image, cmap=\"gray\")\n",
    "print(y_train[40000])\n",
    "\n",
    "# Shuffle new training data\n",
    "X_train, y_train = shuffle(X_train, y_train)\n",
    "\n",
    "# Shuffle new validation data\n",
    "#X_validation, y_validation = shuffle(X_validation, y_validation)\n",
    "\n",
    "print()\n",
    "print(\"Image Shape: {}\".format(X_train[0].shape))\n",
    "print()\n",
    "print(\"Training Set:   {} samples\".format(len(X_train)))\n",
    "print(\"Validation Set: {} samples\".format(len(X_validation)))\n",
    "print(\"Test Set:       {} samples\".format(len(X_test)))"
   ]
  },
  {
   "cell_type": "markdown",
   "metadata": {},
   "source": [
    "### 3) Random Brighness"
   ]
  },
  {
   "cell_type": "code",
   "execution_count": 9,
   "metadata": {},
   "outputs": [
    {
     "name": "stdout",
     "output_type": "stream",
     "text": [
      " x-train-bright  69598\n",
      "y-train-bright 69598\n",
      "Image dimension before Brighness application:  (32, 32, 1)\n",
      "X-train-Brighness 69598\n",
      "An Image before any Brightening: \n",
      "22\n",
      "An Image after random Brightening: \n",
      "22\n",
      "x_train befor brighness augmentation 69598\n",
      "y_train before brighness augmentation 69598\n",
      "x_train_final 139196\n",
      "y_train_final 139196\n",
      "\n",
      "Image Shape: (32, 32, 1)\n",
      "\n",
      "Training Set:   139196 samples\n",
      "Validation Set: 4410 samples\n",
      "Test Set:       12630 samples\n"
     ]
    },
    {
     "data": {
      "image/png": "[encoded data removed]",
      "text/plain": [
       "<matplotlib.figure.Figure at 0x7f01872f77b8>"
      ]
     },
     "metadata": {},
     "output_type": "display_data"
    },
    {
     "data": {
      "image/png": "[encoded data removed]",
      "text/plain": [
       "<matplotlib.figure.Figure at 0x7f017cdd7f98>"
      ]
     },
     "metadata": {},
     "output_type": "display_data"
    }
   ],
   "source": [
    "def Brighness(input): \n",
    "    output = []\n",
    "    print(\"Image dimension before Brighness application: \", input[0].shape)\n",
    "    for i in range (len(input)):\n",
    "        img= input[i]\n",
    "        shifted = img + 1.0   # shift to (0,2) range\n",
    "        img_max_value = max(shifted.flatten())\n",
    "        max_coef = 2.0/img_max_value\n",
    "        min_coef = max_coef - 0.1\n",
    "        coef = np.random.uniform(min_coef, max_coef)\n",
    "        dst = shifted * coef - 1.0\n",
    "        output.append(dst)\n",
    "    \n",
    "    return output\n",
    "# take 35000 image from training set to do brighness over it then suffle it\n",
    "input = X_train[0:len(X_train)]\n",
    "input_y = y_train[0:len(y_train)]\n",
    "print(\" x-train-bright \", len(input))\n",
    "print(\"y-train-bright\", len(input_y))\n",
    "\n",
    "X_train_Brighness= Brighness(input)\n",
    "print(\"X-train-Brighness\", len(X_train_Brighness))\n",
    "\n",
    "# display an Image before and after applying Random brightness\n",
    "\n",
    "\n",
    "print (\"An Image before any Brightening: \")\n",
    "image = X_train[50].squeeze()\n",
    "plt.figure(figsize=(1,1))\n",
    "plt.imshow(image, cmap=\"gray\")\n",
    "print(y_train[50])\n",
    "\n",
    "\n",
    "print (\"An Image after random Brightening: \")\n",
    "image = X_train_Brighness[50].squeeze()\n",
    "plt.figure(figsize=(1,1))\n",
    "plt.imshow(image, cmap=\"gray\")\n",
    "print(y_train[50])\n",
    "\n",
    "#valid = X_validation[0:3500]\n",
    "#print(\" x-valid-bright \", len(valid))\n",
    "\n",
    "#valid_y = y_validation[0:3500]\n",
    "#print(\" y-valid-bright \", len(valid_y))\n",
    "\n",
    "#X_validation_Brighness= Brighness(valid)\n",
    "#print(\"X_validation_Brighness\", len(X_validation_Brighness))\n",
    "\n",
    "print(\"x_train befor brighness augmentation\", len(X_train))\n",
    "print(\"y_train before brighness augmentation\", len(y_train))\n",
    "\n",
    "\n",
    "X_train = np.concatenate((X_train, X_train_Brighness), axis=0)\n",
    "y_train = np.concatenate((y_train, input_y), axis=0)\n",
    "print(\"x_train_final\", len(X_train))\n",
    "print(\"y_train_final\", len(y_train))\n",
    "\n",
    "\n",
    "#X_validation = np.concatenate((X_validation, X_validation_Brighness), axis=0)\n",
    "#y_validation = np.concatenate((y_validation, valid_y), axis=0)\n",
    "#print(\"x_validation_final\", len(X_validation))\n",
    "#print(\"y_validation_final\", len(y_validation))\n",
    "\n",
    "\n",
    "\n",
    "\n",
    "\n",
    "# Shuffle new training data\n",
    "X_train, y_train = shuffle(X_train, y_train)\n",
    "\n",
    "# Shuffle new validation data\n",
    "#X_validation, y_validation = shuffle(X_validation, y_validation)\n",
    "\n",
    "print()\n",
    "print(\"Image Shape: {}\".format(X_train[0].shape))\n",
    "print()\n",
    "print(\"Training Set:   {} samples\".format(len(X_train)))\n",
    "print(\"Validation Set: {} samples\".format(len(X_validation)))\n",
    "print(\"Test Set:       {} samples\".format(len(X_test)))\n"
   ]
  },
  {
   "cell_type": "markdown",
   "metadata": {},
   "source": [
    "## Splitng Validation dataset from Training dataset\n",
    "As always suggested, it is prefered to have a validation set of size between 20%-30% of Training set, so I will use 20% of the Training set to the Validation set"
   ]
  },
  {
   "cell_type": "code",
   "execution_count": 10,
   "metadata": {},
   "outputs": [
    {
     "name": "stdout",
     "output_type": "stream",
     "text": [
      "New X_train size: 111356\n",
      "X_validation size: 27840\n",
      "Percentage of Validation Set: 25.000898020762243%\n",
      "\n"
     ]
    }
   ],
   "source": [
    "## Split validation  from training \n",
    "\n",
    "from sklearn.model_selection import train_test_split\n",
    "\n",
    "X_train, X_validation, y_train, y_validation = train_test_split(X_train, y_train, \n",
    "                                                                test_size=0.20, random_state=42)\n",
    "\n",
    "\n",
    "print(\"New X_train size:\",len(X_train))\n",
    "print(\"X_validation size:\",len(X_validation))\n",
    "print(\"Percentage of Validation Set: {}%\\n\".format((len(X_validation)/len(X_train))* 100))"
   ]
  },
  {
   "cell_type": "markdown",
   "metadata": {},
   "source": [
    "## Setup TensorFlow, and set the hyperparmeters sizes.\n",
    "\n",
    "All hyperparameters (EPOCHS, BATCH_SIZE, dropout and learning_rate) are empirically chosen. Overall, I performed 40- expermints to get the final results, and the following numbers are the best combinations I got among all."
   ]
  },
  {
   "cell_type": "code",
   "execution_count": 11,
   "metadata": {
    "collapsed": true
   },
   "outputs": [],
   "source": [
    "import tensorflow as tf\n",
    "\n",
    "EPOCHS = 50\n",
    "BATCH_SIZE = 150\n",
    "dropout = 0.5\n",
    "rate = 0.0005"
   ]
  },
  {
   "cell_type": "markdown",
   "metadata": {},
   "source": [
    "# 3. Design and Test a Model Architecture"
   ]
  },
  {
   "attachments": {},
   "cell_type": "markdown",
   "metadata": {},
   "source": [
    "## Original LeNet-5\n",
    "During my first set of experminting, I used the orignal LeNet-5 architecture as describe in Lab2, I just modified the layers inputs and outputs based on have input of (32X32X10) and output (43-classes) and added a dropout before the last layer (Layer 5). here is the immplementation of the [LeNet-5](http://yann.lecun.com/exdb/lenet/) neural network architecture.\n",
    "\n",
    "![Figure-10-Architecture-of-LeNet-5-one-of-the-first-initial-architectures-of-CNN.png](./LeNet5_Models/Figure-10-Architecture-of-LeNet-5-one-of-the-first-initial-architectures-of-CNN.png)\n",
    "\n",
    "\n",
    "Source: Yan LeCun\n",
    "\n",
    "\n",
    "\n",
    "### Input\n",
    "The LeNet architecture accepts a 32x32xC image as input, where C is the number of color channels. C is 1 in this case, since we are working on a grayscale Images.\n",
    "\n",
    "### Architecture\n",
    "**Layer 1: Convolutional.** The output shape should be 28x28x6.\n",
    "\n",
    "**Activation.** Using Relu activation function.\n",
    "\n",
    "**Pooling.** The output shape should be 14x14x6.\n",
    "\n",
    "**Layer 2: Convolutional.** The output shape should be 10x10x16.\n",
    "\n",
    "**Activation.** Using Relu activation function.\n",
    "\n",
    "**Pooling.** The output shape should be 5x5x16.\n",
    "\n",
    "**Flatten.** Flatten the output shape of the final pooling layer such that it's 1D instead of 3D. The easiest way to do is by using `tf.contrib.layers.flatten`.\n",
    "\n",
    "**Layer 3: Fully Connected.** This should have 120 outputs.\n",
    "\n",
    "**Activation.** Using Relu activation function.\n",
    "\n",
    "**Layer 4: Fully Connected.** This should have 84 outputs.\n",
    "\n",
    "**Activation.** Using Relu activation function.\n",
    "\n",
    "**Dropout.**  Using Dropout for Regularization.\n",
    "\n",
    "**Layer 5: Fully Connected (Logits).** This should have 43 outputs.\n",
    "\n",
    "### Output\n",
    "Return the result of the 2nd fully connected layer (Logits)."
   ]
  },
  {
   "cell_type": "code",
   "execution_count": 12,
   "metadata": {},
   "outputs": [
    {
     "name": "stdout",
     "output_type": "stream",
     "text": [
      "End\n"
     ]
    }
   ],
   "source": [
    "from tensorflow.contrib.layers import flatten\n",
    "\n",
    "def LeNet(x):    \n",
    "    # Arguments used for tf.truncated_normal, randomly defines variables for the weights and biases for each layer\n",
    "    mu = 0\n",
    "    sigma = 0.1\n",
    "    \n",
    "    # SOLUTION: Layer 1: Convolutional. Input = 32x32x1. Output = 28x28x6.\n",
    "    conv1_W = tf.Variable(tf.truncated_normal(shape=(5, 5, 1, 6), mean = mu, stddev = sigma))\n",
    "    conv1_b = tf.Variable(tf.zeros(6))\n",
    "    conv1   = tf.nn.conv2d(x, conv1_W, strides=[1, 1, 1, 1], padding='VALID') + conv1_b\n",
    "\n",
    "    # SOLUTION: Activation.\n",
    "    conv1 = tf.nn.relu(conv1)\n",
    "\n",
    "    # SOLUTION: Pooling. Input = 28x28x6. Output = 14x14x6.\n",
    "    conv1 = tf.nn.max_pool(conv1, ksize=[1, 2, 2, 1], strides=[1, 2, 2, 1], padding='VALID')\n",
    "\n",
    "    # SOLUTION: Layer 2: Convolutional. Output = 10x10x16.\n",
    "    conv2_W = tf.Variable(tf.truncated_normal(shape=(5, 5, 6, 16), mean = mu, stddev = sigma))\n",
    "    conv2_b = tf.Variable(tf.zeros(16))\n",
    "    conv2   = tf.nn.conv2d(conv1, conv2_W, strides=[1, 1, 1, 1], padding='VALID') + conv2_b\n",
    "    \n",
    "    # SOLUTION: Activation.\n",
    "    conv2 = tf.nn.relu(conv2)\n",
    "\n",
    "    # SOLUTION: Pooling. Input = 10x10x16. Output = 5x5x16.\n",
    "    conv2 = tf.nn.max_pool(conv2, ksize=[1, 2, 2, 1], strides=[1, 2, 2, 1], padding='VALID')\n",
    "\n",
    "    # SOLUTION: Flatten. Input = 5x5x16. Output = 400.\n",
    "    fc0   = flatten(conv2)\n",
    "    \n",
    "    \n",
    "    # SOLUTION: Layer 3: Fully Connected. Input = 400. Output = 120.\n",
    "    fc1_W = tf.Variable(tf.truncated_normal(shape=(400, 120), mean = mu, stddev = sigma))\n",
    "    fc1_b = tf.Variable(tf.zeros(120))\n",
    "    fc1   = tf.matmul(fc0, fc1_W) + fc1_b\n",
    "    \n",
    "    # SOLUTION: Activation.\n",
    "    fc1    = tf.nn.relu(fc1)\n",
    "    \n",
    "\n",
    "    # SOLUTION: Layer 4: Fully Connected. Input = 120. Output = 84.\n",
    "    fc2_W  = tf.Variable(tf.truncated_normal(shape=(120, 84), mean = mu, stddev = sigma))\n",
    "    fc2_b  = tf.Variable(tf.zeros(84))\n",
    "    fc2    = tf.matmul(fc1, fc2_W) + fc2_b\n",
    "    \n",
    "    # SOLUTION: Activation.\n",
    "    fc2    = tf.nn.relu(fc2)\n",
    "    # ---> Using Dropout for Regularization \n",
    "    fc2 = tf.nn.dropout(fc2, dropout)\n",
    "\n",
    "    # SOLUTION: Layer 5: Fully Connected. Input = 84. Output = 43.\n",
    "    fc3_W  = tf.Variable(tf.truncated_normal(shape=(84, 43), mean = mu, stddev = sigma))\n",
    "    fc3_b  = tf.Variable(tf.zeros(43))\n",
    "    logits = tf.matmul(fc2, fc3_W) + fc3_b\n",
    "    \n",
    "    return logits\n",
    "print('End')"
   ]
  },
  {
   "attachments": {},
   "cell_type": "markdown",
   "metadata": {},
   "source": [
    "## Modified LeNet5\n",
    "Using Suggested Architecture in [Traffic Sign Recognition with Multi-Scale Convolutional Networks](http://yann.lecun.com/exdb/publis/pdf/sermanet-ijcnn-11.pdf). A 2-stage ConvNet architecture. The input is processed in a feedforward manner through two stage of convolutions and subsampling, and finally classified with a linear classifier. The output of the 1st stage is also fed directly to the classifier as higher-resolution features.\n",
    "\n",
    "![2-stage-ConvNet-architecture.png](./LeNet5_Models/2-stage-ConvNet-architecture.png)\n",
    "\n",
    "Here I implemented a modified LeNet-5 architecture as suggested in [Traffic Sign Recognition with Multi-Scale Convolutional Networks](http://yann.lecun.com/exdb/publis/pdf/sermanet-ijcnn-11.pdf). Here, the modifications are:\n",
    "\n",
    "1) Using 4- layer architecture instead of 5 ( 3- Convolutional layers and 1- fully connected) as shown in the fig above.\n",
    "\n",
    "2) Flatten and concatenating the output from Layer 2 and Layer 3 then feed to a fully Connected layer (Layer 4) after applying dropout.\n",
    "\n",
    "\n",
    "\n",
    "### Input\n",
    "The LeNet_modified architecture accepts a 32x32xC image as input, where C is the number of color channels. C is 1 in this case, since we are working on a grayscale Images.\n",
    "\n",
    "### Architecture\n",
    "**Layer 1: Convolutional.** The output shape should be 28x28x6.\n",
    "\n",
    "**Activation.** Using Relu activation function.\n",
    "\n",
    "**Pooling.** The output shape should be 14x14x6.\n",
    "\n",
    "**Layer 2: Convolutional.** The output shape should be 10x10x16.\n",
    "\n",
    "**Activation.** Using Relu activation function.\n",
    "\n",
    "**Pooling.** The output shape should be 5x5x16.\n",
    "\n",
    "**Layer 3: Convolutional.** The output shape should be 1x1x400.\n",
    "\n",
    "**Activation.** Using Relu activation function.\n",
    "\n",
    "\n",
    "**Flatten.** Flatten the output shape of the final pooling layer such that it's 1D instead of 3D. The easiest way to do is by using `tf.contrib.layers.flatten`, here flatten Layer 2 output (400), and layer3 output (400)\n",
    "\n",
    "**Concatenate.** Concatenate both flattened outputs of layer 2 and layer 3, so we get input of layer 4 (size = 800)\n",
    "\n",
    "**Dropout.**  Using Dropout for Regularization.\n",
    "\n",
    "**Layer 4: Fully Connected (Logits).** This should have 43 outputs.\n",
    "\n",
    "### Output\n",
    "Return Logits"
   ]
  },
  {
   "cell_type": "code",
   "execution_count": 13,
   "metadata": {},
   "outputs": [
    {
     "name": "stdout",
     "output_type": "stream",
     "text": [
      "End\n"
     ]
    }
   ],
   "source": [
    "\n",
    "\n",
    "def LeNet_modified(x):    \n",
    "    # Arguments used for tf.truncated_normal, randomly defines variables for the weights and biases for each layer\n",
    "    # Hyperparameters\n",
    "    mu = 0\n",
    "    sigma = 0.1\n",
    "    \n",
    "    # Layer 1: Convolutional. Input = 32x32x1. Output = 28x28x6.\n",
    "    conv1_W = tf.Variable(tf.truncated_normal(shape=(5, 5, 1, 6), mean = mu, stddev = sigma), name=\"conv1_W\")\n",
    "    conv1_b = tf.Variable(tf.zeros(6), name=\"conv1_b\")\n",
    "    conv1   = tf.nn.conv2d(x, conv1_W, strides=[1, 1, 1, 1], padding='VALID', name='conv1') + conv1_b\n",
    "    # print(\"layer 1 shape:\",conv1.get_shape())\n",
    "\n",
    "     # Activation.\n",
    "    conv1 = tf.nn.relu(conv1)\n",
    "\n",
    "    # Pooling. Input = 28x28x6. Output = 14x14x6.\n",
    "    conv1 = tf.nn.max_pool(conv1, ksize=[1, 2, 2, 1], strides=[1, 2, 2, 1], padding='VALID')\n",
    "\n",
    "    #conv1 = tf.nn.dropout(conv1, 0.9)\n",
    "    \n",
    "    # Layer 2: Convolutional. Output = 10x10x16.\n",
    "    conv2_W = tf.Variable(tf.truncated_normal(shape=(5, 5, 6, 16), mean = mu, stddev = sigma), name=\"conv2_W\")\n",
    "    conv2_b = tf.Variable(tf.zeros(16), name=\"conv2_b\")\n",
    "    conv2   = tf.nn.conv2d(conv1, conv2_W, strides=[1, 1, 1, 1], padding='VALID', name='conv2') + conv2_b\n",
    "    \n",
    "    # Activation.\n",
    "    conv2 = tf.nn.relu(conv2)\n",
    "\n",
    "    # Pooling. Input = 10x10x16. Output = 5x5x16.\n",
    "    conv2 = tf.nn.max_pool(conv2, ksize=[1, 2, 2, 1], strides=[1, 2, 2, 1], padding='VALID')\n",
    "    \n",
    "    #conv2 = tf.nn.dropout(conv2, 0.8)\n",
    "    \n",
    "    # Layer 3: Convolutional. Output = 1x1x400.\n",
    "    conv3_W = tf.Variable(tf.truncated_normal(shape=(5, 5, 16, 400), mean = mu, stddev = sigma), name=\"conv3_W\")\n",
    "    conv3_b = tf.Variable(tf.zeros(400), name=\"conv3_b\")\n",
    "    conv3 = tf.nn.conv2d(conv2, conv3_W, strides=[1, 1, 1, 1], padding='VALID', name='conv3') + conv3_b\n",
    "    \n",
    "                     \n",
    "    # Activation.\n",
    "    conv3 = tf.nn.relu(conv3)\n",
    "    \n",
    "    #conv3 = tf.nn.dropout(conv3, 0.7)\n",
    "\n",
    "\n",
    "    # Flatten layer2 output, input = 5x5x16. Output = 400.\n",
    "    layer2_flat = flatten(conv2)\n",
    "    print(\"layer2_flat shape:\",layer2_flat.get_shape())\n",
    "    \n",
    "    # Flatten layer3 output, Input = 1x1x400. Output = 400.\n",
    "    layer3_flat = flatten(conv3)\n",
    "    print(\"layer3_flat shape:\",layer3_flat.get_shape())\n",
    "    \n",
    "    # Concatenate layer2_flat and layer3_flat. so we get  800 inputs to layer 4.\n",
    "    conv3 = tf.concat_v2([layer2_flat, layer3_flat], 1)\n",
    "    print(\"layer4_flat shape:\", conv3.get_shape())   \n",
    "    \n",
    "    # Dropout\n",
    "    #conv3 = tf.nn.dropout(conv3, dropout)\n",
    "    \n",
    "    # Layer 4: Fully Connected. Input = 800. Output = 43.\n",
    "    fc4_W = tf.Variable(tf.truncated_normal(shape=(800, 43), mean = mu, stddev = sigma), name=\"fc4_W\")\n",
    "    fc4_b = tf.Variable(tf.zeros(43), name=\"fc4_b\")    \n",
    "    logits = tf.add(tf.matmul(conv3, fc4_W), fc4_b)\n",
    "    \n",
    "    \n",
    "    \n",
    "    return logits\n",
    "\n",
    "print('End')"
   ]
  },
  {
   "cell_type": "markdown",
   "metadata": {},
   "source": [
    "## Features and Labels\n",
    "Train LeNet to classify [Traffic- Signs data](https://d17h27t6h515a5.cloudfront.net/topher/2017/February/5898cd6f_traffic-signs-data/traffic-signs-data.zip) data.\n",
    "\n",
    "`x` is a placeholder for a batch of input images.\n",
    "`y` is a placeholder for a batch of output labels.\n",
    "\n",
    "You do not need to modify this section."
   ]
  },
  {
   "cell_type": "code",
   "execution_count": 14,
   "metadata": {},
   "outputs": [
    {
     "name": "stdout",
     "output_type": "stream",
     "text": [
      "End\n"
     ]
    }
   ],
   "source": [
    "x = tf.placeholder(tf.float32, (None, 32, 32, 1))\n",
    "y = tf.placeholder(tf.int32, (None))\n",
    "one_hot_y = tf.one_hot(y, 43)\n",
    "print('End')"
   ]
  },
  {
   "cell_type": "markdown",
   "metadata": {},
   "source": [
    "## Training Pipeline\n",
    "Create a training pipeline that uses the model to classify data.\n",
    "\n",
    "You do not need to modify this section."
   ]
  },
  {
   "cell_type": "code",
   "execution_count": 15,
   "metadata": {},
   "outputs": [
    {
     "name": "stdout",
     "output_type": "stream",
     "text": [
      "layer2_flat shape: (?, 400)\n",
      "layer3_flat shape: (?, 400)\n",
      "layer4_flat shape: (?, 800)\n"
     ]
    }
   ],
   "source": [
    "\n",
    "\n",
    "#logits = LeNet(x)\n",
    "logits = LeNet_modified(x)\n",
    "cross_entropy = tf.nn.softmax_cross_entropy_with_logits(labels=one_hot_y, logits=logits)\n",
    "loss_operation = tf.reduce_mean(cross_entropy)\n",
    "optimizer = tf.train.AdamOptimizer(learning_rate = rate)\n",
    "training_operation = optimizer.minimize(loss_operation)"
   ]
  },
  {
   "cell_type": "markdown",
   "metadata": {},
   "source": [
    "## Model Evaluation\n",
    "Evaluate how well the loss and accuracy of the model for a given dataset.\n",
    "\n",
    "You do not need to modify this section."
   ]
  },
  {
   "cell_type": "code",
   "execution_count": 16,
   "metadata": {},
   "outputs": [
    {
     "name": "stdout",
     "output_type": "stream",
     "text": [
      "End\n"
     ]
    }
   ],
   "source": [
    "correct_prediction = tf.equal(tf.argmax(logits, 1), tf.argmax(one_hot_y, 1))\n",
    "accuracy_operation = tf.reduce_mean(tf.cast(correct_prediction, tf.float32))\n",
    "saver = tf.train.Saver()\n",
    "\n",
    "def evaluate(X_data, y_data):\n",
    "    num_examples = len(X_data)\n",
    "    total_accuracy = 0\n",
    "    sess = tf.get_default_session()\n",
    "    for offset in range(0, num_examples, BATCH_SIZE):\n",
    "        batch_x, batch_y = X_data[offset:offset+BATCH_SIZE], y_data[offset:offset+BATCH_SIZE]\n",
    "        accuracy = sess.run(accuracy_operation, feed_dict={x: batch_x, y: batch_y})\n",
    "        total_accuracy += (accuracy * len(batch_x))\n",
    "    return total_accuracy / num_examples\n",
    "\n",
    "print('End')"
   ]
  },
  {
   "cell_type": "markdown",
   "metadata": {},
   "source": [
    "## Train the Model\n",
    "Run the training data through the training pipeline to train the model.\n",
    "\n",
    "Before each epoch, shuffle the training set.\n",
    "\n",
    "After each epoch, measure the loss and accuracy of the validation set.\n",
    "\n",
    "Save the model after training.\n",
    "\n",
    "You do not need to modify this section."
   ]
  },
  {
   "cell_type": "code",
   "execution_count": 17,
   "metadata": {},
   "outputs": [
    {
     "name": "stdout",
     "output_type": "stream",
     "text": [
      "Training...\n",
      "\n",
      "EPOCH 1 ...\n",
      "Validation Accuracy = 0.918\n",
      "\n",
      "EPOCH 2 ...\n",
      "Validation Accuracy = 0.953\n",
      "\n",
      "EPOCH 3 ...\n",
      "Validation Accuracy = 0.976\n",
      "\n",
      "EPOCH 4 ...\n",
      "Validation Accuracy = 0.983\n",
      "\n",
      "EPOCH 5 ...\n",
      "Validation Accuracy = 0.986\n",
      "\n",
      "EPOCH 6 ...\n",
      "Validation Accuracy = 0.990\n",
      "\n",
      "EPOCH 7 ...\n",
      "Validation Accuracy = 0.992\n",
      "\n",
      "EPOCH 8 ...\n",
      "Validation Accuracy = 0.990\n",
      "\n",
      "EPOCH 9 ...\n",
      "Validation Accuracy = 0.992\n",
      "\n",
      "EPOCH 10 ...\n",
      "Validation Accuracy = 0.997\n",
      "\n",
      "EPOCH 11 ...\n",
      "Validation Accuracy = 0.994\n",
      "\n",
      "EPOCH 12 ...\n",
      "Validation Accuracy = 0.994\n",
      "\n",
      "EPOCH 13 ...\n",
      "Validation Accuracy = 0.996\n",
      "\n",
      "EPOCH 14 ...\n",
      "Validation Accuracy = 0.994\n",
      "\n",
      "EPOCH 15 ...\n",
      "Validation Accuracy = 0.997\n",
      "\n",
      "EPOCH 16 ...\n",
      "Validation Accuracy = 0.993\n",
      "\n",
      "EPOCH 17 ...\n",
      "Validation Accuracy = 0.998\n",
      "\n",
      "EPOCH 18 ...\n",
      "Validation Accuracy = 0.997\n",
      "\n",
      "EPOCH 19 ...\n",
      "Validation Accuracy = 0.996\n",
      "\n",
      "EPOCH 20 ...\n",
      "Validation Accuracy = 0.999\n",
      "\n",
      "EPOCH 21 ...\n",
      "Validation Accuracy = 0.999\n",
      "\n",
      "EPOCH 22 ...\n",
      "Validation Accuracy = 0.996\n",
      "\n",
      "EPOCH 23 ...\n",
      "Validation Accuracy = 0.999\n",
      "\n",
      "EPOCH 24 ...\n",
      "Validation Accuracy = 0.999\n",
      "\n",
      "EPOCH 25 ...\n",
      "Validation Accuracy = 0.995\n",
      "\n",
      "EPOCH 26 ...\n",
      "Validation Accuracy = 0.999\n",
      "\n",
      "EPOCH 27 ...\n",
      "Validation Accuracy = 0.999\n",
      "\n",
      "EPOCH 28 ...\n",
      "Validation Accuracy = 0.999\n",
      "\n",
      "EPOCH 29 ...\n",
      "Validation Accuracy = 0.999\n",
      "\n",
      "EPOCH 30 ...\n",
      "Validation Accuracy = 0.999\n",
      "\n",
      "EPOCH 31 ...\n",
      "Validation Accuracy = 0.999\n",
      "\n",
      "EPOCH 32 ...\n",
      "Validation Accuracy = 0.998\n",
      "\n",
      "EPOCH 33 ...\n",
      "Validation Accuracy = 0.998\n",
      "\n",
      "EPOCH 34 ...\n",
      "Validation Accuracy = 0.999\n",
      "\n",
      "EPOCH 35 ...\n",
      "Validation Accuracy = 0.999\n",
      "\n",
      "EPOCH 36 ...\n",
      "Validation Accuracy = 0.999\n",
      "\n",
      "EPOCH 37 ...\n",
      "Validation Accuracy = 0.999\n",
      "\n",
      "EPOCH 38 ...\n",
      "Validation Accuracy = 0.998\n",
      "\n",
      "EPOCH 39 ...\n",
      "Validation Accuracy = 0.999\n",
      "\n",
      "EPOCH 40 ...\n",
      "Validation Accuracy = 0.999\n",
      "\n",
      "EPOCH 41 ...\n",
      "Validation Accuracy = 0.999\n",
      "\n",
      "EPOCH 42 ...\n",
      "Validation Accuracy = 0.991\n",
      "\n",
      "EPOCH 43 ...\n",
      "Validation Accuracy = 0.999\n",
      "\n",
      "EPOCH 44 ...\n",
      "Validation Accuracy = 0.999\n",
      "\n",
      "EPOCH 45 ...\n",
      "Validation Accuracy = 0.999\n",
      "\n",
      "EPOCH 46 ...\n",
      "Validation Accuracy = 0.999\n",
      "\n",
      "EPOCH 47 ...\n",
      "Validation Accuracy = 1.000\n",
      "\n",
      "EPOCH 48 ...\n",
      "Validation Accuracy = 0.998\n",
      "\n",
      "EPOCH 49 ...\n",
      "Validation Accuracy = 0.998\n",
      "\n",
      "EPOCH 50 ...\n",
      "Validation Accuracy = 0.999\n",
      "\n",
      "Model saved\n"
     ]
    }
   ],
   "source": [
    "with tf.Session() as sess:\n",
    "    sess.run(tf.global_variables_initializer())\n",
    "    num_examples = len(X_train)\n",
    "    \n",
    "    print(\"Training...\")\n",
    "    print()\n",
    "    for i in range(EPOCHS):\n",
    "        X_train, y_train = shuffle(X_train, y_train)\n",
    "        for offset in range(0, num_examples, BATCH_SIZE):\n",
    "            end = offset + BATCH_SIZE\n",
    "            batch_x, batch_y = X_train[offset:end], y_train[offset:end]\n",
    "            sess.run(training_operation, feed_dict={x: batch_x, y: batch_y})\n",
    "         \n",
    "        validation_accuracy = evaluate(X_validation, y_validation)\n",
    "        \n",
    "        \n",
    "        print(\"EPOCH {} ...\".format(i+1))\n",
    "        print(\"Validation Accuracy = {:.3f}\".format(validation_accuracy))\n",
    "        print()\n",
    "        \n",
    "    saver.save(sess, './lenet')\n",
    "    print(\"Model saved\")"
   ]
  },
  {
   "cell_type": "markdown",
   "metadata": {},
   "source": [
    "## Evaluate the Model\n",
    "Now, I am completely satisfied with my model, evaluate the performance of the model on the test set.\n",
    "\n",
    "I will use the measure the performance of my trained model on the test set, then improve your model, and then measure the performance of my model on the test set again, then will test my model performance against real data as shown in the rest of this notebook.\n",
    "\n"
   ]
  },
  {
   "cell_type": "code",
   "execution_count": 18,
   "metadata": {},
   "outputs": [
    {
     "name": "stdout",
     "output_type": "stream",
     "text": [
      "Train Accuracy = 1.000\n",
      "Valid Accuracy = 0.999\n",
      "Test Accuracy = 0.932\n"
     ]
    }
   ],
   "source": [
    "with tf.Session() as sess:\n",
    "    saver.restore(sess, tf.train.latest_checkpoint('.'))\n",
    "    \n",
    "    train_accuracy = evaluate(X_train, y_train)\n",
    "    print(\"Train Accuracy = {:.3f}\".format(train_accuracy))\n",
    "    \n",
    "    valid_accuracy = evaluate(X_validation, y_validation)\n",
    "    print(\"Valid Accuracy = {:.3f}\".format(valid_accuracy))    \n",
    "    \n",
    "    test_accuracy = evaluate(X_test, y_test)\n",
    "    print(\"Test Accuracy = {:.3f}\".format(test_accuracy))\n",
    "    "
   ]
  },
  {
   "cell_type": "markdown",
   "metadata": {},
   "source": [
    "## Final Results\n",
    "Now, after using the approach described in the above sections, here are my final results:\n",
    "\n",
    "**Train Accuracy (100%)**\n",
    "\n",
    "**Validation Accuracy (99.9%)**\n",
    "\n",
    "**Test Accuracy (93.2%)**"
   ]
  },
  {
   "cell_type": "markdown",
   "metadata": {
    "collapsed": true
   },
   "source": [
    "# 4. Test a Model on New Images\n",
    "To give yourself more insight into how your model is working, download at least five pictures of German traffic signs from the web and use your model to predict the traffic sign type. Here I used to test on 14-Images.\n",
    "You may find signnames.csv useful as it contains mappings from the class id (integer) to the actual sign name."
   ]
  },
  {
   "cell_type": "markdown",
   "metadata": {
    "collapsed": true
   },
   "source": [
    "## Load and Output the Images"
   ]
  },
  {
   "cell_type": "code",
   "execution_count": 19,
   "metadata": {},
   "outputs": [
    {
     "data": {
      "text/plain": [
       "['10.jpg',\n",
       " '8.jpg',\n",
       " '2.png',\n",
       " '3.png',\n",
       " '13.jpg',\n",
       " '14.jpg',\n",
       " '4.png',\n",
       " '7.jpg',\n",
       " '6.png',\n",
       " '1.png',\n",
       " '5.png',\n",
       " '9.jpg',\n",
       " '12.jpg',\n",
       " '11.jpg']"
      ]
     },
     "execution_count": 19,
     "metadata": {},
     "output_type": "execute_result"
    }
   ],
   "source": [
    "### Import libraries here, in case it is needed to run this part without re-training the Network.\n",
    "import os\n",
    "import numpy as np\n",
    "import matplotlib.pyplot as plt\n",
    "%matplotlib inline\n",
    "import matplotlib.image as mpimg\n",
    "import glob\n",
    "import cv2  #bringing in OpenCV libraries\n",
    "from PIL import Image\n",
    "import random\n",
    "\n",
    "\n",
    "# List the Images, my sample has 8-Images\n",
    "os.listdir(\"test_dataset\")\n",
    "\n"
   ]
  },
  {
   "cell_type": "code",
   "execution_count": 20,
   "metadata": {
    "scrolled": true
   },
   "outputs": [
    {
     "name": "stdout",
     "output_type": "stream",
     "text": [
      "dimensions test_dataset Images are: \n",
      " \n",
      "()\n",
      "Dataset Mean value BEFORE Normalization is: 131.71056547619048 \n"
     ]
    },
    {
     "data": {
      "image/png": "[encoded data removed]",
      "text/plain": [
       "<matplotlib.figure.Figure at 0x7f0140dd5908>"
      ]
     },
     "metadata": {},
     "output_type": "display_data"
    }
   ],
   "source": [
    "#Reading and display downloaded German Sample images after resizing\n",
    "images1 = sorted(glob.glob('./test_dataset/*.png'))\n",
    "images2 = sorted(glob.glob('./test_dataset/*.jpg'))\n",
    "images = np.concatenate((images1, images2), axis=0)\n",
    "\n",
    "\n",
    "labels = np.array([1, 22, 35, 15, 37, 18, 10, 14, 33, 25, 40, 0, 28, 17 ])\n",
    "Y = labels\n",
    "signnames = np.genfromtxt('signnames.csv', skip_header=1, dtype=[('myint','i8'), ('mysring','S55')], delimiter=',')\n",
    "print(\"dimensions test_dataset Images are: \\n \")\n",
    "print( images[1].shape)\n",
    "\n",
    "i=0\n",
    "sample_images = []\n",
    "labels_names = {}\n",
    "for image in images:\n",
    "    img = cv2.cvtColor(cv2.imread(image), cv2.COLOR_BGR2RGB)\n",
    "   # print( \"Img\"+str(i+1)+\" = \",img.shape)\n",
    "    sample_images.append(img)\n",
    "    labels_names[i] = signnames[labels[i]][1].decode('ascii')\n",
    "    #print(\"label_names\"+str(i+1)+\"= \", labels_names[i])\n",
    "    #print(\"\\n\\n\")\n",
    "    i = i + 1\n",
    "    \n",
    "    \n",
    "\n",
    "fig, axs = plt.subplots(7,2, figsize=(15, 15))\n",
    "fig.subplots_adjust(hspace = .6, wspace=1)\n",
    "fig.suptitle(\"visualize 14- images from test_dataset_\", fontsize= 16)\n",
    "axs = axs.ravel()\n",
    "\n",
    "for i in range(14):\n",
    "    image = sample_images[i]\n",
    "    axs[i].axis('off')\n",
    "    axs[i].imshow(image)\n",
    "    axs[i].set_title(labels_names[i], fontsize = 10)\n",
    "\n",
    "# printing the mean value of the dataset before Normalization\n",
    "sample_images_mean = np.mean(sample_images)\n",
    "print(\"Dataset Mean value BEFORE Normalization is: {} \".format(sample_images_mean))"
   ]
  },
  {
   "cell_type": "code",
   "execution_count": 21,
   "metadata": {},
   "outputs": [
    {
     "name": "stdout",
     "output_type": "stream",
     "text": [
      "Grayscale size of sample_image  =  (32, 32, 1)\n",
      "Dataset Mean value AFTER Normalization is: 0.0289887927827381 \n",
      "Test Inputs dimension is (14, 32, 32, 1)\n",
      "Test Outputs dimension is (14,)\n"
     ]
    },
    {
     "data": {
      "image/png": "[encoded data removed]",
      "text/plain": [
       "<matplotlib.figure.Figure at 0x7f01832251d0>"
      ]
     },
     "metadata": {},
     "output_type": "display_data"
    }
   ],
   "source": [
    "# Converting to grayscale then Normalize\n",
    "sample_images = np.array(sample_images)\n",
    "sample_images_gray = np.sum(sample_images/3, axis=3, keepdims=True)\n",
    "sample_images_normalized = (sample_images_gray - 128)/128 \n",
    "X = sample_images_normalized\n",
    "\n",
    "\n",
    "# Display Images after turning to grayscale and normalzation\n",
    "print(\"Grayscale size of sample_image  = \",sample_images_gray[5].shape)\n",
    "\n",
    "\n",
    "# printing the mean value of the dataset after Normalization\n",
    "sample_images_normalized_mean= np.mean(sample_images_normalized)\n",
    "print(\"Dataset Mean value AFTER Normalization is: {} \".format(sample_images_normalized_mean))\n",
    "\n",
    "# Display 1- Random image after Normalization from training dataset\n",
    "index = random.randint(0, len(sample_images_normalized)-1)\n",
    "image = sample_images_normalized[index].squeeze()\n",
    "plt.figure(figsize=(1,1))\n",
    "plt.title(\"Image Class =  {}\".format(labels_names[index]))\n",
    "plt.imshow(image, cmap=\"gray\")\n",
    "\n",
    "print( \"Test Inputs dimension is\", X.shape)\n",
    "print( \"Test Outputs dimension is\", Y.shape)\n"
   ]
  },
  {
   "cell_type": "markdown",
   "metadata": {},
   "source": [
    "## Predict the Sign Type for Each Image\n"
   ]
  },
  {
   "cell_type": "code",
   "execution_count": 22,
   "metadata": {},
   "outputs": [
    {
     "name": "stdout",
     "output_type": "stream",
     "text": [
      "Image 1   expected class is = 1 VS predicted class is = 1\n",
      "Image 2   expected class is = 22 VS predicted class is = 22\n",
      "Image 3   expected class is = 35 VS predicted class is = 35\n",
      "Image 4   expected class is = 15 VS predicted class is = 2\n",
      "Image 5   expected class is = 37 VS predicted class is = 37\n",
      "Image 6   expected class is = 18 VS predicted class is = 18\n",
      "Image 7   expected class is = 10 VS predicted class is = 10\n",
      "Image 8   expected class is = 14 VS predicted class is = 14\n",
      "Image 9   expected class is = 33 VS predicted class is = 33\n",
      "Image 10   expected class is = 25 VS predicted class is = 25\n",
      "Image 11   expected class is = 40 VS predicted class is = 40\n",
      "Image 12   expected class is = 0 VS predicted class is = 26\n",
      "Image 13   expected class is = 28 VS predicted class is = 11\n",
      "Image 14   expected class is = 17 VS predicted class is = 17\n",
      "Error: 3\n"
     ]
    }
   ],
   "source": [
    "# Compare between the Expected prediction and the Actual Predection per image\n",
    "\n",
    "import tensorflow as tf\n",
    "\n",
    "with tf.Session() as sess:\n",
    "    saver.restore(sess, tf.train.latest_checkpoint('.'))\n",
    "\n",
    "    predictions = sess.run(logits, feed_dict={x: X})\n",
    "    \n",
    "error = 0\n",
    "for prediction,i in zip(predictions, range(len(predictions))):\n",
    "    print(\"Image {}   expected class is = {} VS predicted class is = {}\".format(i+1, Y[i], np.argmax(prediction)))\n",
    "    if np.argmax(prediction) != Y[i]:\n",
    "        error += 1\n",
    "print(\"Error:\", error)"
   ]
  },
  {
   "cell_type": "markdown",
   "metadata": {},
   "source": [
    "## Calculating  How precise the model is  for the new data \n",
    "\n",
    "As shown from above data, the model gives 2 error predicted classes  , which gives us the following Precision  value:\n",
    "\n",
    "** Precision = 9/12 *100 = 75% **"
   ]
  },
  {
   "cell_type": "markdown",
   "metadata": {},
   "source": [
    "\n",
    "So, Let's visualize the Current Traning set and Validation set classes labels frequencies:\n"
   ]
  },
  {
   "cell_type": "code",
   "execution_count": 23,
   "metadata": {},
   "outputs": [
    {
     "name": "stdout",
     "output_type": "stream",
     "text": [
      " Current Trainin Set size =  111356\n"
     ]
    },
    {
     "data": {
      "image/png": "[encoded data removed]",
      "text/plain": [
       "<matplotlib.figure.Figure at 0x7f0140ec4e10>"
      ]
     },
     "metadata": {},
     "output_type": "display_data"
    }
   ],
   "source": [
    "# Visualize Current Traning set labels frequencies diagram\n",
    "print(\" Current Trainin Set size = \", len(y_train))\n",
    "hist, bins = np.histogram(y_train, bins=43)\n",
    "width = 0.7 * (bins[1] - bins[0])\n",
    "center = (bins[:-1] + bins[1:]) / 2\n",
    "plt.bar(center, hist, align='center', width=width)\n",
    "plt.title(\"Label Frequency in Training set\")\n",
    "plt.xlabel('Classes Labels')\n",
    "plt.ylabel('Frequency')\n",
    "plt.show()\n"
   ]
  },
  {
   "cell_type": "code",
   "execution_count": 24,
   "metadata": {},
   "outputs": [
    {
     "name": "stdout",
     "output_type": "stream",
     "text": [
      " Current Trainin Set size =  27840\n"
     ]
    },
    {
     "data": {
      "image/png": "[encoded data removed]",
      "text/plain": [
       "<matplotlib.figure.Figure at 0x7f013c3575f8>"
      ]
     },
     "metadata": {},
     "output_type": "display_data"
    }
   ],
   "source": [
    "# Visualize Current Traning set labels frequencies diagram\n",
    "print(\" Current Trainin Set size = \", len(y_validation))\n",
    "hist, bins = np.histogram(y_validation, bins=43)\n",
    "width = 0.7 * (bins[1] - bins[0])\n",
    "center = (bins[:-1] + bins[1:]) / 2\n",
    "plt.bar(center, hist, align='center', width=width)\n",
    "plt.title(\"Label Frequency in Validation set\")\n",
    "plt.xlabel('Classes Labels')\n",
    "plt.ylabel('Frequency')\n",
    "plt.show()\n"
   ]
  },
  {
   "cell_type": "markdown",
   "metadata": {},
   "source": [
    "### Now it is clear that the classes that are mis-predicted are not trained well, so now I will Augment more training and validation data for those classes to make sure the model is trained well enough to predict those classes."
   ]
  },
  {
   "cell_type": "markdown",
   "metadata": {},
   "source": [
    "## Analyze Performance"
   ]
  },
  {
   "cell_type": "code",
   "execution_count": 25,
   "metadata": {},
   "outputs": [
    {
     "name": "stdout",
     "output_type": "stream",
     "text": [
      "Random Image testing Accuracy = 0.786\n",
      "\n"
     ]
    }
   ],
   "source": [
    "### Calculate the testing accuracy for these 14 new images. \n",
    "\n",
    "\n",
    "with tf.Session() as sess:\n",
    "    sess.run(tf.global_variables_initializer())\n",
    "    saver.restore(sess, \"./lenet\")\n",
    "    my_accuracy = evaluate(X, Y)\n",
    "    print(\"Random Image testing Accuracy = {:.3f}\\n\".format(my_accuracy))\n",
    "        "
   ]
  },
  {
   "cell_type": "markdown",
   "metadata": {
    "collapsed": true
   },
   "source": [
    "## Output Top 5 Softmax Probabilities For Each Image Found on the Web\n",
    "\n",
    "For each of the new images, print out the model's softmax probabilities to show the **certainty** of the model's predictions (limit the output to the top 5 probabilities for each image). tf.nn.top_k could prove helpful here.\n",
    "\n",
    "The example below demonstrates how tf.nn.top_k can be used to find the top k predictions for each image.\n",
    "\n",
    "tf.nn.top_k will return the values and indices (class ids) of the top k predictions. So if k=3, for each sign, it'll return the 3 largest probabilities (out of a possible 43) and the correspoding class ids.\n",
    "\n",
    "Take this numpy array as an example. The values in the array represent predictions. The array contains softmax probabilities for five candidate images with six possible classes. tf.nn.top_k is used to choose the three classes with the highest probability:\n",
    "\n",
    " (5, 6) array\n",
    " \n",
    "a = np.array([[ 0.24879643,  0.07032244,  0.12641572,  0.34763842,  0.07893497,\n",
    "\n",
    "         0.12789202],\n",
    "         \n",
    "       [ 0.28086119,  0.27569815,  0.08594638,  0.0178669 ,  0.18063401,\n",
    "       \n",
    "         0.15899337],\n",
    "         \n",
    "       [ 0.26076848,  0.23664738,  0.08020603,  0.07001922,  0.1134371 ,\n",
    "       \n",
    "         0.23892179],\n",
    "         \n",
    "       [ 0.11943333,  0.29198961,  0.02605103,  0.26234032,  0.1351348 ,\n",
    "       \n",
    "         0.16505091],\n",
    "         \n",
    "       [ 0.09561176,  0.34396535,  0.0643941 ,  0.16240774,  0.24206137,\n",
    "       \n",
    "         0.09155967]])\n",
    "         \n",
    "Running it through sess.run(tf.nn.top_k(tf.constant(a), k=3)) produces:\n",
    "\n",
    "TopKV2(values=array([[ 0.34763842,  0.24879643,  0.12789202],\n",
    "\n",
    "       [ 0.28086119,  0.27569815,  0.18063401],\n",
    "       \n",
    "       [ 0.26076848,  0.23892179,  0.23664738],\n",
    "       \n",
    "       [ 0.29198961,  0.26234032,  0.16505091],\n",
    "       \n",
    "       [ 0.34396535,  0.24206137,  0.16240774]]), indices=array([[3, 0, 5],\n",
    "       \n",
    "       [0, 1, 4],\n",
    "       \n",
    "       [0, 5, 1],\n",
    "       \n",
    "       [1, 3, 5],\n",
    "       \n",
    "       [1, 4, 3]], dtype=int32))\n",
    "       \n",
    "Looking just at the first row we get [ 0.34763842,  0.24879643,  0.12789202], you can confirm these are the 3 largest probabilities in a. You'll also notice [3, 0, 5] are the corresponding indices.\n"
   ]
  },
  {
   "cell_type": "code",
   "execution_count": 26,
   "metadata": {},
   "outputs": [
    {
     "name": "stdout",
     "output_type": "stream",
     "text": [
      "[[  1.00000000e+00   1.79334663e-15   3.09033671e-16   8.51233834e-17\n",
      "    2.27228169e-17]\n",
      " [  9.99994278e-01   5.76250432e-06   5.43124798e-08   2.65471065e-11\n",
      "    2.58374593e-14]\n",
      " [  1.00000000e+00   5.41463621e-08   7.28198266e-11   5.79047470e-11\n",
      "    3.15157900e-11]\n",
      " [  9.99989867e-01   4.24202517e-06   3.68117617e-06   9.18641149e-07\n",
      "    7.81446488e-07]\n",
      " [  1.00000000e+00   4.89318443e-18   3.76111657e-20   3.75028568e-20\n",
      "    8.44439778e-22]\n",
      " [  1.00000000e+00   1.54015404e-27   7.11491304e-29   6.36357406e-29\n",
      "    4.52240117e-33]\n",
      " [  1.00000000e+00   8.96639707e-10   1.71056197e-10   4.76634926e-15\n",
      "    7.59776695e-16]\n",
      " [  9.15085912e-01   8.37271512e-02   7.50757870e-04   2.95453618e-04\n",
      "    4.95361273e-05]\n",
      " [  9.99999642e-01   2.26758175e-07   6.05690076e-08   2.23575505e-10\n",
      "    2.75216373e-12]\n",
      " [  1.00000000e+00   3.19985705e-09   2.84126056e-09   9.73552627e-11\n",
      "    1.25027365e-14]\n",
      " [  9.99999046e-01   7.12695169e-07   2.66422433e-07   4.53942484e-09\n",
      "    2.74522516e-09]\n",
      " [  5.10119915e-01   4.89843547e-01   2.78454900e-05   4.54646624e-06\n",
      "    3.99874671e-06]\n",
      " [  9.99998569e-01   1.40897487e-06   2.66227214e-11   1.87628708e-13\n",
      "    9.53876248e-19]\n",
      " [  1.00000000e+00   9.81841258e-12   1.58037950e-14   1.14963081e-18\n",
      "    1.94078311e-19]]\n",
      "[[ 1 31 40  0 37]\n",
      " [22 29 26 15 38]\n",
      " [35 25 26 12 29]\n",
      " [ 2  1 12 15 32]\n",
      " [37 10 31 18 40]\n",
      " [18 27 11 26 24]\n",
      " [10 42  9 33  7]\n",
      " [14 33 25 18  1]\n",
      " [33 11  1  7 14]\n",
      " [25 31 23 21 29]\n",
      " [40 12 28 25 18]\n",
      " [26  1 38 37  0]\n",
      " [11 34 25 30 26]\n",
      " [17 33 14  9 12]]\n"
     ]
    }
   ],
   "source": [
    "### Print out the top five softmax probabilities for the predictions on the German traffic sign images found on the web. \n",
    "### Feel free to use as many code cells as needed.\n",
    "import tensorflow as tf\n",
    "with tf.Session() as sess:\n",
    "    saver.restore(sess, tf.train.latest_checkpoint('.'))\n",
    "    Softmax = tf.nn.softmax(logits)\n",
    "    New_logits = sess.run(Softmax, feed_dict={x: X})\n",
    "    Top5 = sess.run(tf.nn.top_k(tf.constant(New_logits), k=5))\n",
    "    # Top 5- classes predicted per Testing Image\n",
    "    Top5Classes = Top5[1]\n",
    "    Top5Percentage = Top5[0]\n",
    "print(Top5Percentage)\n",
    "print(Top5Classes)"
   ]
  },
  {
   "cell_type": "markdown",
   "metadata": {},
   "source": [
    "## Visualization of the top 5-Softmax per Image"
   ]
  },
  {
   "cell_type": "code",
   "execution_count": 28,
   "metadata": {},
   "outputs": [
    {
     "data": {
      "text/html": [
       "<script>requirejs.config({paths: { 'plotly': ['https://cdn.plot.ly/plotly-latest.min']},});if(!window.Plotly) {{require(['plotly'],function(plotly) {window.Plotly=plotly;});}}</script>"
      ],
      "text/vnd.plotly.v1+html": [
       "<script>requirejs.config({paths: { 'plotly': ['https://cdn.plot.ly/plotly-latest.min']},});if(!window.Plotly) {{require(['plotly'],function(plotly) {window.Plotly=plotly;});}}</script>"
      ]
     },
     "metadata": {},
     "output_type": "display_data"
    },
    {
     "name": "stdout",
     "output_type": "stream",
     "text": [
      "End\n"
     ]
    }
   ],
   "source": [
    "import plotly.plotly as py\n",
    "import plotly.graph_objs as go\n",
    "\n",
    "import plotly\n",
    "plotly.__version__\n",
    "\n",
    "from plotly.graph_objs import Scatter, Layout\n",
    "\n",
    "plotly.offline.init_notebook_mode(connected=True)\n",
    "\n",
    "print('End')"
   ]
  },
  {
   "cell_type": "code",
   "execution_count": 29,
   "metadata": {},
   "outputs": [
    {
     "data": {
      "application/vnd.plotly.v1+json": {
       "data": [
        {
         "cells": {
          "align": [
           "left",
           "left",
           "left",
           "left",
           "left"
          ],
          "fill": {
           "color": "#EDFAFF"
          },
          "line": {
           "color": "#7D7F80"
          },
          "values": [
           [
            "Speed limit (30km/h)",
            "Wild animals crossing",
            "Roundabout mandatory",
            "Speed limit (20km/h)",
            "Go straight or left"
           ],
           [
            "100.0",
            "0.0",
            "0.0",
            "0.0",
            "0.0"
           ]
          ]
         },
         "header": {
          "align": [
           "left",
           "left",
           "left",
           "left",
           "left"
          ],
          "fill": {
           "color": "#a1c3d1"
          },
          "line": {
           "color": "#7D7F80"
          },
          "values": [
           "5 top Softmax",
           "Percentage%"
          ]
         },
         "type": "table"
        }
       ],
       "layout": {
        "height": 500,
        "title": "Top5-Softmax for image1, True Prediction is Speed limit (30km/h)",
        "width": 700
       }
      },
      "text/html": [
       "<div id=\"90fec391-8c3e-4e56-81b9-e3e4328dc0fc\" style=\"height: 500px; width: 700px;\" class=\"plotly-graph-div\"></div><script type=\"text/javascript\">require([\"plotly\"], function(Plotly) { window.PLOTLYENV=window.PLOTLYENV || {};window.PLOTLYENV.BASE_URL=\"https://plot.ly\";Plotly.newPlot(\"90fec391-8c3e-4e56-81b9-e3e4328dc0fc\", [{\"header\": {\"values\": [\"5 top Softmax\", \"Percentage%\"], \"line\": {\"color\": \"#7D7F80\"}, \"fill\": {\"color\": \"#a1c3d1\"}, \"align\": [\"left\", \"left\", \"left\", \"left\", \"left\"]}, \"cells\": {\"values\": [[\"Speed limit (30km/h)\", \"Wild animals crossing\", \"Roundabout mandatory\", \"Speed limit (20km/h)\", \"Go straight or left\"], [\"100.0\", \"0.0\", \"0.0\", \"0.0\", \"0.0\"]], \"line\": {\"color\": \"#7D7F80\"}, \"fill\": {\"color\": \"#EDFAFF\"}, \"align\": [\"left\", \"left\", \"left\", \"left\", \"left\"]}, \"type\": \"table\"}], {\"width\": 700, \"height\": 500, \"title\": \"Top5-Softmax for image1, True Prediction is Speed limit (30km/h)\"}, {\"linkText\": \"Export to plot.ly\", \"showLink\": true})});</script>"
      ],
      "text/vnd.plotly.v1+html": [
       "<div id=\"90fec391-8c3e-4e56-81b9-e3e4328dc0fc\" style=\"height: 500px; width: 700px;\" class=\"plotly-graph-div\"></div><script type=\"text/javascript\">require([\"plotly\"], function(Plotly) { window.PLOTLYENV=window.PLOTLYENV || {};window.PLOTLYENV.BASE_URL=\"https://plot.ly\";Plotly.newPlot(\"90fec391-8c3e-4e56-81b9-e3e4328dc0fc\", [{\"header\": {\"values\": [\"5 top Softmax\", \"Percentage%\"], \"line\": {\"color\": \"#7D7F80\"}, \"fill\": {\"color\": \"#a1c3d1\"}, \"align\": [\"left\", \"left\", \"left\", \"left\", \"left\"]}, \"cells\": {\"values\": [[\"Speed limit (30km/h)\", \"Wild animals crossing\", \"Roundabout mandatory\", \"Speed limit (20km/h)\", \"Go straight or left\"], [\"100.0\", \"0.0\", \"0.0\", \"0.0\", \"0.0\"]], \"line\": {\"color\": \"#7D7F80\"}, \"fill\": {\"color\": \"#EDFAFF\"}, \"align\": [\"left\", \"left\", \"left\", \"left\", \"left\"]}, \"type\": \"table\"}], {\"width\": 700, \"height\": 500, \"title\": \"Top5-Softmax for image1, True Prediction is Speed limit (30km/h)\"}, {\"linkText\": \"Export to plot.ly\", \"showLink\": true})});</script>"
      ]
     },
     "metadata": {},
     "output_type": "display_data"
    },
    {
     "data": {
      "application/vnd.plotly.v1+json": {
       "data": [
        {
         "cells": {
          "align": [
           "left",
           "left",
           "left",
           "left",
           "left"
          ],
          "fill": {
           "color": "#EDFAFF"
          },
          "line": {
           "color": "#7D7F80"
          },
          "values": [
           [
            "Bumpy road",
            "Bicycles crossing",
            "Traffic signals",
            "No vehicles",
            "Keep right"
           ],
           [
            "100.0",
            "0.0",
            "0.0",
            "0.0",
            "0.0"
           ]
          ]
         },
         "header": {
          "align": [
           "left",
           "left",
           "left",
           "left",
           "left"
          ],
          "fill": {
           "color": "#a1c3d1"
          },
          "line": {
           "color": "#7D7F80"
          },
          "values": [
           "5 top Softmax",
           "Percentage%"
          ]
         },
         "type": "table"
        }
       ],
       "layout": {
        "height": 500,
        "title": "Top5-Softmax for image2, True Prediction is Bumpy road",
        "width": 700
       }
      },
      "text/html": [
       "<div id=\"cf177352-7494-4acf-a654-f2b5ed2fe2d4\" style=\"height: 500px; width: 700px;\" class=\"plotly-graph-div\"></div><script type=\"text/javascript\">require([\"plotly\"], function(Plotly) { window.PLOTLYENV=window.PLOTLYENV || {};window.PLOTLYENV.BASE_URL=\"https://plot.ly\";Plotly.newPlot(\"cf177352-7494-4acf-a654-f2b5ed2fe2d4\", [{\"header\": {\"values\": [\"5 top Softmax\", \"Percentage%\"], \"line\": {\"color\": \"#7D7F80\"}, \"fill\": {\"color\": \"#a1c3d1\"}, \"align\": [\"left\", \"left\", \"left\", \"left\", \"left\"]}, \"cells\": {\"values\": [[\"Bumpy road\", \"Bicycles crossing\", \"Traffic signals\", \"No vehicles\", \"Keep right\"], [\"100.0\", \"0.0\", \"0.0\", \"0.0\", \"0.0\"]], \"line\": {\"color\": \"#7D7F80\"}, \"fill\": {\"color\": \"#EDFAFF\"}, \"align\": [\"left\", \"left\", \"left\", \"left\", \"left\"]}, \"type\": \"table\"}], {\"width\": 700, \"height\": 500, \"title\": \"Top5-Softmax for image2, True Prediction is Bumpy road\"}, {\"linkText\": \"Export to plot.ly\", \"showLink\": true})});</script>"
      ],
      "text/vnd.plotly.v1+html": [
       "<div id=\"cf177352-7494-4acf-a654-f2b5ed2fe2d4\" style=\"height: 500px; width: 700px;\" class=\"plotly-graph-div\"></div><script type=\"text/javascript\">require([\"plotly\"], function(Plotly) { window.PLOTLYENV=window.PLOTLYENV || {};window.PLOTLYENV.BASE_URL=\"https://plot.ly\";Plotly.newPlot(\"cf177352-7494-4acf-a654-f2b5ed2fe2d4\", [{\"header\": {\"values\": [\"5 top Softmax\", \"Percentage%\"], \"line\": {\"color\": \"#7D7F80\"}, \"fill\": {\"color\": \"#a1c3d1\"}, \"align\": [\"left\", \"left\", \"left\", \"left\", \"left\"]}, \"cells\": {\"values\": [[\"Bumpy road\", \"Bicycles crossing\", \"Traffic signals\", \"No vehicles\", \"Keep right\"], [\"100.0\", \"0.0\", \"0.0\", \"0.0\", \"0.0\"]], \"line\": {\"color\": \"#7D7F80\"}, \"fill\": {\"color\": \"#EDFAFF\"}, \"align\": [\"left\", \"left\", \"left\", \"left\", \"left\"]}, \"type\": \"table\"}], {\"width\": 700, \"height\": 500, \"title\": \"Top5-Softmax for image2, True Prediction is Bumpy road\"}, {\"linkText\": \"Export to plot.ly\", \"showLink\": true})});</script>"
      ]
     },
     "metadata": {},
     "output_type": "display_data"
    },
    {
     "data": {
      "application/vnd.plotly.v1+json": {
       "data": [
        {
         "cells": {
          "align": [
           "left",
           "left",
           "left",
           "left",
           "left"
          ],
          "fill": {
           "color": "#EDFAFF"
          },
          "line": {
           "color": "#7D7F80"
          },
          "values": [
           [
            "Ahead only",
            "Road work",
            "Traffic signals",
            "Priority road",
            "Bicycles crossing"
           ],
           [
            "100.0",
            "0.0",
            "0.0",
            "0.0",
            "0.0"
           ]
          ]
         },
         "header": {
          "align": [
           "left",
           "left",
           "left",
           "left",
           "left"
          ],
          "fill": {
           "color": "#a1c3d1"
          },
          "line": {
           "color": "#7D7F80"
          },
          "values": [
           "5 top Softmax",
           "Percentage%"
          ]
         },
         "type": "table"
        }
       ],
       "layout": {
        "height": 500,
        "title": "Top5-Softmax for image3, True Prediction is Ahead only",
        "width": 700
       }
      },
      "text/html": [
       "<div id=\"bfe8d51a-4708-4345-a8d2-8626abe5712a\" style=\"height: 500px; width: 700px;\" class=\"plotly-graph-div\"></div><script type=\"text/javascript\">require([\"plotly\"], function(Plotly) { window.PLOTLYENV=window.PLOTLYENV || {};window.PLOTLYENV.BASE_URL=\"https://plot.ly\";Plotly.newPlot(\"bfe8d51a-4708-4345-a8d2-8626abe5712a\", [{\"header\": {\"values\": [\"5 top Softmax\", \"Percentage%\"], \"line\": {\"color\": \"#7D7F80\"}, \"fill\": {\"color\": \"#a1c3d1\"}, \"align\": [\"left\", \"left\", \"left\", \"left\", \"left\"]}, \"cells\": {\"values\": [[\"Ahead only\", \"Road work\", \"Traffic signals\", \"Priority road\", \"Bicycles crossing\"], [\"100.0\", \"0.0\", \"0.0\", \"0.0\", \"0.0\"]], \"line\": {\"color\": \"#7D7F80\"}, \"fill\": {\"color\": \"#EDFAFF\"}, \"align\": [\"left\", \"left\", \"left\", \"left\", \"left\"]}, \"type\": \"table\"}], {\"width\": 700, \"height\": 500, \"title\": \"Top5-Softmax for image3, True Prediction is Ahead only\"}, {\"linkText\": \"Export to plot.ly\", \"showLink\": true})});</script>"
      ],
      "text/vnd.plotly.v1+html": [
       "<div id=\"bfe8d51a-4708-4345-a8d2-8626abe5712a\" style=\"height: 500px; width: 700px;\" class=\"plotly-graph-div\"></div><script type=\"text/javascript\">require([\"plotly\"], function(Plotly) { window.PLOTLYENV=window.PLOTLYENV || {};window.PLOTLYENV.BASE_URL=\"https://plot.ly\";Plotly.newPlot(\"bfe8d51a-4708-4345-a8d2-8626abe5712a\", [{\"header\": {\"values\": [\"5 top Softmax\", \"Percentage%\"], \"line\": {\"color\": \"#7D7F80\"}, \"fill\": {\"color\": \"#a1c3d1\"}, \"align\": [\"left\", \"left\", \"left\", \"left\", \"left\"]}, \"cells\": {\"values\": [[\"Ahead only\", \"Road work\", \"Traffic signals\", \"Priority road\", \"Bicycles crossing\"], [\"100.0\", \"0.0\", \"0.0\", \"0.0\", \"0.0\"]], \"line\": {\"color\": \"#7D7F80\"}, \"fill\": {\"color\": \"#EDFAFF\"}, \"align\": [\"left\", \"left\", \"left\", \"left\", \"left\"]}, \"type\": \"table\"}], {\"width\": 700, \"height\": 500, \"title\": \"Top5-Softmax for image3, True Prediction is Ahead only\"}, {\"linkText\": \"Export to plot.ly\", \"showLink\": true})});</script>"
      ]
     },
     "metadata": {},
     "output_type": "display_data"
    },
    {
     "data": {
      "application/vnd.plotly.v1+json": {
       "data": [
        {
         "cells": {
          "align": [
           "left",
           "left",
           "left",
           "left",
           "left"
          ],
          "fill": {
           "color": "#EDFAFF"
          },
          "line": {
           "color": "#7D7F80"
          },
          "values": [
           [
            "Speed limit (50km/h)",
            "Speed limit (30km/h)",
            "Priority road",
            "No vehicles",
            "End of all speed and passing limits"
           ],
           [
            "100.0",
            "0.0",
            "0.0",
            "0.0",
            "0.0"
           ]
          ]
         },
         "header": {
          "align": [
           "left",
           "left",
           "left",
           "left",
           "left"
          ],
          "fill": {
           "color": "#a1c3d1"
          },
          "line": {
           "color": "#7D7F80"
          },
          "values": [
           "5 top Softmax",
           "Percentage%"
          ]
         },
         "type": "table"
        }
       ],
       "layout": {
        "height": 500,
        "title": "Top5-Softmax for image4, True Prediction is No vehicles",
        "width": 700
       }
      },
      "text/html": [
       "<div id=\"e84715a1-b729-4253-a524-399f9c0af153\" style=\"height: 500px; width: 700px;\" class=\"plotly-graph-div\"></div><script type=\"text/javascript\">require([\"plotly\"], function(Plotly) { window.PLOTLYENV=window.PLOTLYENV || {};window.PLOTLYENV.BASE_URL=\"https://plot.ly\";Plotly.newPlot(\"e84715a1-b729-4253-a524-399f9c0af153\", [{\"header\": {\"values\": [\"5 top Softmax\", \"Percentage%\"], \"line\": {\"color\": \"#7D7F80\"}, \"fill\": {\"color\": \"#a1c3d1\"}, \"align\": [\"left\", \"left\", \"left\", \"left\", \"left\"]}, \"cells\": {\"values\": [[\"Speed limit (50km/h)\", \"Speed limit (30km/h)\", \"Priority road\", \"No vehicles\", \"End of all speed and passing limits\"], [\"100.0\", \"0.0\", \"0.0\", \"0.0\", \"0.0\"]], \"line\": {\"color\": \"#7D7F80\"}, \"fill\": {\"color\": \"#EDFAFF\"}, \"align\": [\"left\", \"left\", \"left\", \"left\", \"left\"]}, \"type\": \"table\"}], {\"width\": 700, \"height\": 500, \"title\": \"Top5-Softmax for image4, True Prediction is No vehicles\"}, {\"linkText\": \"Export to plot.ly\", \"showLink\": true})});</script>"
      ],
      "text/vnd.plotly.v1+html": [
       "<div id=\"e84715a1-b729-4253-a524-399f9c0af153\" style=\"height: 500px; width: 700px;\" class=\"plotly-graph-div\"></div><script type=\"text/javascript\">require([\"plotly\"], function(Plotly) { window.PLOTLYENV=window.PLOTLYENV || {};window.PLOTLYENV.BASE_URL=\"https://plot.ly\";Plotly.newPlot(\"e84715a1-b729-4253-a524-399f9c0af153\", [{\"header\": {\"values\": [\"5 top Softmax\", \"Percentage%\"], \"line\": {\"color\": \"#7D7F80\"}, \"fill\": {\"color\": \"#a1c3d1\"}, \"align\": [\"left\", \"left\", \"left\", \"left\", \"left\"]}, \"cells\": {\"values\": [[\"Speed limit (50km/h)\", \"Speed limit (30km/h)\", \"Priority road\", \"No vehicles\", \"End of all speed and passing limits\"], [\"100.0\", \"0.0\", \"0.0\", \"0.0\", \"0.0\"]], \"line\": {\"color\": \"#7D7F80\"}, \"fill\": {\"color\": \"#EDFAFF\"}, \"align\": [\"left\", \"left\", \"left\", \"left\", \"left\"]}, \"type\": \"table\"}], {\"width\": 700, \"height\": 500, \"title\": \"Top5-Softmax for image4, True Prediction is No vehicles\"}, {\"linkText\": \"Export to plot.ly\", \"showLink\": true})});</script>"
      ]
     },
     "metadata": {},
     "output_type": "display_data"
    },
    {
     "data": {
      "application/vnd.plotly.v1+json": {
       "data": [
        {
         "cells": {
          "align": [
           "left",
           "left",
           "left",
           "left",
           "left"
          ],
          "fill": {
           "color": "#EDFAFF"
          },
          "line": {
           "color": "#7D7F80"
          },
          "values": [
           [
            "Go straight or left",
            "No passing for vehicles over 3.5 metric tons",
            "Wild animals crossing",
            "General caution",
            "Roundabout mandatory"
           ],
           [
            "100.0",
            "0.0",
            "0.0",
            "0.0",
            "0.0"
           ]
          ]
         },
         "header": {
          "align": [
           "left",
           "left",
           "left",
           "left",
           "left"
          ],
          "fill": {
           "color": "#a1c3d1"
          },
          "line": {
           "color": "#7D7F80"
          },
          "values": [
           "5 top Softmax",
           "Percentage%"
          ]
         },
         "type": "table"
        }
       ],
       "layout": {
        "height": 500,
        "title": "Top5-Softmax for image5, True Prediction is Go straight or left",
        "width": 700
       }
      },
      "text/html": [
       "<div id=\"b9768495-1b79-4a0b-ae31-aa441957eb2f\" style=\"height: 500px; width: 700px;\" class=\"plotly-graph-div\"></div><script type=\"text/javascript\">require([\"plotly\"], function(Plotly) { window.PLOTLYENV=window.PLOTLYENV || {};window.PLOTLYENV.BASE_URL=\"https://plot.ly\";Plotly.newPlot(\"b9768495-1b79-4a0b-ae31-aa441957eb2f\", [{\"header\": {\"values\": [\"5 top Softmax\", \"Percentage%\"], \"line\": {\"color\": \"#7D7F80\"}, \"fill\": {\"color\": \"#a1c3d1\"}, \"align\": [\"left\", \"left\", \"left\", \"left\", \"left\"]}, \"cells\": {\"values\": [[\"Go straight or left\", \"No passing for vehicles over 3.5 metric tons\", \"Wild animals crossing\", \"General caution\", \"Roundabout mandatory\"], [\"100.0\", \"0.0\", \"0.0\", \"0.0\", \"0.0\"]], \"line\": {\"color\": \"#7D7F80\"}, \"fill\": {\"color\": \"#EDFAFF\"}, \"align\": [\"left\", \"left\", \"left\", \"left\", \"left\"]}, \"type\": \"table\"}], {\"width\": 700, \"height\": 500, \"title\": \"Top5-Softmax for image5, True Prediction is Go straight or left\"}, {\"linkText\": \"Export to plot.ly\", \"showLink\": true})});</script>"
      ],
      "text/vnd.plotly.v1+html": [
       "<div id=\"b9768495-1b79-4a0b-ae31-aa441957eb2f\" style=\"height: 500px; width: 700px;\" class=\"plotly-graph-div\"></div><script type=\"text/javascript\">require([\"plotly\"], function(Plotly) { window.PLOTLYENV=window.PLOTLYENV || {};window.PLOTLYENV.BASE_URL=\"https://plot.ly\";Plotly.newPlot(\"b9768495-1b79-4a0b-ae31-aa441957eb2f\", [{\"header\": {\"values\": [\"5 top Softmax\", \"Percentage%\"], \"line\": {\"color\": \"#7D7F80\"}, \"fill\": {\"color\": \"#a1c3d1\"}, \"align\": [\"left\", \"left\", \"left\", \"left\", \"left\"]}, \"cells\": {\"values\": [[\"Go straight or left\", \"No passing for vehicles over 3.5 metric tons\", \"Wild animals crossing\", \"General caution\", \"Roundabout mandatory\"], [\"100.0\", \"0.0\", \"0.0\", \"0.0\", \"0.0\"]], \"line\": {\"color\": \"#7D7F80\"}, \"fill\": {\"color\": \"#EDFAFF\"}, \"align\": [\"left\", \"left\", \"left\", \"left\", \"left\"]}, \"type\": \"table\"}], {\"width\": 700, \"height\": 500, \"title\": \"Top5-Softmax for image5, True Prediction is Go straight or left\"}, {\"linkText\": \"Export to plot.ly\", \"showLink\": true})});</script>"
      ]
     },
     "metadata": {},
     "output_type": "display_data"
    },
    {
     "data": {
      "application/vnd.plotly.v1+json": {
       "data": [
        {
         "cells": {
          "align": [
           "left",
           "left",
           "left",
           "left",
           "left"
          ],
          "fill": {
           "color": "#EDFAFF"
          },
          "line": {
           "color": "#7D7F80"
          },
          "values": [
           [
            "General caution",
            "Pedestrians",
            "Right-of-way at the next intersection",
            "Traffic signals",
            "Road narrows on the right"
           ],
           [
            "100.0",
            "0.0",
            "0.0",
            "0.0",
            "0.0"
           ]
          ]
         },
         "header": {
          "align": [
           "left",
           "left",
           "left",
           "left",
           "left"
          ],
          "fill": {
           "color": "#a1c3d1"
          },
          "line": {
           "color": "#7D7F80"
          },
          "values": [
           "5 top Softmax",
           "Percentage%"
          ]
         },
         "type": "table"
        }
       ],
       "layout": {
        "height": 500,
        "title": "Top5-Softmax for image6, True Prediction is General caution",
        "width": 700
       }
      },
      "text/html": [
       "<div id=\"49558261-15bb-4d4a-b7ba-d43bbbce2329\" style=\"height: 500px; width: 700px;\" class=\"plotly-graph-div\"></div><script type=\"text/javascript\">require([\"plotly\"], function(Plotly) { window.PLOTLYENV=window.PLOTLYENV || {};window.PLOTLYENV.BASE_URL=\"https://plot.ly\";Plotly.newPlot(\"49558261-15bb-4d4a-b7ba-d43bbbce2329\", [{\"header\": {\"values\": [\"5 top Softmax\", \"Percentage%\"], \"line\": {\"color\": \"#7D7F80\"}, \"fill\": {\"color\": \"#a1c3d1\"}, \"align\": [\"left\", \"left\", \"left\", \"left\", \"left\"]}, \"cells\": {\"values\": [[\"General caution\", \"Pedestrians\", \"Right-of-way at the next intersection\", \"Traffic signals\", \"Road narrows on the right\"], [\"100.0\", \"0.0\", \"0.0\", \"0.0\", \"0.0\"]], \"line\": {\"color\": \"#7D7F80\"}, \"fill\": {\"color\": \"#EDFAFF\"}, \"align\": [\"left\", \"left\", \"left\", \"left\", \"left\"]}, \"type\": \"table\"}], {\"width\": 700, \"height\": 500, \"title\": \"Top5-Softmax for image6, True Prediction is General caution\"}, {\"linkText\": \"Export to plot.ly\", \"showLink\": true})});</script>"
      ],
      "text/vnd.plotly.v1+html": [
       "<div id=\"49558261-15bb-4d4a-b7ba-d43bbbce2329\" style=\"height: 500px; width: 700px;\" class=\"plotly-graph-div\"></div><script type=\"text/javascript\">require([\"plotly\"], function(Plotly) { window.PLOTLYENV=window.PLOTLYENV || {};window.PLOTLYENV.BASE_URL=\"https://plot.ly\";Plotly.newPlot(\"49558261-15bb-4d4a-b7ba-d43bbbce2329\", [{\"header\": {\"values\": [\"5 top Softmax\", \"Percentage%\"], \"line\": {\"color\": \"#7D7F80\"}, \"fill\": {\"color\": \"#a1c3d1\"}, \"align\": [\"left\", \"left\", \"left\", \"left\", \"left\"]}, \"cells\": {\"values\": [[\"General caution\", \"Pedestrians\", \"Right-of-way at the next intersection\", \"Traffic signals\", \"Road narrows on the right\"], [\"100.0\", \"0.0\", \"0.0\", \"0.0\", \"0.0\"]], \"line\": {\"color\": \"#7D7F80\"}, \"fill\": {\"color\": \"#EDFAFF\"}, \"align\": [\"left\", \"left\", \"left\", \"left\", \"left\"]}, \"type\": \"table\"}], {\"width\": 700, \"height\": 500, \"title\": \"Top5-Softmax for image6, True Prediction is General caution\"}, {\"linkText\": \"Export to plot.ly\", \"showLink\": true})});</script>"
      ]
     },
     "metadata": {},
     "output_type": "display_data"
    },
    {
     "data": {
      "application/vnd.plotly.v1+json": {
       "data": [
        {
         "cells": {
          "align": [
           "left",
           "left",
           "left",
           "left",
           "left"
          ],
          "fill": {
           "color": "#EDFAFF"
          },
          "line": {
           "color": "#7D7F80"
          },
          "values": [
           [
            "No passing for vehicles over 3.5 metric tons",
            "End of no passing by vehicles over 3.5 metric tons",
            "No passing",
            "Turn right ahead",
            "Speed limit (100km/h)"
           ],
           [
            "100.0",
            "0.0",
            "0.0",
            "0.0",
            "0.0"
           ]
          ]
         },
         "header": {
          "align": [
           "left",
           "left",
           "left",
           "left",
           "left"
          ],
          "fill": {
           "color": "#a1c3d1"
          },
          "line": {
           "color": "#7D7F80"
          },
          "values": [
           "5 top Softmax",
           "Percentage%"
          ]
         },
         "type": "table"
        }
       ],
       "layout": {
        "height": 500,
        "title": "Top5-Softmax for image7, True Prediction is No passing for vehicles over 3.5 metric tons",
        "width": 700
       }
      },
      "text/html": [
       "<div id=\"c001021d-e8f1-4a13-acb3-d1cbc913ddf3\" style=\"height: 500px; width: 700px;\" class=\"plotly-graph-div\"></div><script type=\"text/javascript\">require([\"plotly\"], function(Plotly) { window.PLOTLYENV=window.PLOTLYENV || {};window.PLOTLYENV.BASE_URL=\"https://plot.ly\";Plotly.newPlot(\"c001021d-e8f1-4a13-acb3-d1cbc913ddf3\", [{\"header\": {\"values\": [\"5 top Softmax\", \"Percentage%\"], \"line\": {\"color\": \"#7D7F80\"}, \"fill\": {\"color\": \"#a1c3d1\"}, \"align\": [\"left\", \"left\", \"left\", \"left\", \"left\"]}, \"cells\": {\"values\": [[\"No passing for vehicles over 3.5 metric tons\", \"End of no passing by vehicles over 3.5 metric tons\", \"No passing\", \"Turn right ahead\", \"Speed limit (100km/h)\"], [\"100.0\", \"0.0\", \"0.0\", \"0.0\", \"0.0\"]], \"line\": {\"color\": \"#7D7F80\"}, \"fill\": {\"color\": \"#EDFAFF\"}, \"align\": [\"left\", \"left\", \"left\", \"left\", \"left\"]}, \"type\": \"table\"}], {\"width\": 700, \"height\": 500, \"title\": \"Top5-Softmax for image7, True Prediction is No passing for vehicles over 3.5 metric tons\"}, {\"linkText\": \"Export to plot.ly\", \"showLink\": true})});</script>"
      ],
      "text/vnd.plotly.v1+html": [
       "<div id=\"c001021d-e8f1-4a13-acb3-d1cbc913ddf3\" style=\"height: 500px; width: 700px;\" class=\"plotly-graph-div\"></div><script type=\"text/javascript\">require([\"plotly\"], function(Plotly) { window.PLOTLYENV=window.PLOTLYENV || {};window.PLOTLYENV.BASE_URL=\"https://plot.ly\";Plotly.newPlot(\"c001021d-e8f1-4a13-acb3-d1cbc913ddf3\", [{\"header\": {\"values\": [\"5 top Softmax\", \"Percentage%\"], \"line\": {\"color\": \"#7D7F80\"}, \"fill\": {\"color\": \"#a1c3d1\"}, \"align\": [\"left\", \"left\", \"left\", \"left\", \"left\"]}, \"cells\": {\"values\": [[\"No passing for vehicles over 3.5 metric tons\", \"End of no passing by vehicles over 3.5 metric tons\", \"No passing\", \"Turn right ahead\", \"Speed limit (100km/h)\"], [\"100.0\", \"0.0\", \"0.0\", \"0.0\", \"0.0\"]], \"line\": {\"color\": \"#7D7F80\"}, \"fill\": {\"color\": \"#EDFAFF\"}, \"align\": [\"left\", \"left\", \"left\", \"left\", \"left\"]}, \"type\": \"table\"}], {\"width\": 700, \"height\": 500, \"title\": \"Top5-Softmax for image7, True Prediction is No passing for vehicles over 3.5 metric tons\"}, {\"linkText\": \"Export to plot.ly\", \"showLink\": true})});</script>"
      ]
     },
     "metadata": {},
     "output_type": "display_data"
    },
    {
     "data": {
      "application/vnd.plotly.v1+json": {
       "data": [
        {
         "cells": {
          "align": [
           "left",
           "left",
           "left",
           "left",
           "left"
          ],
          "fill": {
           "color": "#EDFAFF"
          },
          "line": {
           "color": "#7D7F80"
          },
          "values": [
           [
            "Stop",
            "Turn right ahead",
            "Road work",
            "General caution",
            "Speed limit (30km/h)"
           ],
           [
            "91.5",
            "8.4",
            "0.1",
            "0.0",
            "0.0"
           ]
          ]
         },
         "header": {
          "align": [
           "left",
           "left",
           "left",
           "left",
           "left"
          ],
          "fill": {
           "color": "#a1c3d1"
          },
          "line": {
           "color": "#7D7F80"
          },
          "values": [
           "5 top Softmax",
           "Percentage%"
          ]
         },
         "type": "table"
        }
       ],
       "layout": {
        "height": 500,
        "title": "Top5-Softmax for image8, True Prediction is Stop",
        "width": 700
       }
      },
      "text/html": [
       "<div id=\"8733fad1-fc22-4807-9956-3209d78d4108\" style=\"height: 500px; width: 700px;\" class=\"plotly-graph-div\"></div><script type=\"text/javascript\">require([\"plotly\"], function(Plotly) { window.PLOTLYENV=window.PLOTLYENV || {};window.PLOTLYENV.BASE_URL=\"https://plot.ly\";Plotly.newPlot(\"8733fad1-fc22-4807-9956-3209d78d4108\", [{\"header\": {\"values\": [\"5 top Softmax\", \"Percentage%\"], \"line\": {\"color\": \"#7D7F80\"}, \"fill\": {\"color\": \"#a1c3d1\"}, \"align\": [\"left\", \"left\", \"left\", \"left\", \"left\"]}, \"cells\": {\"values\": [[\"Stop\", \"Turn right ahead\", \"Road work\", \"General caution\", \"Speed limit (30km/h)\"], [\"91.5\", \"8.4\", \"0.1\", \"0.0\", \"0.0\"]], \"line\": {\"color\": \"#7D7F80\"}, \"fill\": {\"color\": \"#EDFAFF\"}, \"align\": [\"left\", \"left\", \"left\", \"left\", \"left\"]}, \"type\": \"table\"}], {\"width\": 700, \"height\": 500, \"title\": \"Top5-Softmax for image8, True Prediction is Stop\"}, {\"linkText\": \"Export to plot.ly\", \"showLink\": true})});</script>"
      ],
      "text/vnd.plotly.v1+html": [
       "<div id=\"8733fad1-fc22-4807-9956-3209d78d4108\" style=\"height: 500px; width: 700px;\" class=\"plotly-graph-div\"></div><script type=\"text/javascript\">require([\"plotly\"], function(Plotly) { window.PLOTLYENV=window.PLOTLYENV || {};window.PLOTLYENV.BASE_URL=\"https://plot.ly\";Plotly.newPlot(\"8733fad1-fc22-4807-9956-3209d78d4108\", [{\"header\": {\"values\": [\"5 top Softmax\", \"Percentage%\"], \"line\": {\"color\": \"#7D7F80\"}, \"fill\": {\"color\": \"#a1c3d1\"}, \"align\": [\"left\", \"left\", \"left\", \"left\", \"left\"]}, \"cells\": {\"values\": [[\"Stop\", \"Turn right ahead\", \"Road work\", \"General caution\", \"Speed limit (30km/h)\"], [\"91.5\", \"8.4\", \"0.1\", \"0.0\", \"0.0\"]], \"line\": {\"color\": \"#7D7F80\"}, \"fill\": {\"color\": \"#EDFAFF\"}, \"align\": [\"left\", \"left\", \"left\", \"left\", \"left\"]}, \"type\": \"table\"}], {\"width\": 700, \"height\": 500, \"title\": \"Top5-Softmax for image8, True Prediction is Stop\"}, {\"linkText\": \"Export to plot.ly\", \"showLink\": true})});</script>"
      ]
     },
     "metadata": {},
     "output_type": "display_data"
    },
    {
     "data": {
      "application/vnd.plotly.v1+json": {
       "data": [
        {
         "cells": {
          "align": [
           "left",
           "left",
           "left",
           "left",
           "left"
          ],
          "fill": {
           "color": "#EDFAFF"
          },
          "line": {
           "color": "#7D7F80"
          },
          "values": [
           [
            "Turn right ahead",
            "Right-of-way at the next intersection",
            "Speed limit (30km/h)",
            "Speed limit (100km/h)",
            "Stop"
           ],
           [
            "100.0",
            "0.0",
            "0.0",
            "0.0",
            "0.0"
           ]
          ]
         },
         "header": {
          "align": [
           "left",
           "left",
           "left",
           "left",
           "left"
          ],
          "fill": {
           "color": "#a1c3d1"
          },
          "line": {
           "color": "#7D7F80"
          },
          "values": [
           "5 top Softmax",
           "Percentage%"
          ]
         },
         "type": "table"
        }
       ],
       "layout": {
        "height": 500,
        "title": "Top5-Softmax for image9, True Prediction is Turn right ahead",
        "width": 700
       }
      },
      "text/html": [
       "<div id=\"8d9166e2-0ae1-4332-aff4-907b75459b56\" style=\"height: 500px; width: 700px;\" class=\"plotly-graph-div\"></div><script type=\"text/javascript\">require([\"plotly\"], function(Plotly) { window.PLOTLYENV=window.PLOTLYENV || {};window.PLOTLYENV.BASE_URL=\"https://plot.ly\";Plotly.newPlot(\"8d9166e2-0ae1-4332-aff4-907b75459b56\", [{\"header\": {\"values\": [\"5 top Softmax\", \"Percentage%\"], \"line\": {\"color\": \"#7D7F80\"}, \"fill\": {\"color\": \"#a1c3d1\"}, \"align\": [\"left\", \"left\", \"left\", \"left\", \"left\"]}, \"cells\": {\"values\": [[\"Turn right ahead\", \"Right-of-way at the next intersection\", \"Speed limit (30km/h)\", \"Speed limit (100km/h)\", \"Stop\"], [\"100.0\", \"0.0\", \"0.0\", \"0.0\", \"0.0\"]], \"line\": {\"color\": \"#7D7F80\"}, \"fill\": {\"color\": \"#EDFAFF\"}, \"align\": [\"left\", \"left\", \"left\", \"left\", \"left\"]}, \"type\": \"table\"}], {\"width\": 700, \"height\": 500, \"title\": \"Top5-Softmax for image9, True Prediction is Turn right ahead\"}, {\"linkText\": \"Export to plot.ly\", \"showLink\": true})});</script>"
      ],
      "text/vnd.plotly.v1+html": [
       "<div id=\"8d9166e2-0ae1-4332-aff4-907b75459b56\" style=\"height: 500px; width: 700px;\" class=\"plotly-graph-div\"></div><script type=\"text/javascript\">require([\"plotly\"], function(Plotly) { window.PLOTLYENV=window.PLOTLYENV || {};window.PLOTLYENV.BASE_URL=\"https://plot.ly\";Plotly.newPlot(\"8d9166e2-0ae1-4332-aff4-907b75459b56\", [{\"header\": {\"values\": [\"5 top Softmax\", \"Percentage%\"], \"line\": {\"color\": \"#7D7F80\"}, \"fill\": {\"color\": \"#a1c3d1\"}, \"align\": [\"left\", \"left\", \"left\", \"left\", \"left\"]}, \"cells\": {\"values\": [[\"Turn right ahead\", \"Right-of-way at the next intersection\", \"Speed limit (30km/h)\", \"Speed limit (100km/h)\", \"Stop\"], [\"100.0\", \"0.0\", \"0.0\", \"0.0\", \"0.0\"]], \"line\": {\"color\": \"#7D7F80\"}, \"fill\": {\"color\": \"#EDFAFF\"}, \"align\": [\"left\", \"left\", \"left\", \"left\", \"left\"]}, \"type\": \"table\"}], {\"width\": 700, \"height\": 500, \"title\": \"Top5-Softmax for image9, True Prediction is Turn right ahead\"}, {\"linkText\": \"Export to plot.ly\", \"showLink\": true})});</script>"
      ]
     },
     "metadata": {},
     "output_type": "display_data"
    },
    {
     "data": {
      "application/vnd.plotly.v1+json": {
       "data": [
        {
         "cells": {
          "align": [
           "left",
           "left",
           "left",
           "left",
           "left"
          ],
          "fill": {
           "color": "#EDFAFF"
          },
          "line": {
           "color": "#7D7F80"
          },
          "values": [
           [
            "Road work",
            "Wild animals crossing",
            "Slippery road",
            "Double curve",
            "Bicycles crossing"
           ],
           [
            "100.0",
            "0.0",
            "0.0",
            "0.0",
            "0.0"
           ]
          ]
         },
         "header": {
          "align": [
           "left",
           "left",
           "left",
           "left",
           "left"
          ],
          "fill": {
           "color": "#a1c3d1"
          },
          "line": {
           "color": "#7D7F80"
          },
          "values": [
           "5 top Softmax",
           "Percentage%"
          ]
         },
         "type": "table"
        }
       ],
       "layout": {
        "height": 500,
        "title": "Top5-Softmax for image10, True Prediction is Road work",
        "width": 700
       }
      },
      "text/html": [
       "<div id=\"1d3df861-a578-4031-acbc-5cde8117f81a\" style=\"height: 500px; width: 700px;\" class=\"plotly-graph-div\"></div><script type=\"text/javascript\">require([\"plotly\"], function(Plotly) { window.PLOTLYENV=window.PLOTLYENV || {};window.PLOTLYENV.BASE_URL=\"https://plot.ly\";Plotly.newPlot(\"1d3df861-a578-4031-acbc-5cde8117f81a\", [{\"header\": {\"values\": [\"5 top Softmax\", \"Percentage%\"], \"line\": {\"color\": \"#7D7F80\"}, \"fill\": {\"color\": \"#a1c3d1\"}, \"align\": [\"left\", \"left\", \"left\", \"left\", \"left\"]}, \"cells\": {\"values\": [[\"Road work\", \"Wild animals crossing\", \"Slippery road\", \"Double curve\", \"Bicycles crossing\"], [\"100.0\", \"0.0\", \"0.0\", \"0.0\", \"0.0\"]], \"line\": {\"color\": \"#7D7F80\"}, \"fill\": {\"color\": \"#EDFAFF\"}, \"align\": [\"left\", \"left\", \"left\", \"left\", \"left\"]}, \"type\": \"table\"}], {\"width\": 700, \"height\": 500, \"title\": \"Top5-Softmax for image10, True Prediction is Road work\"}, {\"linkText\": \"Export to plot.ly\", \"showLink\": true})});</script>"
      ],
      "text/vnd.plotly.v1+html": [
       "<div id=\"1d3df861-a578-4031-acbc-5cde8117f81a\" style=\"height: 500px; width: 700px;\" class=\"plotly-graph-div\"></div><script type=\"text/javascript\">require([\"plotly\"], function(Plotly) { window.PLOTLYENV=window.PLOTLYENV || {};window.PLOTLYENV.BASE_URL=\"https://plot.ly\";Plotly.newPlot(\"1d3df861-a578-4031-acbc-5cde8117f81a\", [{\"header\": {\"values\": [\"5 top Softmax\", \"Percentage%\"], \"line\": {\"color\": \"#7D7F80\"}, \"fill\": {\"color\": \"#a1c3d1\"}, \"align\": [\"left\", \"left\", \"left\", \"left\", \"left\"]}, \"cells\": {\"values\": [[\"Road work\", \"Wild animals crossing\", \"Slippery road\", \"Double curve\", \"Bicycles crossing\"], [\"100.0\", \"0.0\", \"0.0\", \"0.0\", \"0.0\"]], \"line\": {\"color\": \"#7D7F80\"}, \"fill\": {\"color\": \"#EDFAFF\"}, \"align\": [\"left\", \"left\", \"left\", \"left\", \"left\"]}, \"type\": \"table\"}], {\"width\": 700, \"height\": 500, \"title\": \"Top5-Softmax for image10, True Prediction is Road work\"}, {\"linkText\": \"Export to plot.ly\", \"showLink\": true})});</script>"
      ]
     },
     "metadata": {},
     "output_type": "display_data"
    },
    {
     "data": {
      "application/vnd.plotly.v1+json": {
       "data": [
        {
         "cells": {
          "align": [
           "left",
           "left",
           "left",
           "left",
           "left"
          ],
          "fill": {
           "color": "#EDFAFF"
          },
          "line": {
           "color": "#7D7F80"
          },
          "values": [
           [
            "Roundabout mandatory",
            "Priority road",
            "Children crossing",
            "Road work",
            "General caution"
           ],
           [
            "100.0",
            "0.0",
            "0.0",
            "0.0",
            "0.0"
           ]
          ]
         },
         "header": {
          "align": [
           "left",
           "left",
           "left",
           "left",
           "left"
          ],
          "fill": {
           "color": "#a1c3d1"
          },
          "line": {
           "color": "#7D7F80"
          },
          "values": [
           "5 top Softmax",
           "Percentage%"
          ]
         },
         "type": "table"
        }
       ],
       "layout": {
        "height": 500,
        "title": "Top5-Softmax for image11, True Prediction is Roundabout mandatory",
        "width": 700
       }
      },
      "text/html": [
       "<div id=\"85bf41c4-674d-445e-a593-4e9b4ba9e689\" style=\"height: 500px; width: 700px;\" class=\"plotly-graph-div\"></div><script type=\"text/javascript\">require([\"plotly\"], function(Plotly) { window.PLOTLYENV=window.PLOTLYENV || {};window.PLOTLYENV.BASE_URL=\"https://plot.ly\";Plotly.newPlot(\"85bf41c4-674d-445e-a593-4e9b4ba9e689\", [{\"header\": {\"values\": [\"5 top Softmax\", \"Percentage%\"], \"line\": {\"color\": \"#7D7F80\"}, \"fill\": {\"color\": \"#a1c3d1\"}, \"align\": [\"left\", \"left\", \"left\", \"left\", \"left\"]}, \"cells\": {\"values\": [[\"Roundabout mandatory\", \"Priority road\", \"Children crossing\", \"Road work\", \"General caution\"], [\"100.0\", \"0.0\", \"0.0\", \"0.0\", \"0.0\"]], \"line\": {\"color\": \"#7D7F80\"}, \"fill\": {\"color\": \"#EDFAFF\"}, \"align\": [\"left\", \"left\", \"left\", \"left\", \"left\"]}, \"type\": \"table\"}], {\"width\": 700, \"height\": 500, \"title\": \"Top5-Softmax for image11, True Prediction is Roundabout mandatory\"}, {\"linkText\": \"Export to plot.ly\", \"showLink\": true})});</script>"
      ],
      "text/vnd.plotly.v1+html": [
       "<div id=\"85bf41c4-674d-445e-a593-4e9b4ba9e689\" style=\"height: 500px; width: 700px;\" class=\"plotly-graph-div\"></div><script type=\"text/javascript\">require([\"plotly\"], function(Plotly) { window.PLOTLYENV=window.PLOTLYENV || {};window.PLOTLYENV.BASE_URL=\"https://plot.ly\";Plotly.newPlot(\"85bf41c4-674d-445e-a593-4e9b4ba9e689\", [{\"header\": {\"values\": [\"5 top Softmax\", \"Percentage%\"], \"line\": {\"color\": \"#7D7F80\"}, \"fill\": {\"color\": \"#a1c3d1\"}, \"align\": [\"left\", \"left\", \"left\", \"left\", \"left\"]}, \"cells\": {\"values\": [[\"Roundabout mandatory\", \"Priority road\", \"Children crossing\", \"Road work\", \"General caution\"], [\"100.0\", \"0.0\", \"0.0\", \"0.0\", \"0.0\"]], \"line\": {\"color\": \"#7D7F80\"}, \"fill\": {\"color\": \"#EDFAFF\"}, \"align\": [\"left\", \"left\", \"left\", \"left\", \"left\"]}, \"type\": \"table\"}], {\"width\": 700, \"height\": 500, \"title\": \"Top5-Softmax for image11, True Prediction is Roundabout mandatory\"}, {\"linkText\": \"Export to plot.ly\", \"showLink\": true})});</script>"
      ]
     },
     "metadata": {},
     "output_type": "display_data"
    },
    {
     "data": {
      "application/vnd.plotly.v1+json": {
       "data": [
        {
         "cells": {
          "align": [
           "left",
           "left",
           "left",
           "left",
           "left"
          ],
          "fill": {
           "color": "#EDFAFF"
          },
          "line": {
           "color": "#7D7F80"
          },
          "values": [
           [
            "Traffic signals",
            "Speed limit (30km/h)",
            "Keep right",
            "Go straight or left",
            "Speed limit (20km/h)"
           ],
           [
            "51.0",
            "49.0",
            "0.0",
            "0.0",
            "0.0"
           ]
          ]
         },
         "header": {
          "align": [
           "left",
           "left",
           "left",
           "left",
           "left"
          ],
          "fill": {
           "color": "#a1c3d1"
          },
          "line": {
           "color": "#7D7F80"
          },
          "values": [
           "5 top Softmax",
           "Percentage%"
          ]
         },
         "type": "table"
        }
       ],
       "layout": {
        "height": 500,
        "title": "Top5-Softmax for image12, True Prediction is Speed limit (20km/h)",
        "width": 700
       }
      },
      "text/html": [
       "<div id=\"c7af7e0b-29fe-44b1-a62f-f6ab6c6e65c8\" style=\"height: 500px; width: 700px;\" class=\"plotly-graph-div\"></div><script type=\"text/javascript\">require([\"plotly\"], function(Plotly) { window.PLOTLYENV=window.PLOTLYENV || {};window.PLOTLYENV.BASE_URL=\"https://plot.ly\";Plotly.newPlot(\"c7af7e0b-29fe-44b1-a62f-f6ab6c6e65c8\", [{\"header\": {\"values\": [\"5 top Softmax\", \"Percentage%\"], \"line\": {\"color\": \"#7D7F80\"}, \"fill\": {\"color\": \"#a1c3d1\"}, \"align\": [\"left\", \"left\", \"left\", \"left\", \"left\"]}, \"cells\": {\"values\": [[\"Traffic signals\", \"Speed limit (30km/h)\", \"Keep right\", \"Go straight or left\", \"Speed limit (20km/h)\"], [\"51.0\", \"49.0\", \"0.0\", \"0.0\", \"0.0\"]], \"line\": {\"color\": \"#7D7F80\"}, \"fill\": {\"color\": \"#EDFAFF\"}, \"align\": [\"left\", \"left\", \"left\", \"left\", \"left\"]}, \"type\": \"table\"}], {\"width\": 700, \"height\": 500, \"title\": \"Top5-Softmax for image12, True Prediction is Speed limit (20km/h)\"}, {\"linkText\": \"Export to plot.ly\", \"showLink\": true})});</script>"
      ],
      "text/vnd.plotly.v1+html": [
       "<div id=\"c7af7e0b-29fe-44b1-a62f-f6ab6c6e65c8\" style=\"height: 500px; width: 700px;\" class=\"plotly-graph-div\"></div><script type=\"text/javascript\">require([\"plotly\"], function(Plotly) { window.PLOTLYENV=window.PLOTLYENV || {};window.PLOTLYENV.BASE_URL=\"https://plot.ly\";Plotly.newPlot(\"c7af7e0b-29fe-44b1-a62f-f6ab6c6e65c8\", [{\"header\": {\"values\": [\"5 top Softmax\", \"Percentage%\"], \"line\": {\"color\": \"#7D7F80\"}, \"fill\": {\"color\": \"#a1c3d1\"}, \"align\": [\"left\", \"left\", \"left\", \"left\", \"left\"]}, \"cells\": {\"values\": [[\"Traffic signals\", \"Speed limit (30km/h)\", \"Keep right\", \"Go straight or left\", \"Speed limit (20km/h)\"], [\"51.0\", \"49.0\", \"0.0\", \"0.0\", \"0.0\"]], \"line\": {\"color\": \"#7D7F80\"}, \"fill\": {\"color\": \"#EDFAFF\"}, \"align\": [\"left\", \"left\", \"left\", \"left\", \"left\"]}, \"type\": \"table\"}], {\"width\": 700, \"height\": 500, \"title\": \"Top5-Softmax for image12, True Prediction is Speed limit (20km/h)\"}, {\"linkText\": \"Export to plot.ly\", \"showLink\": true})});</script>"
      ]
     },
     "metadata": {},
     "output_type": "display_data"
    },
    {
     "data": {
      "application/vnd.plotly.v1+json": {
       "data": [
        {
         "cells": {
          "align": [
           "left",
           "left",
           "left",
           "left",
           "left"
          ],
          "fill": {
           "color": "#EDFAFF"
          },
          "line": {
           "color": "#7D7F80"
          },
          "values": [
           [
            "Right-of-way at the next intersection",
            "Turn left ahead",
            "Road work",
            "Beware of ice/snow",
            "Traffic signals"
           ],
           [
            "100.0",
            "0.0",
            "0.0",
            "0.0",
            "0.0"
           ]
          ]
         },
         "header": {
          "align": [
           "left",
           "left",
           "left",
           "left",
           "left"
          ],
          "fill": {
           "color": "#a1c3d1"
          },
          "line": {
           "color": "#7D7F80"
          },
          "values": [
           "5 top Softmax",
           "Percentage%"
          ]
         },
         "type": "table"
        }
       ],
       "layout": {
        "height": 500,
        "title": "Top5-Softmax for image13, True Prediction is Children crossing",
        "width": 700
       }
      },
      "text/html": [
       "<div id=\"c3044aea-50f4-4123-b19b-4af2671c93ef\" style=\"height: 500px; width: 700px;\" class=\"plotly-graph-div\"></div><script type=\"text/javascript\">require([\"plotly\"], function(Plotly) { window.PLOTLYENV=window.PLOTLYENV || {};window.PLOTLYENV.BASE_URL=\"https://plot.ly\";Plotly.newPlot(\"c3044aea-50f4-4123-b19b-4af2671c93ef\", [{\"header\": {\"values\": [\"5 top Softmax\", \"Percentage%\"], \"line\": {\"color\": \"#7D7F80\"}, \"fill\": {\"color\": \"#a1c3d1\"}, \"align\": [\"left\", \"left\", \"left\", \"left\", \"left\"]}, \"cells\": {\"values\": [[\"Right-of-way at the next intersection\", \"Turn left ahead\", \"Road work\", \"Beware of ice/snow\", \"Traffic signals\"], [\"100.0\", \"0.0\", \"0.0\", \"0.0\", \"0.0\"]], \"line\": {\"color\": \"#7D7F80\"}, \"fill\": {\"color\": \"#EDFAFF\"}, \"align\": [\"left\", \"left\", \"left\", \"left\", \"left\"]}, \"type\": \"table\"}], {\"width\": 700, \"height\": 500, \"title\": \"Top5-Softmax for image13, True Prediction is Children crossing\"}, {\"linkText\": \"Export to plot.ly\", \"showLink\": true})});</script>"
      ],
      "text/vnd.plotly.v1+html": [
       "<div id=\"c3044aea-50f4-4123-b19b-4af2671c93ef\" style=\"height: 500px; width: 700px;\" class=\"plotly-graph-div\"></div><script type=\"text/javascript\">require([\"plotly\"], function(Plotly) { window.PLOTLYENV=window.PLOTLYENV || {};window.PLOTLYENV.BASE_URL=\"https://plot.ly\";Plotly.newPlot(\"c3044aea-50f4-4123-b19b-4af2671c93ef\", [{\"header\": {\"values\": [\"5 top Softmax\", \"Percentage%\"], \"line\": {\"color\": \"#7D7F80\"}, \"fill\": {\"color\": \"#a1c3d1\"}, \"align\": [\"left\", \"left\", \"left\", \"left\", \"left\"]}, \"cells\": {\"values\": [[\"Right-of-way at the next intersection\", \"Turn left ahead\", \"Road work\", \"Beware of ice/snow\", \"Traffic signals\"], [\"100.0\", \"0.0\", \"0.0\", \"0.0\", \"0.0\"]], \"line\": {\"color\": \"#7D7F80\"}, \"fill\": {\"color\": \"#EDFAFF\"}, \"align\": [\"left\", \"left\", \"left\", \"left\", \"left\"]}, \"type\": \"table\"}], {\"width\": 700, \"height\": 500, \"title\": \"Top5-Softmax for image13, True Prediction is Children crossing\"}, {\"linkText\": \"Export to plot.ly\", \"showLink\": true})});</script>"
      ]
     },
     "metadata": {},
     "output_type": "display_data"
    },
    {
     "data": {
      "application/vnd.plotly.v1+json": {
       "data": [
        {
         "cells": {
          "align": [
           "left",
           "left",
           "left",
           "left",
           "left"
          ],
          "fill": {
           "color": "#EDFAFF"
          },
          "line": {
           "color": "#7D7F80"
          },
          "values": [
           [
            "No entry",
            "Turn right ahead",
            "Stop",
            "No passing",
            "Priority road"
           ],
           [
            "100.0",
            "0.0",
            "0.0",
            "0.0",
            "0.0"
           ]
          ]
         },
         "header": {
          "align": [
           "left",
           "left",
           "left",
           "left",
           "left"
          ],
          "fill": {
           "color": "#a1c3d1"
          },
          "line": {
           "color": "#7D7F80"
          },
          "values": [
           "5 top Softmax",
           "Percentage%"
          ]
         },
         "type": "table"
        }
       ],
       "layout": {
        "height": 500,
        "title": "Top5-Softmax for image14, True Prediction is No entry",
        "width": 700
       }
      },
      "text/html": [
       "<div id=\"66ce5dfb-e92d-44e8-b7ca-ab229dfd89cd\" style=\"height: 500px; width: 700px;\" class=\"plotly-graph-div\"></div><script type=\"text/javascript\">require([\"plotly\"], function(Plotly) { window.PLOTLYENV=window.PLOTLYENV || {};window.PLOTLYENV.BASE_URL=\"https://plot.ly\";Plotly.newPlot(\"66ce5dfb-e92d-44e8-b7ca-ab229dfd89cd\", [{\"header\": {\"values\": [\"5 top Softmax\", \"Percentage%\"], \"line\": {\"color\": \"#7D7F80\"}, \"fill\": {\"color\": \"#a1c3d1\"}, \"align\": [\"left\", \"left\", \"left\", \"left\", \"left\"]}, \"cells\": {\"values\": [[\"No entry\", \"Turn right ahead\", \"Stop\", \"No passing\", \"Priority road\"], [\"100.0\", \"0.0\", \"0.0\", \"0.0\", \"0.0\"]], \"line\": {\"color\": \"#7D7F80\"}, \"fill\": {\"color\": \"#EDFAFF\"}, \"align\": [\"left\", \"left\", \"left\", \"left\", \"left\"]}, \"type\": \"table\"}], {\"width\": 700, \"height\": 500, \"title\": \"Top5-Softmax for image14, True Prediction is No entry\"}, {\"linkText\": \"Export to plot.ly\", \"showLink\": true})});</script>"
      ],
      "text/vnd.plotly.v1+html": [
       "<div id=\"66ce5dfb-e92d-44e8-b7ca-ab229dfd89cd\" style=\"height: 500px; width: 700px;\" class=\"plotly-graph-div\"></div><script type=\"text/javascript\">require([\"plotly\"], function(Plotly) { window.PLOTLYENV=window.PLOTLYENV || {};window.PLOTLYENV.BASE_URL=\"https://plot.ly\";Plotly.newPlot(\"66ce5dfb-e92d-44e8-b7ca-ab229dfd89cd\", [{\"header\": {\"values\": [\"5 top Softmax\", \"Percentage%\"], \"line\": {\"color\": \"#7D7F80\"}, \"fill\": {\"color\": \"#a1c3d1\"}, \"align\": [\"left\", \"left\", \"left\", \"left\", \"left\"]}, \"cells\": {\"values\": [[\"No entry\", \"Turn right ahead\", \"Stop\", \"No passing\", \"Priority road\"], [\"100.0\", \"0.0\", \"0.0\", \"0.0\", \"0.0\"]], \"line\": {\"color\": \"#7D7F80\"}, \"fill\": {\"color\": \"#EDFAFF\"}, \"align\": [\"left\", \"left\", \"left\", \"left\", \"left\"]}, \"type\": \"table\"}], {\"width\": 700, \"height\": 500, \"title\": \"Top5-Softmax for image14, True Prediction is No entry\"}, {\"linkText\": \"Export to plot.ly\", \"showLink\": true})});</script>"
      ]
     },
     "metadata": {},
     "output_type": "display_data"
    }
   ],
   "source": [
    "for i in range(14):\n",
    "    #image = sample_images[i]\n",
    "    #plt.title(labels_names[i])\n",
    "    #image = image.squeeze()\n",
    "    #plt.imshow(image)\n",
    "    trace = go.Table(\n",
    "        header=dict(values=['5 top Softmax', 'Percentage%'],\n",
    "                    line = dict(color='#7D7F80'),\n",
    "                    fill = dict(color='#a1c3d1'),\n",
    "                    align = ['left'] * 5),\n",
    "        cells=dict(values=[[ signnames[Top5Classes[i][0]][1].decode('ascii'), signnames[Top5Classes[i][1]][1].decode('ascii'), signnames[Top5Classes[i][2]][1].decode('ascii'), signnames[Top5Classes[i][3]][1].decode('ascii'), signnames[Top5Classes[i][4]][1].decode('ascii')],\n",
    "                           ['%.1f'%(Top5Percentage[i][0]*100),'%.1f'%(Top5Percentage[i][1]*100), '%.1f'%(Top5Percentage[i][2]*100), '%.1f'%(Top5Percentage[i][3]*100), '%.1f'%(Top5Percentage[i][4]*100) ]],\n",
    "                   line = dict(color='#7D7F80'),\n",
    "                   fill = dict(color='#EDFAFF'),\n",
    "                   align = ['left'] * 5))\n",
    "    layout = dict( title = 'Top5-Softmax for image{}, True Prediction is {}'.format(i+1,labels_names[i]), width=700, height=500)\n",
    "    data = [trace]\n",
    "    fig = dict(data=data, layout=layout)\n",
    "    plotly.offline.iplot(fig, filename = 'styled_table')\n"
   ]
  },
  {
   "cell_type": "markdown",
   "metadata": {
    "collapsed": true
   },
   "source": [
    "# ****Future work**\n",
    "### If I had more time for this project,  I will extract from the dataset the records per class, and augment more data for the classes which are less trained as appeared in the classes frequancies charts shown above. I have 2 approaches to try in this context:\n",
    "\n",
    "**Approach 1** : From my dataset, do more data pre-processing on those specific less trained classes then augment.\n",
    "\n",
    "**Approach 2** : From the web, go get more Traffic-signs datasets other than mine, aumgment then train.\n",
    "\n",
    "Also, both approaches could be combined for better network training."
   ]
  },
  {
   "cell_type": "markdown",
   "metadata": {
    "collapsed": true
   },
   "source": [
    "# 5- (Optional): Visualize the Neural Network's State with Test Images"
   ]
  },
  {
   "cell_type": "markdown",
   "metadata": {
    "collapsed": true
   },
   "source": [
    "Here, I will show the activations of the first 3- feature map layers for two different example inputs selected from my Random testing Images. \n",
    "\n",
    "My approach here, is choosing 2- Images, one which was correctly predicted by the network and the other which was wrongly predicted, then I will write a conclusion based on the displayed maps."
   ]
  },
  {
   "cell_type": "code",
   "execution_count": 30,
   "metadata": {},
   "outputs": [
    {
     "name": "stdout",
     "output_type": "stream",
     "text": [
      "End\n"
     ]
    }
   ],
   "source": [
    "### Visualize your network's feature maps here.\n",
    "### Feel free to use as many code cells as needed.\n",
    "\n",
    "# image_input: the test image being fed into the network to produce the feature maps\n",
    "# tf_activation: should be a tf variable name used during your training procedure that represents the calculated state of a specific weight layer\n",
    "# activation_min/max: can be used to view the activation contrast in more detail, by default matplot sets min and max to the actual min and max values of the output\n",
    "# plt_num: used to plot out multiple different weight feature map sets on the same block, just extend the plt number for each new feature map entry\n",
    "\n",
    "def outputFeatureMap(image_input, tf_activation, activation_min=-1, activation_max=-1 ,plt_num=1):\n",
    "    # Here make sure to preprocess your image_input in a way your network expects\n",
    "    # with size, normalization, ect if needed\n",
    "    # image_input =\n",
    "    # Note: x should be the same name as your network's tensorflow data placeholder variable\n",
    "    # If you get an error tf_activation is not defined it may be having trouble accessing the variable from inside a function\n",
    "    activation = tf_activation.eval(session=sess,feed_dict={x:np.reshape(image_input,[1, 32, 32, 1],order='F')})\n",
    "    featuremaps = activation.shape[3]\n",
    "    plt.figure(plt_num, figsize=(15,15))\n",
    "    for featuremap in range(featuremaps):\n",
    "        plt.subplot(6,8, featuremap+1) # sets the number of feature maps to show on each row and column\n",
    "        plt.title('FeatureMap ' + str(featuremap)) # displays the feature map number\n",
    "        if activation_min != -1 & activation_max != -1:\n",
    "            plt.imshow(activation[0,:,:, featuremap], interpolation=\"nearest\", vmin =activation_min, vmax=activation_max, cmap=\"gray\")\n",
    "        elif activation_max != -1:\n",
    "            plt.imshow(activation[0,:,:, featuremap], interpolation=\"nearest\", vmax=activation_max, cmap=\"gray\")\n",
    "        elif activation_min !=-1:\n",
    "            plt.imshow(activation[0,:,:, featuremap], interpolation=\"nearest\", vmin=activation_min, cmap=\"gray\")\n",
    "        else:\n",
    "            plt.imshow(activation[0,:,:, featuremap], interpolation=\"nearest\", cmap=\"gray\")\n",
    "\n",
    "print('End')"
   ]
  },
  {
   "cell_type": "markdown",
   "metadata": {},
   "source": [
    "### In the next sections,I will show the activations of the first two feature map layers for two different example inputs.\n",
    "\n",
    "**1) Image 1** : _ This Image was successfully predicted, where Expected = Predicted = 1(30km/h)_\n",
    "\n",
    "**2) Image 12** : _ This Image was not successfully predicted, where Expected = 0(20km/h), while predicted = 26(Traffic signals) _"
   ]
  },
  {
   "cell_type": "markdown",
   "metadata": {},
   "source": [
    "### 1)  Visualizing first 2- feature map layers for Image 1"
   ]
  },
  {
   "cell_type": "code",
   "execution_count": 31,
   "metadata": {},
   "outputs": [
    {
     "data": {
      "text/plain": [
       "<matplotlib.image.AxesImage at 0x7f01185c7588>"
      ]
     },
     "execution_count": 31,
     "metadata": {},
     "output_type": "execute_result"
    },
    {
     "data": {
      "image/png": "[encoded data removed]",
      "text/plain": [
       "<matplotlib.figure.Figure at 0x7f01185c75c0>"
      ]
     },
     "metadata": {},
     "output_type": "display_data"
    }
   ],
   "source": [
    "\n",
    "Image = sample_images_normalized[0].squeeze()\n",
    "plt.title(\"Image 1, \"+labels_names[0])\n",
    "plt.imshow(Image, cmap=\"gray\")\n",
    "\n"
   ]
  },
  {
   "cell_type": "code",
   "execution_count": 32,
   "metadata": {},
   "outputs": [
    {
     "name": "stdout",
     "output_type": "stream",
     "text": [
      "Activation of the first layer feature maps\n"
     ]
    },
    {
     "data": {
      "image/png": "[encoded data removed]",
      "text/plain": [
       "<matplotlib.figure.Figure at 0x7f01185f1ac8>"
      ]
     },
     "metadata": {},
     "output_type": "display_data"
    }
   ],
   "source": [
    "print(\"Activation of the first layer feature maps\") \n",
    "with tf.Session() as sess:\n",
    "    saver.restore(sess, tf.train.latest_checkpoint('.'))\n",
    "    conv1 = sess.graph.get_tensor_by_name('conv1:0')\n",
    "    outputFeatureMap(Image, conv1)"
   ]
  },
  {
   "cell_type": "code",
   "execution_count": 33,
   "metadata": {},
   "outputs": [
    {
     "name": "stdout",
     "output_type": "stream",
     "text": [
      "Activation of the second layer feature maps\n"
     ]
    },
    {
     "data": {
      "image/png": "[encoded data removed]",
      "text/plain": [
       "<matplotlib.figure.Figure at 0x7f017e7a7320>"
      ]
     },
     "metadata": {},
     "output_type": "display_data"
    }
   ],
   "source": [
    "print(\"Activation of the second layer feature maps\")\n",
    "with tf.Session() as sess:\n",
    "    saver.restore(sess, tf.train.latest_checkpoint('.'))\n",
    "    conv2 = sess.graph.get_tensor_by_name('conv2:0')\n",
    "    outputFeatureMap(Image, conv2, plt_num=2)"
   ]
  },
  {
   "cell_type": "markdown",
   "metadata": {},
   "source": [
    "### 2)  Visualizing first 2- feature map layers for Image 12"
   ]
  },
  {
   "cell_type": "code",
   "execution_count": 44,
   "metadata": {},
   "outputs": [
    {
     "data": {
      "text/plain": [
       "<matplotlib.image.AxesImage at 0x7f013c0fbba8>"
      ]
     },
     "execution_count": 44,
     "metadata": {},
     "output_type": "execute_result"
    },
    {
     "data": {
      "image/png": "[encoded data removed]",
      "text/plain": [
       "<matplotlib.figure.Figure at 0x7f013c0fba20>"
      ]
     },
     "metadata": {},
     "output_type": "display_data"
    }
   ],
   "source": [
    "Image = sample_images_normalized[11].squeeze()\n",
    "plt.title(\"Image 12, \"+labels_names[11])\n",
    "plt.imshow(Image, cmap=\"gray\")"
   ]
  },
  {
   "cell_type": "code",
   "execution_count": 45,
   "metadata": {},
   "outputs": [
    {
     "name": "stdout",
     "output_type": "stream",
     "text": [
      "Activation of the first layer feature maps\n"
     ]
    },
    {
     "data": {
      "image/png": "[encoded data removed]",
      "text/plain": [
       "<matplotlib.figure.Figure at 0x7f017e79b898>"
      ]
     },
     "metadata": {},
     "output_type": "display_data"
    }
   ],
   "source": [
    "print(\"Activation of the first layer feature maps\") \n",
    "with tf.Session() as sess:\n",
    "    saver.restore(sess, tf.train.latest_checkpoint('.'))\n",
    "    conv1 = sess.graph.get_tensor_by_name('conv1:0')\n",
    "    outputFeatureMap(Image, conv1)"
   ]
  },
  {
   "cell_type": "code",
   "execution_count": 46,
   "metadata": {},
   "outputs": [
    {
     "name": "stdout",
     "output_type": "stream",
     "text": [
      "Activation of the second layer feature maps\n"
     ]
    },
    {
     "data": {
      "image/png": "[encoded data removed]",
      "text/plain": [
       "<matplotlib.figure.Figure at 0x7f0119c0cef0>"
      ]
     },
     "metadata": {},
     "output_type": "display_data"
    }
   ],
   "source": [
    "print(\"Activation of the second layer feature maps\")\n",
    "with tf.Session() as sess:\n",
    "    saver.restore(sess, tf.train.latest_checkpoint('.'))\n",
    "    conv2 = sess.graph.get_tensor_by_name('conv2:0')\n",
    "    outputFeatureMap(Image, conv2, plt_num=2)"
   ]
  },
  {
   "cell_type": "markdown",
   "metadata": {},
   "source": [
    "# Extra work on Testing:\n",
    "\n",
    "In the next sections, I will test my model on an Image that never  been used in the training data, then visualize the Network layers features maps as shown above"
   ]
  },
  {
   "cell_type": "code",
   "execution_count": 60,
   "metadata": {},
   "outputs": [
    {
     "name": "stdout",
     "output_type": "stream",
     "text": [
      "Image Shape is:  (32, 32, 3)\n"
     ]
    },
    {
     "data": {
      "text/plain": [
       "<matplotlib.image.AxesImage at 0x7f011850b8d0>"
      ]
     },
     "execution_count": 60,
     "metadata": {},
     "output_type": "execute_result"
    },
    {
     "data": {
      "image/png": "[encoded data removed]",
      "text/plain": [
       "<matplotlib.figure.Figure at 0x7f0119d98940>"
      ]
     },
     "metadata": {},
     "output_type": "display_data"
    }
   ],
   "source": [
    "New_image = mpimg.imread('un_trained_test_dataset/Img1.jpg')\n",
    "label = 9 # Give it any random label, since this image already is not existing in any of the 43-classes\n",
    "label_name = 'No passing'\n",
    "print(\"Image Shape is: \", New_image.shape)\n",
    "plt.title(label_name)\n",
    "plt.imshow(New_image)\n"
   ]
  },
  {
   "cell_type": "code",
   "execution_count": 64,
   "metadata": {},
   "outputs": [
    {
     "data": {
      "text/plain": [
       "<matplotlib.image.AxesImage at 0x7f0119e06828>"
      ]
     },
     "execution_count": 64,
     "metadata": {},
     "output_type": "execute_result"
    },
    {
     "data": {
      "image/png": "[encoded data removed]",
      "text/plain": [
       "<matplotlib.figure.Figure at 0x7f0119c8ab70>"
      ]
     },
     "metadata": {},
     "output_type": "display_data"
    }
   ],
   "source": [
    "import cv2\n",
    "# Converting to grayscale then Normalize\n",
    "#New_image = np.array(New_image)\n",
    "#New_image_gray = np.sum(New_image/3, axis=3, keepdims=True)\n",
    "New_image_gray = cv2.cvtColor(New_image, cv2.COLOR_RGB2GRAY) #grayscale conversion\n",
    "New_image_normalized = (New_image_gray - 128)/128 \n",
    "X = New_image_normalized\n",
    "\n",
    "\n",
    "\n",
    "# Display the new image after Normalization from \n",
    "\n",
    "img = New_image_normalized.squeeze()\n",
    "plt.figure(figsize=(1,1))\n",
    "#plt.title(\"Image Class =  {}\".format(labels_names[index]))\n",
    "plt.imshow(img, cmap=\"gray\")\n"
   ]
  },
  {
   "cell_type": "code",
   "execution_count": 65,
   "metadata": {},
   "outputs": [
    {
     "name": "stdout",
     "output_type": "stream",
     "text": [
      " expected class is = 9 VS predicted class is = 29\n"
     ]
    }
   ],
   "source": [
    "with tf.Session() as sess:\n",
    "    saver.restore(sess, tf.train.latest_checkpoint('.'))\n",
    "    prediction = sess.run(logits, feed_dict={x:np.reshape(X,[1, 32, 32, 1],order='F')})\n",
    "    \n",
    "    print(\" expected class is = {} VS predicted class is = {}\".format( 9 , np.argmax(prediction)))\n",
    "    "
   ]
  },
  {
   "cell_type": "code",
   "execution_count": 66,
   "metadata": {},
   "outputs": [
    {
     "name": "stdout",
     "output_type": "stream",
     "text": [
      "Activation of the first layer feature maps\n"
     ]
    },
    {
     "data": {
      "image/png": "[encoded data removed]",
      "text/plain": [
       "<matplotlib.figure.Figure at 0x7f0119b8d940>"
      ]
     },
     "metadata": {},
     "output_type": "display_data"
    }
   ],
   "source": [
    "print(\"Activation of the first layer feature maps\") \n",
    "with tf.Session() as sess:\n",
    "    saver.restore(sess, tf.train.latest_checkpoint('.'))\n",
    "    conv1 = sess.graph.get_tensor_by_name('conv1:0')\n",
    "    outputFeatureMap(New_image_normalized, conv1)"
   ]
  },
  {
   "cell_type": "code",
   "execution_count": 67,
   "metadata": {},
   "outputs": [
    {
     "name": "stdout",
     "output_type": "stream",
     "text": [
      "Activation of the second layer feature maps\n"
     ]
    },
    {
     "data": {
      "image/png": "[encoded data removed]",
      "text/plain": [
       "<matplotlib.figure.Figure at 0x7f01185d42b0>"
      ]
     },
     "metadata": {},
     "output_type": "display_data"
    }
   ],
   "source": [
    "print(\"Activation of the second layer feature maps\") \n",
    "with tf.Session() as sess:\n",
    "    saver.restore(sess, tf.train.latest_checkpoint('.'))\n",
    "    conv2 = sess.graph.get_tensor_by_name('conv2:0')\n",
    "    outputFeatureMap(New_image_normalized, conv2)"
   ]
  },
  {
   "cell_type": "markdown",
   "metadata": {
    "collapsed": true
   },
   "source": [
    "## Visualizing Network layers Conclusion:\n",
    "\n",
    "As shown, In case of testing on the 2-Images that was part of the training set, the feature map activations clearly show the outlines of the signs  while in case of the last Image (CarImage is not a traffic sign trained for) the feature maps contain mostly noise. Which means that the CNN finds no useful information in this image.\n",
    "\n",
    "This shows that the Network learned to detect useful traffic signs features on its own"
   ]
  },
  {
   "cell_type": "code",
   "execution_count": null,
   "metadata": {
    "collapsed": true
   },
   "outputs": [],
   "source": []
  }
 ],
 "metadata": {
  "anaconda-cloud": {},
  "kernelspec": {
   "display_name": "Python 3",
   "language": "python",
   "name": "python3"
  },
  "language_info": {
   "codemirror_mode": {
    "name": "ipython",
    "version": 3
   },
   "file_extension": ".py",
   "mimetype": "text/x-python",
   "name": "python",
   "nbconvert_exporter": "python",
   "pygments_lexer": "ipython3",
   "version": "3.5.2"
  },
  "widgets": {
   "state": {},
   "version": "1.1.2"
  }
 },
 "nbformat": 4,
 "nbformat_minor": 1
}
